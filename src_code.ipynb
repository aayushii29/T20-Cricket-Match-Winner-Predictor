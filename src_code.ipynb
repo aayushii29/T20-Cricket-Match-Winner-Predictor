{
  "cells": [
    {
      "cell_type": "code",
      "execution_count": null,
      "metadata": {
        "colab": {
          "base_uri": "https://localhost:8080/"
        },
        "id": "eGFrogFas49F",
        "outputId": "8ed7b5c0-e569-4e80-ce39-1764625b9bee"
      },
      "outputs": [
        {
          "name": "stdout",
          "output_type": "stream",
          "text": [
            "Drive already mounted at /content/drive; to attempt to forcibly remount, call drive.mount(\"/content/drive\", force_remount=True).\n"
          ]
        }
      ],
      "source": [
        "from google.colab import drive\n",
        "drive.mount('/content/drive')"
      ]
    },
    {
      "cell_type": "code",
      "execution_count": null,
      "metadata": {
        "id": "H3FnLkgXtQqa"
      },
      "outputs": [],
      "source": [
        "import pandas as pd\n",
        "import numpy as np\n",
        "import seaborn as sn\n",
        "import matplotlib\n",
        "from matplotlib import pyplot as plt"
      ]
    },
    {
      "cell_type": "markdown",
      "metadata": {
        "id": "rkomArVSueKR"
      },
      "source": [
        "Reading from the CSVs"
      ]
    },
    {
      "cell_type": "code",
      "execution_count": null,
      "metadata": {
        "id": "V0sTVvgntw_Y"
      },
      "outputs": [],
      "source": [
        "batsman = pd.read_csv('/content/663e2b548c98c_batsman_level_scorecard (1).csv')\n",
        "bowler = pd.read_csv('/content/663e2b2c60743_bowler_level_scorecard (1).csv')\n",
        "matches = pd.read_csv('/content/663e2b6d54457_train_data_with_samplefeatures (1).csv')"
      ]
    },
    {
      "cell_type": "code",
      "execution_count": null,
      "metadata": {
        "colab": {
          "base_uri": "https://localhost:8080/"
        },
        "id": "zYyb9CV2und7",
        "outputId": "a72a9427-0ee7-42cd-ebee-f01d61b8ed9c"
      },
      "outputs": [
        {
          "output_type": "stream",
          "name": "stderr",
          "text": [
            "<ipython-input-17-c3916374cb04>:2: UserWarning: Parsing dates in %Y-%m-%d format when dayfirst=True was specified. Pass `dayfirst=False` or specify a format to silence this warning.\n",
            "  matches['match_dt'] = pd.to_datetime(matches['match_dt'], dayfirst=True, errors='coerce')\n"
          ]
        },
        {
          "output_type": "execute_result",
          "data": {
            "text/plain": [
              "Index(['match id', 'team1', 'team1_id', 'team1_roster_ids', 'team2',\n",
              "       'team2_id', 'team2_roster_ids', 'winner', 'winner_id', 'toss winner',\n",
              "       'toss decision', 'venue', 'city', 'match_dt', 'lighting', 'series_name',\n",
              "       'season', 'ground_id', 'team_count_50runs_last15', 'team_winp_last5',\n",
              "       'team1only_avg_runs_last15', 'team1_winp_team2_last15',\n",
              "       'ground_avg_runs_last15'],\n",
              "      dtype='object')"
            ]
          },
          "metadata": {},
          "execution_count": 17
        }
      ],
      "source": [
        "matches.dtypes\n",
        "matches['match_dt'] = pd.to_datetime(matches['match_dt'], dayfirst=True, errors='coerce')\n",
        "batsman['match_dt'] = pd.to_datetime(batsman['match_dt'], dayfirst=True, errors='coerce')\n",
        "bowler['match_dt'] = pd.to_datetime(bowler['match_dt'], dayfirst=True, errors='coerce')\n",
        "\n",
        "\n",
        "matches.columns"
      ]
    },
    {
      "cell_type": "markdown",
      "metadata": {
        "id": "I4W60gFy90jx"
      },
      "source": [
        "One hot encoding of day and Night"
      ]
    },
    {
      "cell_type": "code",
      "execution_count": null,
      "metadata": {
        "colab": {
          "base_uri": "https://localhost:8080/"
        },
        "id": "s3GC32Wc9yU4",
        "outputId": "aaa3b4ba-b2b8-47fe-fde2-14d7b33097a0"
      },
      "outputs": [
        {
          "output_type": "execute_result",
          "data": {
            "text/plain": [
              "Index(['match id', 'team1', 'team1_id', 'team1_roster_ids', 'team2',\n",
              "       'team2_id', 'team2_roster_ids', 'winner', 'winner_id', 'toss winner',\n",
              "       'toss decision', 'venue', 'city', 'match_dt', 'lighting', 'series_name',\n",
              "       'season', 'ground_id', 'team_count_50runs_last15', 'team_winp_last5',\n",
              "       'team1only_avg_runs_last15', 'team1_winp_team2_last15',\n",
              "       'ground_avg_runs_last15', 'lighting_day match',\n",
              "       'lighting_day/night match', 'lighting_night match'],\n",
              "      dtype='object')"
            ]
          },
          "metadata": {},
          "execution_count": 18
        }
      ],
      "source": [
        "\n",
        "lighting_dummies = pd.get_dummies(matches['lighting'], prefix='lighting')\n",
        "\n",
        "# Concatenate the original DataFrame with the new one-hot encoded columns\n",
        "matches = pd.concat([matches, lighting_dummies], axis=1)\n",
        "matches.columns"
      ]
    },
    {
      "cell_type": "code",
      "execution_count": null,
      "metadata": {
        "colab": {
          "base_uri": "https://localhost:8080/"
        },
        "id": "sQpq0zu4vAfi",
        "outputId": "e683ab8b-8606-4cde-e99a-2cdc4b496eba"
      },
      "outputs": [
        {
          "output_type": "execute_result",
          "data": {
            "text/plain": [
              "Index(['match id', 'bowler', 'bowler_id', 'bowler_details',\n",
              "       'is_bowler_captain', 'is_bowler_keeper', 'inning', 'runs',\n",
              "       'wicket_count', 'balls_bowled', 'economy', 'maiden', 'dots', 'Fours',\n",
              "       'Sixes', 'wides', 'noballs', 'match_dt', 'country', 'bat-type',\n",
              "       'ball-type'],\n",
              "      dtype='object')"
            ]
          },
          "metadata": {},
          "execution_count": 19
        }
      ],
      "source": [
        "batsman[['country', 'bat-type', 'ball-type']] = batsman['batsman_details'].str.split(':', expand=True).iloc[:, 0:3]\n",
        "bowler[['country', 'bat-type', 'ball-type']] = bowler['bowler_details'].str.split(':', expand=True).iloc[:, 0:3]\n",
        "batsman.columns\n",
        "bowler.columns"
      ]
    },
    {
      "cell_type": "code",
      "source": [
        "match_lvl_data = matches\n",
        "batsman_lvl_data= batsman\n",
        "bowler_lvl_data = bowler"
      ],
      "metadata": {
        "id": "e_5MAmf1ID0c"
      },
      "execution_count": null,
      "outputs": []
    },
    {
      "cell_type": "markdown",
      "metadata": {
        "id": "Uj-f1ks9vXOf"
      },
      "source": [
        "Average Strike Rate in last n matches"
      ]
    },
    {
      "cell_type": "code",
      "execution_count": null,
      "metadata": {
        "id": "8lxwf9P_ut9B"
      },
      "outputs": [],
      "source": [
        "def avgstrikerate(player_id, date, n):\n",
        "    # Ensure date is a pandas datetime object\n",
        "    date = pd.to_datetime(date)\n",
        "\n",
        "    # Filter and sort the DataFrame\n",
        "    filtered_df = batsman[(batsman['match_dt'] < date) & (batsman['batsman_id'] == player_id)].sort_values(by='match_dt', ascending=False).head(n)\n",
        "\n",
        "    # Calculate the mean of the 'strike_rate' column\n",
        "    mean_strike_rate = filtered_df['strike_rate'].mean()\n",
        "    return mean_strike_rate"
      ]
    },
    {
      "cell_type": "code",
      "execution_count": null,
      "metadata": {
        "id": "upyfLEUGzb-b"
      },
      "outputs": [],
      "source": [
        "def avgStrikeRateTeam(match_id, n, date, team, row):\n",
        "    # Get the list of players for the team\n",
        "    if row['team1'] == team:\n",
        "        player_list = row['team1_roster_ids']\n",
        "    else:\n",
        "        player_list = row['team2_roster_ids']\n",
        "\n",
        "    # Convert the player list from string to a list of integers\n",
        "    player_list = [int(float(x)) for x in player_list.split(':')]\n",
        "\n",
        "    count = 0\n",
        "    total_strike_rate = 0\n",
        "\n",
        "    for player_id in player_list:\n",
        "        if player_id in batsman['batsman_id'].values:\n",
        "            count += 1\n",
        "            total_strike_rate += avgstrikerate(player_id, date, n)\n",
        "\n",
        "    # Return average strike rate\n",
        "    return total_strike_rate / max(count, 1)  # Avoid division by zero\n"
      ]
    },
    {
      "cell_type": "code",
      "execution_count": null,
      "metadata": {
        "id": "XpoAAL3OAorl"
      },
      "outputs": [],
      "source": [
        "def compute_avg_strike_rate(row, n):\n",
        "    match_id = row['match id']\n",
        "    date = row['match_dt']\n",
        "    team1 = row['team1']\n",
        "    team2 = row['team2']\n",
        "\n",
        "    team1_avg_strike_rate = avgStrikeRateTeam(match_id, n, date, team1, row)\n",
        "    team2_avg_strike_rate = avgStrikeRateTeam(match_id, n, date, team2, row)\n",
        "\n",
        "    return pd.Series([team1_avg_strike_rate, team2_avg_strike_rate])"
      ]
    },
    {
      "cell_type": "markdown",
      "metadata": {
        "id": "fZ7lmCeV25nY"
      },
      "source": [
        "Win rate at that stadium in last n matches for that team"
      ]
    },
    {
      "cell_type": "code",
      "execution_count": null,
      "metadata": {
        "id": "oIbxsGni2V9k"
      },
      "outputs": [],
      "source": [
        "def avgRunsGroundTeam(ground_id, date, n, matchid):\n",
        "    '''\n",
        "    Function to calculate average runs scored in ground/venue.\n",
        "\n",
        "    Input-\n",
        "    1. ground_id: ID of the ground to calculate the feature for.\n",
        "    2. date: match date of the current game to calculate the feature for.\n",
        "    3. n: look-back window of games for the ground.\n",
        "\n",
        "    Output- None\n",
        "\n",
        "    Returns- Average runs scored in the ground.\n",
        "    '''\n",
        "    # filter out games with ground_id being the input ground_id and date earlier than current game's input date. Sort desc by date, and select top n rows (games).\n",
        "    df_rel = matches[(matches['match_dt']<pd.to_datetime(date))&(matches['ground_id']==ground_id)].sort_values(by='match_dt', ascending=False).head(n)\n",
        "    df_rel['avg_runs_inn'] = (df_rel['inning1_runs']+df_rel['inning2_runs'])/2 # take the mean of inning1_runs and inning2_runs in a separate column.\n",
        "    return df_rel['avg_runs_inn'].mean() # Return the mean value of the computed column above.\n"
      ]
    },
    {
      "cell_type": "markdown",
      "metadata": {
        "id": "nkaaT-o03MZT"
      },
      "source": [
        "Function to calculate percentage of matches won during d/n/(d/n)"
      ]
    },
    {
      "cell_type": "code",
      "execution_count": null,
      "metadata": {
        "id": "eUp_CzUf9Ttf"
      },
      "outputs": [],
      "source": [
        "def calculate_win_percentages(team_name, date, n):\n",
        "    # Convert date to pandas datetime\n",
        "    date = pd.to_datetime(date)\n",
        "\n",
        "    # Filter matches for the given team and date\n",
        "    team_matches = matches[(matches['team1'] == team_name) | (matches['team2'] == team_name)]\n",
        "    team_matches = team_matches[pd.to_datetime(team_matches['match_dt']) <= date].tail(n)\n",
        "\n",
        "    # Total matches played by the team\n",
        "    total_matches = len(team_matches)\n",
        "\n",
        "    if total_matches == 0:\n",
        "        return {'day match': 0, 'night match': 0, 'day/night match': 0}\n",
        "\n",
        "    # Initialize win counts\n",
        "    win_counts = {'day match': 0, 'night match': 0, 'day/night match': 0}\n",
        "\n",
        "    # Iterate through the filtered matches\n",
        "    for _, match in team_matches.iterrows():\n",
        "        if match['winner'] == team_name:\n",
        "            # Accessing the boolean columns directly\n",
        "            if match['lighting_day match']:\n",
        "                win_counts['day match'] += 1\n",
        "            elif match['lighting_night match']:\n",
        "                win_counts['night match'] += 1\n",
        "            elif match['lighting_day/night match']:\n",
        "                win_counts['day/night match'] += 1\n",
        "\n",
        "    # Calculate win percentages\n",
        "    win_percentages = {key: (count / total_matches) * 100 for key, count in win_counts.items()}\n",
        "\n",
        "    return win_percentages\n"
      ]
    },
    {
      "cell_type": "code",
      "execution_count": null,
      "metadata": {
        "id": "eCnDW8NqHbqj"
      },
      "outputs": [],
      "source": [
        "def compute_win_percentage(row, n):\n",
        "    match_id = row['match id']\n",
        "    date = row['match_dt']\n",
        "    team1 = row['team1']\n",
        "    team2 = row['team2']\n",
        "\n",
        "    team1_avg_win_percentage = calculate_win_percentages(team1, date, n)\n",
        "    team1_avg_win_percent = team1_avg_win_percentage[row['lighting']]\n",
        "\n",
        "    team2_avg_win_percentage = calculate_win_percentages(team2, date, n)\n",
        "    team2_avg_win_percent = team2_avg_win_percentage[row['lighting']]\n",
        "\n",
        "    return pd.Series([team1_avg_win_percent, team2_avg_win_percent])\n"
      ]
    },
    {
      "cell_type": "markdown",
      "metadata": {
        "id": "C2k4QR-G5gBD"
      },
      "source": [
        "Tester"
      ]
    },
    {
      "cell_type": "code",
      "execution_count": null,
      "metadata": {
        "colab": {
          "base_uri": "https://localhost:8080/"
        },
        "collapsed": true,
        "id": "G5t01V6B3R3-",
        "outputId": "421fa40f-b9ad-4d9e-a66b-03a35532b9ce"
      },
      "outputs": [
        {
          "output_type": "stream",
          "name": "stdout",
          "text": [
            "{'day match': 10.0, 'night match': 40.0, 'day/night match': 10.0}\n"
          ]
        },
        {
          "output_type": "stream",
          "name": "stderr",
          "text": [
            "<ipython-input-25-63c612bdb61e>:3: UserWarning: Parsing dates in %d-%m-%Y format when dayfirst=False (the default) was specified. Pass `dayfirst=True` or specify a format to silence this warning.\n",
            "  date = pd.to_datetime(date)\n"
          ]
        }
      ],
      "source": [
        "print(calculate_win_percentages('Ae Ss', '26-12-2022', 10))"
      ]
    },
    {
      "cell_type": "markdown",
      "metadata": {
        "id": "xvhNv9_qGeTP"
      },
      "source": [
        "Win ratio in direct encounters"
      ]
    },
    {
      "cell_type": "code",
      "execution_count": null,
      "metadata": {
        "id": "Qft_FeR_6Emx"
      },
      "outputs": [],
      "source": [
        "# Function to calculate win ratio between two teams before a given date\n",
        "def calculate_win_ratio( team1, team2, date):\n",
        "    # Convert date to pandas datetime\n",
        "    date = pd.to_datetime(date)\n",
        "\n",
        "    # Filter matches where team1 and team2 have played against each other before the given date\n",
        "    relevant_matches = matches[((matches['team1'] == team1) & (matches['team2'] == team2)) |\n",
        "                               ((matches['team1'] == team2) & (matches['team2'] == team1))]\n",
        "    relevant_matches = relevant_matches[pd.to_datetime(relevant_matches['match_dt']) < date]\n",
        "\n",
        "    # Total matches played between the two teams\n",
        "    total_matches = len(relevant_matches)\n",
        "\n",
        "    if total_matches == 0:\n",
        "        return  pd.Series([0, 0])\n",
        "\n",
        "    # Initialize win counts\n",
        "    win_counts = {team1: 0, team2: 0}\n",
        "    # print(relevant_matches)\n",
        "    # Iterate through the filtered matches\n",
        "    for _, match1 in relevant_matches.iterrows():\n",
        "        if match1['winner'] == team1:\n",
        "            win_counts[team1] += 1\n",
        "        elif match1['winner'] == team2:\n",
        "            win_counts[team2] += 1\n",
        "\n",
        "    # Calculate win ratios\n",
        "    win_ratio = {team: (count / total_matches) * 100 for team, count in win_counts.items()}\n",
        "\n",
        "    return pd.Series([win_ratio[team1],win_ratio[team2]])\n"
      ]
    },
    {
      "cell_type": "code",
      "execution_count": null,
      "metadata": {
        "colab": {
          "base_uri": "https://localhost:8080/"
        },
        "collapsed": true,
        "id": "5ajiA6oUGiWZ",
        "outputId": "51c89feb-ac96-4bfb-a2e8-d8537c17fd7b"
      },
      "outputs": [
        {
          "output_type": "stream",
          "name": "stdout",
          "text": [
            "0    0\n",
            "1    0\n",
            "dtype: int64\n"
          ]
        },
        {
          "output_type": "stream",
          "name": "stderr",
          "text": [
            "<ipython-input-28-65bdc09f55e7>:4: UserWarning: Parsing dates in %d-%m-%Y format when dayfirst=False (the default) was specified. Pass `dayfirst=True` or specify a format to silence this warning.\n",
            "  date = pd.to_datetime(date)\n"
          ]
        }
      ],
      "source": [
        "print(calculate_win_ratio('Ae Ss','Ph Ss', '26-12-2022'))"
      ]
    },
    {
      "cell_type": "markdown",
      "metadata": {
        "id": "6BwaiztFIQrh"
      },
      "source": [
        "%matches won on that venue"
      ]
    },
    {
      "cell_type": "code",
      "execution_count": null,
      "metadata": {
        "id": "GIw7r1NAG5Kt"
      },
      "outputs": [],
      "source": [
        "def calculate_win_percentage_ong(team, date, ground):\n",
        "    # Convert date to pandas datetime\n",
        "    date = pd.to_datetime(date, dayfirst=True, errors='coerce')\n",
        "    # print(date.year)\n",
        "    if pd.isna(date):\n",
        "        raise ValueError(\"Incorrect date format. Please provide the date in a valid format.\")\n",
        "\n",
        "    # Filter matches where the specified team played at the specified ground before the given date\n",
        "    relevant_matches = matches[((matches['team1'] == team) | (matches['team2'] == team)) & (matches['venue'] == ground) & (matches['match_dt'] < date)]\n",
        "    # print(relevant_matches)\n",
        "\n",
        "    # Total matches played by the team at the specified ground\n",
        "    total_matches = len(relevant_matches)\n",
        "    # print(total_matches)\n",
        "\n",
        "    if total_matches == 0:\n",
        "        return 0  # If no matches are found, return 0\n",
        "\n",
        "    # Count the number of wins for the specified team\n",
        "    win_count = sum(relevant_matches['winner'] == team)\n",
        "\n",
        "    # Calculate win percentage\n",
        "    win_percentage = (win_count / total_matches) * 100\n",
        "\n",
        "    return win_percentage\n"
      ]
    },
    {
      "cell_type": "code",
      "execution_count": null,
      "metadata": {
        "id": "S-NnyJthld2q"
      },
      "outputs": [],
      "source": [
        "def compute_venue(row):\n",
        "    match_id = row['match id']\n",
        "    date = row['match_dt']\n",
        "    team1 = row['team1']\n",
        "    team2 = row['team2']\n",
        "    ground= row['venue']\n",
        "    team1_venue = calculate_win_percentage_ong(team1, date, ground)\n",
        "    team2_venue = calculate_win_percentage_ong(team2, date, ground)\n",
        "\n",
        "    return pd.Series([team1_venue, team2_venue])"
      ]
    },
    {
      "cell_type": "code",
      "execution_count": null,
      "metadata": {
        "colab": {
          "base_uri": "https://localhost:8080/"
        },
        "collapsed": true,
        "id": "5hdlmkkACaHM",
        "outputId": "301f6e05-7cd9-4d16-8753-85f55fe04da3"
      },
      "outputs": [
        {
          "output_type": "stream",
          "name": "stdout",
          "text": [
            "0\n"
          ]
        }
      ],
      "source": [
        "print(calculate_win_percentage_ong('Mx', '02-06-2023','Taunton' ))"
      ]
    },
    {
      "cell_type": "markdown",
      "metadata": {
        "id": "qD1uk1PBQd3Y"
      },
      "source": [
        "Avg wicket taken by that bowler in Last n  games"
      ]
    },
    {
      "cell_type": "code",
      "execution_count": null,
      "metadata": {
        "id": "OOZymuABNfLg"
      },
      "outputs": [],
      "source": [
        "def calculate_avg_wickets( players, date, n):\n",
        "    player_id=players.split(':')\n",
        "    player_ids = [np.int64(float(id_str)) for id_str in player_id]\n",
        "    wickets=0\n",
        "    date = pd.to_datetime(date, dayfirst=True, errors='coerce')\n",
        "\n",
        "    if pd.isna(date):\n",
        "        raise ValueError(\"Incorrect date format. Please provide the date in a valid format.\")\n",
        "    for bowler_id in player_ids:\n",
        "      # Convert date to pandas datetime\n",
        "\n",
        "\n",
        "      # Filter data for the specified bowler and games before the given date\n",
        "      relevant_games = bowler[(bowler['bowler_id'] == bowler_id) &\n",
        "                                  (pd.to_datetime(bowler['match_dt'], dayfirst=True, errors='coerce') < date)]\n",
        "\n",
        "      # Sort games by date in descending order (most recent first)\n",
        "      relevant_games = relevant_games.sort_values(by='match_dt', ascending=False)\n",
        "\n",
        "      # Select the last n games\n",
        "      last_n_games = relevant_games.head(n)\n",
        "\n",
        "      # Calculate the average number of wickets\n",
        "      wickets += last_n_games['wicket_count'].sum()\n",
        "\n",
        "    return wickets/n\n"
      ]
    },
    {
      "cell_type": "code",
      "execution_count": null,
      "metadata": {
        "id": "6AKluwbBoQYi"
      },
      "outputs": [],
      "source": [
        "def compute_avg_wickets(row,n):\n",
        "    match_id = row['match id']\n",
        "    date = row['match_dt']\n",
        "    players1 = row['team1_roster_ids']\n",
        "    players2 = row['team2_roster_ids']\n",
        "    # ground= row['venue']\n",
        "    team1_venue = calculate_avg_wickets( players1, date, n)\n",
        "    team2_venue = calculate_avg_wickets( players2, date, n)\n",
        "\n",
        "    return pd.Series([team1_venue, team2_venue])"
      ]
    },
    {
      "cell_type": "code",
      "execution_count": null,
      "metadata": {
        "colab": {
          "base_uri": "https://localhost:8080/"
        },
        "id": "jSAct9S3DLJL",
        "outputId": "57bea2ce-8d40-472a-f46a-df8118513af2"
      },
      "outputs": [
        {
          "output_type": "stream",
          "name": "stdout",
          "text": [
            "6.2\n"
          ]
        }
      ],
      "source": [
        "print(calculate_avg_wickets('3220566.0:5229230.0:2082499.0:5764576.0:4005406.0:2083227.0:1482249.0:1707628.0:2538983.0:6060844.0:3973528.0','01-06-2022', 5))"
      ]
    },
    {
      "cell_type": "markdown",
      "metadata": {
        "id": "9jdGTxYBWfB6"
      },
      "source": [
        "%Win of a team till now in that season"
      ]
    },
    {
      "cell_type": "code",
      "execution_count": null,
      "metadata": {
        "id": "HL5rpKXJSke2"
      },
      "outputs": [],
      "source": [
        "def calculate_win_percentage_for_season( team, season, date):\n",
        "    # Convert date to pandas datetime\n",
        "    date = pd.to_datetime(date, dayfirst=True, errors='coerce')\n",
        "\n",
        "    if pd.isna(date):\n",
        "        raise ValueError(\"Incorrect date format. Please provide the date in a valid format.\")\n",
        "\n",
        "    # Filter matches for the specified team and season up to the given date\n",
        "    relevant_matches = matches[((matches['team1'] == team) | (matches['team2'] == team)) &\n",
        "                               (matches['season'] == season) &\n",
        "                               (pd.to_datetime(matches['match_dt'], dayfirst=True, errors='coerce') <= date)]\n",
        "\n",
        "    # Total matches played by the team in the specified season up to the given date\n",
        "    total_matches = len(relevant_matches)\n",
        "\n",
        "    if total_matches == 0:\n",
        "        return 0  # If no matches are found, return 0\n",
        "\n",
        "    # Count the number of wins for the specified team\n",
        "    win_count = sum(relevant_matches['winner'] == team)\n",
        "\n",
        "    # Calculate win percentage\n",
        "    win_percentage = (win_count / total_matches) * 100\n",
        "\n",
        "    return win_percentage\n"
      ]
    },
    {
      "cell_type": "code",
      "source": [
        "def compute_avg_win_season(row,n):\n",
        "    match_id = row['match id']\n",
        "    date = row['match_dt']\n",
        "    team1=row['team1']\n",
        "    team2=row['team2']\n",
        "    players1 = row['team1_roster_ids']\n",
        "    players2 = row['team2_roster_ids']\n",
        "    season= row['season']\n",
        "    # ground= row['venue']\n",
        "    team1_season = calculate_win_percentage_for_season( team1, season, date)\n",
        "    team2_season = calculate_win_percentage_for_season( team2, season, date)\n",
        "\n",
        "    return pd.Series([team1_season, team2_season])"
      ],
      "metadata": {
        "id": "tJL2YZxP7kBS"
      },
      "execution_count": null,
      "outputs": []
    },
    {
      "cell_type": "code",
      "execution_count": null,
      "metadata": {
        "colab": {
          "base_uri": "https://localhost:8080/"
        },
        "id": "IqCMWBnxW0KY",
        "outputId": "548569ce-af4f-4129-cae5-08e5e827b3b2"
      },
      "outputs": [
        {
          "output_type": "stream",
          "name": "stdout",
          "text": [
            "42.857142857142854\n"
          ]
        }
      ],
      "source": [
        "print(calculate_win_percentage_for_season( 'Ge', '2023', '20-06-2023'))"
      ]
    },
    {
      "cell_type": "markdown",
      "metadata": {
        "id": "6mCxwZZ8ho3E"
      },
      "source": [
        "Avg Dot balls in last n"
      ]
    },
    {
      "cell_type": "code",
      "execution_count": null,
      "metadata": {
        "id": "G6BTRtkthogR"
      },
      "outputs": [],
      "source": [
        "def avg_dot_balls_last_n_matches(n,team_id,match_date):\n",
        "    match_date=pd.to_datetime(match_date, dayfirst=True)\n",
        "    last_n_matches = matches[((matches['team1'] == team_id) | (matches['team2'] == team_id)) & ( pd.to_datetime(matches['match_dt'], dayfirst=True) < match_date)].sort_values('match_dt', ascending=False).head(n)\n",
        "    total_dots = 0\n",
        "    for _, match in last_n_matches.iterrows():  # Iterate over DataFrame rows\n",
        "        if team_id == match['team2']:\n",
        "            players = match['team1_roster_ids'].split('.0:')  # Access roster_ids from the row\n",
        "        else:\n",
        "            players = match['team2_roster_ids'].split('.0:')  # Access roster_ids from the row\n",
        "\n",
        "        int_players = [int(float(player_id)) for player_id in players if player_id.strip()]  # Convert to int\n",
        "        for player_id in int_players:\n",
        "            player_data = bowler[(bowler['bowler_id'] == player_id) & (bowler['match id'] == match['match id'])]\n",
        "            if not player_data.empty :\n",
        "              total_dots += player_data['dots'].sum()\n",
        "\n",
        "    total_dots = total_dots / n if n > 0 else 1\n",
        "    return total_dots"
      ]
    },
    {
      "cell_type": "code",
      "source": [
        "def compute_avg_dot_balls_last(row,n):\n",
        "    match_id = row['match id']\n",
        "    date = row['match_dt']\n",
        "    team1=row['team1']\n",
        "    team2=row['team2']\n",
        "    players1 = row['team1_roster_ids']\n",
        "    players2 = row['team2_roster_ids']\n",
        "    season= row['season']\n",
        "    # ground= row['venue']\n",
        "    team1_dot = avg_dot_balls_last_n_matches(n,team1,date)\n",
        "    team2_dot = avg_dot_balls_last_n_matches(n,team2,date)\n",
        "\n",
        "    return pd.Series([team1_dot, team2_dot])"
      ],
      "metadata": {
        "id": "w2UTteSSCa7v"
      },
      "execution_count": null,
      "outputs": []
    },
    {
      "cell_type": "markdown",
      "source": [
        "Win%_in_series"
      ],
      "metadata": {
        "id": "7w_0eeBvIe-2"
      }
    },
    {
      "cell_type": "code",
      "source": [
        "def extract_player_ids(match_id, team):\n",
        "    # Filter dataset for the given match id\n",
        "    match_row = match_lvl_data[match_lvl_data['match id'] == match_id].iloc[0]  # Assuming match_id is unique\n",
        "\n",
        "    # Determine which team's roster to extract based on team_id\n",
        "    if team == match_row['team1']:\n",
        "        players = match_row['team1_roster_ids'].split('.0:')  # Access roster_ids from the row\n",
        "    else:\n",
        "        players = match_row['team2_roster_ids'].split('.0:')  # Access roster_ids from the ro\n",
        "    int_players = [int(float(player_id)) for player_id in players if player_id.strip()]  # Convert to int\n",
        "    return int_players"
      ],
      "metadata": {
        "id": "ZGXyZ7P7ILGL"
      },
      "execution_count": null,
      "outputs": []
    },
    {
      "cell_type": "code",
      "execution_count": null,
      "metadata": {
        "colab": {
          "base_uri": "https://localhost:8080/"
        },
        "id": "dX5YWjYJXGBF",
        "outputId": "5ed740ee-76c1-424e-eb68-2c44a1c7f99c"
      },
      "outputs": [
        {
          "output_type": "stream",
          "name": "stdout",
          "text": [
            "35.8\n"
          ]
        }
      ],
      "source": [
        "print(avg_dot_balls_last_n_matches(5,'Mx','02-06-2023'))"
      ]
    },
    {
      "cell_type": "code",
      "source": [
        "# Feature 1 :: Ratio of win % of team 1 and team 2 in this series\n",
        "def ratio_of_win_percentage_in_series(team1,series):\n",
        "    # Filter the dataframe for the specific series\n",
        "    series_df = match_lvl_data[match_lvl_data['series_name'] == series]\n",
        "    # Count total matches the team1 participated in\n",
        "    total_matches_1 = series_df[(series_df['team1'] == team1) | (series_df['team2'] == team1)].shape[0]\n",
        "    # Count total matches the team2 participated in\n",
        "    wins1 = series_df[series_df['winner'] == team1].shape[0]\n",
        "    # Count matches won by the team2\n",
        "    # Calculate the win percentage\n",
        "    win_percentage1 = (wins1 / max(total_matches_1,1)) * 100\n",
        "\n",
        "    return win_percentage1"
      ],
      "metadata": {
        "id": "b_gz5YKoIUJv"
      },
      "execution_count": null,
      "outputs": []
    },
    {
      "cell_type": "code",
      "source": [
        "def compute_win_percent_series(row,n):\n",
        "    match_id = row['match id']\n",
        "    date = row['match_dt']\n",
        "    team1=row['team1']\n",
        "    team2=row['team2']\n",
        "    players1 = row['team1_roster_ids']\n",
        "    players2 = row['team2_roster_ids']\n",
        "    season= row['season']\n",
        "    series=row['series_name']\n",
        "    # ground= row['venue']\n",
        "    team1_series = ratio_of_win_percentage_in_series(team1,series)\n",
        "    team2_series = ratio_of_win_percentage_in_series(team2,series)\n",
        "\n",
        "    return pd.Series([team1_series, team2_series])"
      ],
      "metadata": {
        "id": "cJ8Ne8WGJtRg"
      },
      "execution_count": null,
      "outputs": []
    },
    {
      "cell_type": "markdown",
      "source": [
        "Avg_boundaries"
      ],
      "metadata": {
        "id": "ImROe73xLOQU"
      }
    },
    {
      "cell_type": "code",
      "source": [
        "def avg_boundaries_last_n_matches(n ,match_date,team_id):\n",
        "    match_date = pd.to_datetime(match_date, dayfirst=True)\n",
        "    last_n_matches = match_lvl_data[((match_lvl_data['team1'] == team_id) | (match_lvl_data['team2'] == team_id)) & (match_lvl_data['match_dt'] < match_date)].sort_values('match_dt', ascending=False).head(n)\n",
        "    total_boundaries = 0\n",
        "    for _, match in last_n_matches.iterrows():  # Iterate over DataFrame rows\n",
        "        int_players = extract_player_ids(match['match id'],team_id)  # Convert to int\n",
        "        for player_id in int_players:\n",
        "            player_data = batsman_lvl_data[(batsman_lvl_data['batsman_id'] == player_id) & (batsman_lvl_data['match id'] == match['match id'])]\n",
        "            if not player_data.empty :\n",
        "              total_boundaries += player_data['Fours'].sum()\n",
        "              total_boundaries += player_data['Sixes'].sum()\n",
        "\n",
        "    total_boundaries = total_boundaries / n if n > 0 else 1\n",
        "    return total_boundaries"
      ],
      "metadata": {
        "id": "kCaUArkDLNJV"
      },
      "execution_count": null,
      "outputs": []
    },
    {
      "cell_type": "code",
      "source": [
        "def compute_avg_boundaries(row,n):\n",
        "    match_id = row['match id']\n",
        "    date = row['match_dt']\n",
        "    team1=row['team1']\n",
        "    team2=row['team2']\n",
        "    players1 = row['team1_roster_ids']\n",
        "    players2 = row['team2_roster_ids']\n",
        "    season= row['season']\n",
        "    series=row['series_name']\n",
        "    # ground= row['venue']\n",
        "    team1_bound = avg_boundaries_last_n_matches(n , date , team1)\n",
        "    team2_bound = avg_boundaries_last_n_matches(n , date , team2)\n",
        "\n",
        "    return pd.Series([team1_bound, team2_bound])"
      ],
      "metadata": {
        "id": "ubohf_a0LSsL"
      },
      "execution_count": null,
      "outputs": []
    },
    {
      "cell_type": "markdown",
      "source": [
        "Avg runs of top3 players"
      ],
      "metadata": {
        "id": "3xax8ewIOPx0"
      }
    },
    {
      "cell_type": "code",
      "source": [
        "def avg_runs_scored_by_top3_batsman_n_matches(n ,match_date,team_id):\n",
        "    match_date = pd.to_datetime(match_date, dayfirst=True)\n",
        "    last_n_matches = match_lvl_data[((match_lvl_data['team1'] == team_id) | (match_lvl_data['team2'] == team_id)) & (match_lvl_data['match_dt'] < match_date)].sort_values('match_dt', ascending=False).head(n)\n",
        "    total_runs_top3 = 0 # Initialize total_runs_top3 to zero before incrementing\n",
        "    matches_counted = 0 # Initialize matches_counted to zero before incrementing\n",
        "    for _, match in last_n_matches.iterrows():  # Iterate over DataFrame rows\n",
        "        int_players = extract_player_ids(match['match id'],team_id)\n",
        "        match_runs = []\n",
        "        for player_id in int_players:\n",
        "            player_data = batsman_lvl_data[\n",
        "                (batsman_lvl_data['batsman_id'] == player_id) &\n",
        "                (batsman_lvl_data['match id'] == match['match id'])\n",
        "            ]\n",
        "\n",
        "            if not player_data.empty:\n",
        "                match_runs.append(player_data['runs'].sum())\n",
        "\n",
        "        if match_runs:\n",
        "            top3_runs = sorted(match_runs, reverse=True)[:3]\n",
        "            total_runs_top3 += sum(top3_runs) # Now you can safely increment\n",
        "            matches_counted += 1 # Now you can safely increment\n",
        "\n",
        "    if matches_counted > 0:\n",
        "        avg_runs_top3 = total_runs_top3 / matches_counted\n",
        "    else:\n",
        "        avg_runs_top3 = 0\n",
        "\n",
        "    return avg_runs_top3"
      ],
      "metadata": {
        "id": "tfnLNhpoOTHd"
      },
      "execution_count": null,
      "outputs": []
    },
    {
      "cell_type": "code",
      "source": [
        "def compute_avg_top3_batsman(row,n):\n",
        "    match_id = row['match id']\n",
        "    date = row['match_dt']\n",
        "    team1=row['team1']\n",
        "    team2=row['team2']\n",
        "    players1 = row['team1_roster_ids']\n",
        "    players2 = row['team2_roster_ids']\n",
        "    season= row['season']\n",
        "    series=row['series_name']\n",
        "    # ground= row['venue']\n",
        "    team1_top3 = avg_runs_scored_by_top3_batsman_n_matches(n ,date,team1)\n",
        "    team2_top3 = avg_runs_scored_by_top3_batsman_n_matches(n ,date,team2)\n",
        "\n",
        "    return pd.Series([team1_top3, team2_top3])"
      ],
      "metadata": {
        "id": "OTGv-vRLOVaL"
      },
      "execution_count": null,
      "outputs": []
    },
    {
      "cell_type": "markdown",
      "source": [
        "avg_economy"
      ],
      "metadata": {
        "id": "bxYsqcL_RhuN"
      }
    },
    {
      "cell_type": "code",
      "source": [
        "def avg_economy_rate_last_n_matches(n,team_id, date):\n",
        "    date = pd.to_datetime(date, dayfirst=True)\n",
        "    last_n_matches = match_lvl_data[((match_lvl_data['team1'] == team_id) | (match_lvl_data['team2'] == team_id)) & (match_lvl_data['match_dt'] < date)].sort_values('match_dt', ascending=False).head(n)\n",
        "    total_runs_conceded = 0\n",
        "    total_balls_bowled = 0\n",
        "    for _, match in last_n_matches.iterrows():  # Iterate over DataFrame rows\n",
        "        if team_id == match['team1']:\n",
        "            players = match['team1_roster_ids'].split('.0:')  # Access roster_ids from the row\n",
        "        else:\n",
        "            players = match['team2_roster_ids'].split('.0:')  # Access roster_ids from the row\n",
        "\n",
        "        int_players = [int(float(player_id)) for player_id in players if player_id.strip()]  # Convert to int\n",
        "        for player_id in int_players:\n",
        "            player_data = bowler_lvl_data[(bowler_lvl_data['bowler_id'] == player_id) & (bowler_lvl_data['match id'] == match['match id'])]\n",
        "            if not player_data.empty :\n",
        "                total_runs_conceded += player_data['runs'].sum()\n",
        "                total_balls_bowled += player_data['balls_bowled'].sum()\n",
        "    if total_balls_bowled > 0:\n",
        "        economy_rate = 6 * total_runs_conceded / total_balls_bowled\n",
        "    else:\n",
        "        economy_rate = 0\n",
        "\n",
        "    return economy_rate\n"
      ],
      "metadata": {
        "id": "Kmj8H0w7Rlty"
      },
      "execution_count": null,
      "outputs": []
    },
    {
      "cell_type": "code",
      "source": [
        "def compute_avg_economy(row,n):\n",
        "    match_id = row['match id']\n",
        "    date = row['match_dt']\n",
        "    team1=row['team1']\n",
        "    team2=row['team2']\n",
        "    players1 = row['team1_roster_ids']\n",
        "    players2 = row['team2_roster_ids']\n",
        "    season= row['season']\n",
        "    series=row['series_name']\n",
        "    # ground= row['venue']\n",
        "    team1_economy = avg_economy_rate_last_n_matches(n,team1, date)\n",
        "    team2_economy = avg_economy_rate_last_n_matches(n,team2, date)\n",
        "\n",
        "    return pd.Series([team1_economy, team2_economy])"
      ],
      "metadata": {
        "id": "4PerFpCYRpSq"
      },
      "execution_count": null,
      "outputs": []
    },
    {
      "cell_type": "markdown",
      "source": [
        "Toss-Win ratio"
      ],
      "metadata": {
        "id": "lW7YVARMWQUY"
      }
    },
    {
      "cell_type": "code",
      "source": [
        "def calculate_toss_win_ratio():\n",
        "    # Total matches where the toss winner is the match winner\n",
        "    matches_won_toss = matches[matches['toss winner'] == matches['winner']]\n",
        "\n",
        "    # Total matches where the toss winner is not the match winner\n",
        "    total_matches = len(matches)\n",
        "\n",
        "    # Calculate the ratio of matches won when the toss is won\n",
        "    toss_win_ratio = len(matches_won_toss) / total_matches if total_matches > 0 else 0\n",
        "\n",
        "    return toss_win_ratio"
      ],
      "metadata": {
        "id": "g8W3-AnAWTPk"
      },
      "execution_count": null,
      "outputs": []
    },
    {
      "cell_type": "code",
      "source": [
        "def assign_toss_ratio(row, toss_win_ratio):\n",
        "    if row['toss winner'] == row['team1']:\n",
        "        team1_toss = toss_win_ratio\n",
        "        team2_toss = 1 - toss_win_ratio\n",
        "    else:\n",
        "        team1_toss = 1 - toss_win_ratio\n",
        "        team2_toss = toss_win_ratio\n",
        "    return pd.Series([team1_toss, team2_toss])"
      ],
      "metadata": {
        "id": "8Hif1I-XXZHG"
      },
      "execution_count": null,
      "outputs": []
    },
    {
      "cell_type": "code",
      "execution_count": null,
      "metadata": {
        "colab": {
          "base_uri": "https://localhost:8080/"
        },
        "id": "I8KFGVUNiEcV",
        "outputId": "b1ec192c-a33f-480f-dafc-ff88e52a37bd"
      },
      "outputs": [
        {
          "output_type": "execute_result",
          "data": {
            "text/plain": [
              "Index(['match id', 'batsman', 'batsman_id', 'batsman_details',\n",
              "       'is_batsman_captain', 'is_batsman_keeper', 'inning', 'runs',\n",
              "       'balls_faced', 'over_faced_first', 'wicket kind', 'out_by_bowler',\n",
              "       'out_by_fielder', 'bowler_id', 'bowler_details', 'is_bowler_keeper',\n",
              "       'is_bowler_captain', 'strike_rate', 'Fours', 'Sixes', 'match_dt',\n",
              "       'country', 'bat-type', 'ball-type'],\n",
              "      dtype='object')"
            ]
          },
          "metadata": {},
          "execution_count": 53
        }
      ],
      "source": [
        "batsman.columns"
      ]
    },
    {
      "cell_type": "code",
      "execution_count": null,
      "metadata": {
        "colab": {
          "base_uri": "https://localhost:8080/"
        },
        "id": "eePX7b_Xrjag",
        "outputId": "3330f15e-0c1b-4cce-b9a7-57cd3395bc76"
      },
      "outputs": [
        {
          "output_type": "execute_result",
          "data": {
            "text/plain": [
              "array(['Right-arm medium-fast', 'None', 'Right-arm offbreak',\n",
              "       'Right-arm fast-medium', 'Right-arm medium',\n",
              "       'Slow left-arm orthodox', 'Left-arm fast-medium', 'Legbreak',\n",
              "       'Left-arm wrist-spin', 'Left-arm medium-fast', 'Right-arm fast',\n",
              "       'Legbreak googly', 'Left-arm medium', 'Left-arm fast',\n",
              "       'Right-arm slow-medium', 'Right-arm slow', 'Left-arm slow-medium',\n",
              "       'Left-arm slow', 'Right-arm bowler'], dtype=object)"
            ]
          },
          "metadata": {},
          "execution_count": 54
        }
      ],
      "source": [
        "batsman['ball-type']  .unique()"
      ]
    },
    {
      "cell_type": "code",
      "execution_count": null,
      "metadata": {
        "colab": {
          "base_uri": "https://localhost:8080/"
        },
        "id": "wIg9wIQlru7F",
        "outputId": "3b98289e-d524-473e-85fa-02dac1c4ed3c"
      },
      "outputs": [
        {
          "output_type": "execute_result",
          "data": {
            "text/plain": [
              "array(['Right-hand bat', 'Left-hand bat', 'None'], dtype=object)"
            ]
          },
          "metadata": {},
          "execution_count": 55
        }
      ],
      "source": [
        "batsman['bat-type']  .unique()"
      ]
    },
    {
      "cell_type": "code",
      "execution_count": null,
      "metadata": {
        "colab": {
          "base_uri": "https://localhost:8080/"
        },
        "id": "V6kWoyyEyOda",
        "outputId": "2511240f-affd-47b0-f4d4-9d7af6718a63"
      },
      "outputs": [
        {
          "output_type": "execute_result",
          "data": {
            "text/plain": [
              "array(['NZ', 'AUS', 'PAK', 'SA', 'AFG', 'ENG', 'WI', 'ITA', 'NED', 'IND',\n",
              "       'NEP', 'NAM', 'IRE', 'SL', 'ZIM', 'BAN', 'USA', 'SCOT', 'BER',\n",
              "       'UAE', 'PNG', 'OMA', 'HKG', 'JER', 'CAY', 'COK', 'GER', 'RWN',\n",
              "       'UGA', 'CZK-R', 'Aut', 'MOZ', 'GRC', 'BOT', 'BHR', 'None', 'SGP',\n",
              "       'NGA', 'KENYA', 'TAN', 'GHA', 'DEN', 'QAT', 'CAN', 'KUW', 'MAS',\n",
              "       'MWI'], dtype=object)"
            ]
          },
          "metadata": {},
          "execution_count": 56
        }
      ],
      "source": [
        "batsman['country']  .unique()"
      ]
    },
    {
      "cell_type": "code",
      "execution_count": null,
      "metadata": {
        "colab": {
          "base_uri": "https://localhost:8080/"
        },
        "collapsed": true,
        "id": "dwL9MqEMyQPM",
        "outputId": "49e8db2c-97d2-49e6-d054-3b564fd98ff7"
      },
      "outputs": [
        {
          "output_type": "stream",
          "name": "stderr",
          "text": [
            "<ipython-input-57-922052a7957e>:4: SettingWithCopyWarning: \n",
            "A value is trying to be set on a copy of a slice from a DataFrame.\n",
            "Try using .loc[row_indexer,col_indexer] = value instead\n",
            "\n",
            "See the caveats in the documentation: https://pandas.pydata.org/pandas-docs/stable/user_guide/indexing.html#returning-a-view-versus-a-copy\n",
            "  train_data_set['match_dt'] = pd.to_datetime(train_data_set['match_dt'], dayfirst=True, errors='coerce')\n"
          ]
        },
        {
          "output_type": "execute_result",
          "data": {
            "text/plain": [
              "Index(['match id', 'team1', 'team2', 'match_dt', 'winner', 'lighting',\n",
              "       'team1_roster_ids', 'team2_roster_ids', 'ground_id', 'venue', 'city',\n",
              "       'lighting_day match', 'lighting_day/night match',\n",
              "       'lighting_night match', 'season', 'series_name', 'toss winner'],\n",
              "      dtype='object')"
            ]
          },
          "metadata": {},
          "execution_count": 57
        }
      ],
      "source": [
        "train_data_set = matches[['match id', 'team1', 'team2', 'match_dt', 'winner','lighting', 'team1_roster_ids', 'team2_roster_ids', 'ground_id','venue', 'city', 'lighting_day match','lighting_day/night match', 'lighting_night match','season', 'series_name', 'toss winner']\n",
        "       ]\n",
        "n=5\n",
        "train_data_set['match_dt'] = pd.to_datetime(train_data_set['match_dt'], dayfirst=True, errors='coerce')\n",
        "train_data_set.columns\n"
      ]
    },
    {
      "cell_type": "code",
      "execution_count": null,
      "metadata": {
        "colab": {
          "base_uri": "https://localhost:8080/"
        },
        "collapsed": true,
        "id": "D4ULIGnh9fJ2",
        "outputId": "84549bae-622f-4ee7-e1d6-9a5aff4ee725"
      },
      "outputs": [
        {
          "output_type": "stream",
          "name": "stderr",
          "text": [
            "<ipython-input-58-907cf61a7e60>:1: SettingWithCopyWarning: \n",
            "A value is trying to be set on a copy of a slice from a DataFrame.\n",
            "Try using .loc[row_indexer,col_indexer] = value instead\n",
            "\n",
            "See the caveats in the documentation: https://pandas.pydata.org/pandas-docs/stable/user_guide/indexing.html#returning-a-view-versus-a-copy\n",
            "  train_data_set[['team1_avg_strike_rate', 'team2_avg_strike_rate']] = train_data_set.apply(lambda row: compute_avg_strike_rate(row, n), axis=1)\n",
            "<ipython-input-58-907cf61a7e60>:1: SettingWithCopyWarning: \n",
            "A value is trying to be set on a copy of a slice from a DataFrame.\n",
            "Try using .loc[row_indexer,col_indexer] = value instead\n",
            "\n",
            "See the caveats in the documentation: https://pandas.pydata.org/pandas-docs/stable/user_guide/indexing.html#returning-a-view-versus-a-copy\n",
            "  train_data_set[['team1_avg_strike_rate', 'team2_avg_strike_rate']] = train_data_set.apply(lambda row: compute_avg_strike_rate(row, n), axis=1)\n"
          ]
        },
        {
          "output_type": "execute_result",
          "data": {
            "text/plain": [
              "Index(['match id', 'team1', 'team2', 'match_dt', 'winner', 'lighting',\n",
              "       'team1_roster_ids', 'team2_roster_ids', 'ground_id', 'venue', 'city',\n",
              "       'lighting_day match', 'lighting_day/night match',\n",
              "       'lighting_night match', 'season', 'series_name', 'toss winner',\n",
              "       'team1_avg_strike_rate', 'team2_avg_strike_rate'],\n",
              "      dtype='object')"
            ]
          },
          "metadata": {},
          "execution_count": 58
        }
      ],
      "source": [
        "train_data_set[['team1_avg_strike_rate', 'team2_avg_strike_rate']] = train_data_set.apply(lambda row: compute_avg_strike_rate(row, n), axis=1)\n",
        "train_data_set[['team1_avg_strike_rate', 'team2_avg_strike_rate']].describe()\n",
        "train_data_set.columns"
      ]
    },
    {
      "cell_type": "code",
      "execution_count": null,
      "metadata": {
        "colab": {
          "base_uri": "https://localhost:8080/",
          "height": 547
        },
        "collapsed": true,
        "id": "Q9DRCy_4Jxnj",
        "outputId": "78c33d9d-ead9-41c1-f1de-078f7ce8cd48"
      },
      "outputs": [
        {
          "output_type": "error",
          "ename": "KeyError",
          "evalue": "'inning1_runs'",
          "traceback": [
            "\u001b[0;31m---------------------------------------------------------------------------\u001b[0m",
            "\u001b[0;31mKeyError\u001b[0m                                  Traceback (most recent call last)",
            "\u001b[0;32m/usr/local/lib/python3.10/dist-packages/pandas/core/indexes/base.py\u001b[0m in \u001b[0;36mget_loc\u001b[0;34m(self, key)\u001b[0m\n\u001b[1;32m   3652\u001b[0m         \u001b[0;32mtry\u001b[0m\u001b[0;34m:\u001b[0m\u001b[0;34m\u001b[0m\u001b[0;34m\u001b[0m\u001b[0m\n\u001b[0;32m-> 3653\u001b[0;31m             \u001b[0;32mreturn\u001b[0m \u001b[0mself\u001b[0m\u001b[0;34m.\u001b[0m\u001b[0m_engine\u001b[0m\u001b[0;34m.\u001b[0m\u001b[0mget_loc\u001b[0m\u001b[0;34m(\u001b[0m\u001b[0mcasted_key\u001b[0m\u001b[0;34m)\u001b[0m\u001b[0;34m\u001b[0m\u001b[0;34m\u001b[0m\u001b[0m\n\u001b[0m\u001b[1;32m   3654\u001b[0m         \u001b[0;32mexcept\u001b[0m \u001b[0mKeyError\u001b[0m \u001b[0;32mas\u001b[0m \u001b[0merr\u001b[0m\u001b[0;34m:\u001b[0m\u001b[0;34m\u001b[0m\u001b[0;34m\u001b[0m\u001b[0m\n",
            "\u001b[0;32m/usr/local/lib/python3.10/dist-packages/pandas/_libs/index.pyx\u001b[0m in \u001b[0;36mpandas._libs.index.IndexEngine.get_loc\u001b[0;34m()\u001b[0m\n",
            "\u001b[0;32m/usr/local/lib/python3.10/dist-packages/pandas/_libs/index.pyx\u001b[0m in \u001b[0;36mpandas._libs.index.IndexEngine.get_loc\u001b[0;34m()\u001b[0m\n",
            "\u001b[0;32mpandas/_libs/hashtable_class_helper.pxi\u001b[0m in \u001b[0;36mpandas._libs.hashtable.PyObjectHashTable.get_item\u001b[0;34m()\u001b[0m\n",
            "\u001b[0;32mpandas/_libs/hashtable_class_helper.pxi\u001b[0m in \u001b[0;36mpandas._libs.hashtable.PyObjectHashTable.get_item\u001b[0;34m()\u001b[0m\n",
            "\u001b[0;31mKeyError\u001b[0m: 'inning1_runs'",
            "\nThe above exception was the direct cause of the following exception:\n",
            "\u001b[0;31mKeyError\u001b[0m                                  Traceback (most recent call last)",
            "\u001b[0;32m<ipython-input-59-e1679b73a653>\u001b[0m in \u001b[0;36m<cell line: 2>\u001b[0;34m()\u001b[0m\n\u001b[1;32m      1\u001b[0m \u001b[0mn\u001b[0m\u001b[0;34m=\u001b[0m\u001b[0;36m5\u001b[0m\u001b[0;34m\u001b[0m\u001b[0;34m\u001b[0m\u001b[0m\n\u001b[0;32m----> 2\u001b[0;31m \u001b[0mtrain_data_set\u001b[0m\u001b[0;34m[\u001b[0m\u001b[0;34m'avg_Runs_Ground_Team'\u001b[0m\u001b[0;34m]\u001b[0m\u001b[0;34m=\u001b[0m \u001b[0mtrain_data_set\u001b[0m\u001b[0;34m.\u001b[0m\u001b[0mapply\u001b[0m\u001b[0;34m(\u001b[0m\u001b[0;32mlambda\u001b[0m \u001b[0mrow\u001b[0m\u001b[0;34m:\u001b[0m \u001b[0mavgRunsGroundTeam\u001b[0m\u001b[0;34m(\u001b[0m\u001b[0mint\u001b[0m\u001b[0;34m(\u001b[0m\u001b[0mrow\u001b[0m\u001b[0;34m[\u001b[0m\u001b[0;34m'ground_id'\u001b[0m\u001b[0;34m]\u001b[0m\u001b[0;34m)\u001b[0m\u001b[0;34m,\u001b[0m\u001b[0mrow\u001b[0m\u001b[0;34m[\u001b[0m\u001b[0;34m'match_dt'\u001b[0m\u001b[0;34m]\u001b[0m\u001b[0;34m,\u001b[0m \u001b[0mn\u001b[0m\u001b[0;34m,\u001b[0m\u001b[0mrow\u001b[0m\u001b[0;34m[\u001b[0m\u001b[0;34m'match id'\u001b[0m\u001b[0;34m]\u001b[0m\u001b[0;34m)\u001b[0m\u001b[0;34m,\u001b[0m \u001b[0maxis\u001b[0m\u001b[0;34m=\u001b[0m\u001b[0;36m1\u001b[0m\u001b[0;34m)\u001b[0m\u001b[0;34m\u001b[0m\u001b[0;34m\u001b[0m\u001b[0m\n\u001b[0m\u001b[1;32m      3\u001b[0m \u001b[0mtrain_data_set\u001b[0m\u001b[0;34m[\u001b[0m\u001b[0;34m'avg_Runs_Ground_Team'\u001b[0m\u001b[0;34m]\u001b[0m\u001b[0;34m.\u001b[0m\u001b[0mdescribe\u001b[0m\u001b[0;34m(\u001b[0m\u001b[0;34m)\u001b[0m\u001b[0;34m\u001b[0m\u001b[0;34m\u001b[0m\u001b[0m\n",
            "\u001b[0;32m/usr/local/lib/python3.10/dist-packages/pandas/core/frame.py\u001b[0m in \u001b[0;36mapply\u001b[0;34m(self, func, axis, raw, result_type, args, **kwargs)\u001b[0m\n\u001b[1;32m   9421\u001b[0m             \u001b[0mkwargs\u001b[0m\u001b[0;34m=\u001b[0m\u001b[0mkwargs\u001b[0m\u001b[0;34m,\u001b[0m\u001b[0;34m\u001b[0m\u001b[0;34m\u001b[0m\u001b[0m\n\u001b[1;32m   9422\u001b[0m         )\n\u001b[0;32m-> 9423\u001b[0;31m         \u001b[0;32mreturn\u001b[0m \u001b[0mop\u001b[0m\u001b[0;34m.\u001b[0m\u001b[0mapply\u001b[0m\u001b[0;34m(\u001b[0m\u001b[0;34m)\u001b[0m\u001b[0;34m.\u001b[0m\u001b[0m__finalize__\u001b[0m\u001b[0;34m(\u001b[0m\u001b[0mself\u001b[0m\u001b[0;34m,\u001b[0m \u001b[0mmethod\u001b[0m\u001b[0;34m=\u001b[0m\u001b[0;34m\"apply\"\u001b[0m\u001b[0;34m)\u001b[0m\u001b[0;34m\u001b[0m\u001b[0;34m\u001b[0m\u001b[0m\n\u001b[0m\u001b[1;32m   9424\u001b[0m \u001b[0;34m\u001b[0m\u001b[0m\n\u001b[1;32m   9425\u001b[0m     def applymap(\n",
            "\u001b[0;32m/usr/local/lib/python3.10/dist-packages/pandas/core/apply.py\u001b[0m in \u001b[0;36mapply\u001b[0;34m(self)\u001b[0m\n\u001b[1;32m    676\u001b[0m             \u001b[0;32mreturn\u001b[0m \u001b[0mself\u001b[0m\u001b[0;34m.\u001b[0m\u001b[0mapply_raw\u001b[0m\u001b[0;34m(\u001b[0m\u001b[0;34m)\u001b[0m\u001b[0;34m\u001b[0m\u001b[0;34m\u001b[0m\u001b[0m\n\u001b[1;32m    677\u001b[0m \u001b[0;34m\u001b[0m\u001b[0m\n\u001b[0;32m--> 678\u001b[0;31m         \u001b[0;32mreturn\u001b[0m \u001b[0mself\u001b[0m\u001b[0;34m.\u001b[0m\u001b[0mapply_standard\u001b[0m\u001b[0;34m(\u001b[0m\u001b[0;34m)\u001b[0m\u001b[0;34m\u001b[0m\u001b[0;34m\u001b[0m\u001b[0m\n\u001b[0m\u001b[1;32m    679\u001b[0m \u001b[0;34m\u001b[0m\u001b[0m\n\u001b[1;32m    680\u001b[0m     \u001b[0;32mdef\u001b[0m \u001b[0magg\u001b[0m\u001b[0;34m(\u001b[0m\u001b[0mself\u001b[0m\u001b[0;34m)\u001b[0m\u001b[0;34m:\u001b[0m\u001b[0;34m\u001b[0m\u001b[0;34m\u001b[0m\u001b[0m\n",
            "\u001b[0;32m/usr/local/lib/python3.10/dist-packages/pandas/core/apply.py\u001b[0m in \u001b[0;36mapply_standard\u001b[0;34m(self)\u001b[0m\n\u001b[1;32m    796\u001b[0m \u001b[0;34m\u001b[0m\u001b[0m\n\u001b[1;32m    797\u001b[0m     \u001b[0;32mdef\u001b[0m \u001b[0mapply_standard\u001b[0m\u001b[0;34m(\u001b[0m\u001b[0mself\u001b[0m\u001b[0;34m)\u001b[0m\u001b[0;34m:\u001b[0m\u001b[0;34m\u001b[0m\u001b[0;34m\u001b[0m\u001b[0m\n\u001b[0;32m--> 798\u001b[0;31m         \u001b[0mresults\u001b[0m\u001b[0;34m,\u001b[0m \u001b[0mres_index\u001b[0m \u001b[0;34m=\u001b[0m \u001b[0mself\u001b[0m\u001b[0;34m.\u001b[0m\u001b[0mapply_series_generator\u001b[0m\u001b[0;34m(\u001b[0m\u001b[0;34m)\u001b[0m\u001b[0;34m\u001b[0m\u001b[0;34m\u001b[0m\u001b[0m\n\u001b[0m\u001b[1;32m    799\u001b[0m \u001b[0;34m\u001b[0m\u001b[0m\n\u001b[1;32m    800\u001b[0m         \u001b[0;31m# wrap results\u001b[0m\u001b[0;34m\u001b[0m\u001b[0;34m\u001b[0m\u001b[0m\n",
            "\u001b[0;32m/usr/local/lib/python3.10/dist-packages/pandas/core/apply.py\u001b[0m in \u001b[0;36mapply_series_generator\u001b[0;34m(self)\u001b[0m\n\u001b[1;32m    812\u001b[0m             \u001b[0;32mfor\u001b[0m \u001b[0mi\u001b[0m\u001b[0;34m,\u001b[0m \u001b[0mv\u001b[0m \u001b[0;32min\u001b[0m \u001b[0menumerate\u001b[0m\u001b[0;34m(\u001b[0m\u001b[0mseries_gen\u001b[0m\u001b[0;34m)\u001b[0m\u001b[0;34m:\u001b[0m\u001b[0;34m\u001b[0m\u001b[0;34m\u001b[0m\u001b[0m\n\u001b[1;32m    813\u001b[0m                 \u001b[0;31m# ignore SettingWithCopy here in case the user mutates\u001b[0m\u001b[0;34m\u001b[0m\u001b[0;34m\u001b[0m\u001b[0m\n\u001b[0;32m--> 814\u001b[0;31m                 \u001b[0mresults\u001b[0m\u001b[0;34m[\u001b[0m\u001b[0mi\u001b[0m\u001b[0;34m]\u001b[0m \u001b[0;34m=\u001b[0m \u001b[0mself\u001b[0m\u001b[0;34m.\u001b[0m\u001b[0mf\u001b[0m\u001b[0;34m(\u001b[0m\u001b[0mv\u001b[0m\u001b[0;34m)\u001b[0m\u001b[0;34m\u001b[0m\u001b[0;34m\u001b[0m\u001b[0m\n\u001b[0m\u001b[1;32m    815\u001b[0m                 \u001b[0;32mif\u001b[0m \u001b[0misinstance\u001b[0m\u001b[0;34m(\u001b[0m\u001b[0mresults\u001b[0m\u001b[0;34m[\u001b[0m\u001b[0mi\u001b[0m\u001b[0;34m]\u001b[0m\u001b[0;34m,\u001b[0m \u001b[0mABCSeries\u001b[0m\u001b[0;34m)\u001b[0m\u001b[0;34m:\u001b[0m\u001b[0;34m\u001b[0m\u001b[0;34m\u001b[0m\u001b[0m\n\u001b[1;32m    816\u001b[0m                     \u001b[0;31m# If we have a view on v, we need to make a copy because\u001b[0m\u001b[0;34m\u001b[0m\u001b[0;34m\u001b[0m\u001b[0m\n",
            "\u001b[0;32m<ipython-input-59-e1679b73a653>\u001b[0m in \u001b[0;36m<lambda>\u001b[0;34m(row)\u001b[0m\n\u001b[1;32m      1\u001b[0m \u001b[0mn\u001b[0m\u001b[0;34m=\u001b[0m\u001b[0;36m5\u001b[0m\u001b[0;34m\u001b[0m\u001b[0;34m\u001b[0m\u001b[0m\n\u001b[0;32m----> 2\u001b[0;31m \u001b[0mtrain_data_set\u001b[0m\u001b[0;34m[\u001b[0m\u001b[0;34m'avg_Runs_Ground_Team'\u001b[0m\u001b[0;34m]\u001b[0m\u001b[0;34m=\u001b[0m \u001b[0mtrain_data_set\u001b[0m\u001b[0;34m.\u001b[0m\u001b[0mapply\u001b[0m\u001b[0;34m(\u001b[0m\u001b[0;32mlambda\u001b[0m \u001b[0mrow\u001b[0m\u001b[0;34m:\u001b[0m \u001b[0mavgRunsGroundTeam\u001b[0m\u001b[0;34m(\u001b[0m\u001b[0mint\u001b[0m\u001b[0;34m(\u001b[0m\u001b[0mrow\u001b[0m\u001b[0;34m[\u001b[0m\u001b[0;34m'ground_id'\u001b[0m\u001b[0;34m]\u001b[0m\u001b[0;34m)\u001b[0m\u001b[0;34m,\u001b[0m\u001b[0mrow\u001b[0m\u001b[0;34m[\u001b[0m\u001b[0;34m'match_dt'\u001b[0m\u001b[0;34m]\u001b[0m\u001b[0;34m,\u001b[0m \u001b[0mn\u001b[0m\u001b[0;34m,\u001b[0m\u001b[0mrow\u001b[0m\u001b[0;34m[\u001b[0m\u001b[0;34m'match id'\u001b[0m\u001b[0;34m]\u001b[0m\u001b[0;34m)\u001b[0m\u001b[0;34m,\u001b[0m \u001b[0maxis\u001b[0m\u001b[0;34m=\u001b[0m\u001b[0;36m1\u001b[0m\u001b[0;34m)\u001b[0m\u001b[0;34m\u001b[0m\u001b[0;34m\u001b[0m\u001b[0m\n\u001b[0m\u001b[1;32m      3\u001b[0m \u001b[0mtrain_data_set\u001b[0m\u001b[0;34m[\u001b[0m\u001b[0;34m'avg_Runs_Ground_Team'\u001b[0m\u001b[0;34m]\u001b[0m\u001b[0;34m.\u001b[0m\u001b[0mdescribe\u001b[0m\u001b[0;34m(\u001b[0m\u001b[0;34m)\u001b[0m\u001b[0;34m\u001b[0m\u001b[0;34m\u001b[0m\u001b[0m\n",
            "\u001b[0;32m<ipython-input-24-e8dbedeb9712>\u001b[0m in \u001b[0;36mavgRunsGroundTeam\u001b[0;34m(ground_id, date, n, matchid)\u001b[0m\n\u001b[1;32m     14\u001b[0m     \u001b[0;31m# filter out games with ground_id being the input ground_id and date earlier than current game's input date. Sort desc by date, and select top n rows (games).\u001b[0m\u001b[0;34m\u001b[0m\u001b[0;34m\u001b[0m\u001b[0m\n\u001b[1;32m     15\u001b[0m     \u001b[0mdf_rel\u001b[0m \u001b[0;34m=\u001b[0m \u001b[0mmatches\u001b[0m\u001b[0;34m[\u001b[0m\u001b[0;34m(\u001b[0m\u001b[0mmatches\u001b[0m\u001b[0;34m[\u001b[0m\u001b[0;34m'match_dt'\u001b[0m\u001b[0;34m]\u001b[0m\u001b[0;34m<\u001b[0m\u001b[0mpd\u001b[0m\u001b[0;34m.\u001b[0m\u001b[0mto_datetime\u001b[0m\u001b[0;34m(\u001b[0m\u001b[0mdate\u001b[0m\u001b[0;34m)\u001b[0m\u001b[0;34m)\u001b[0m\u001b[0;34m&\u001b[0m\u001b[0;34m(\u001b[0m\u001b[0mmatches\u001b[0m\u001b[0;34m[\u001b[0m\u001b[0;34m'ground_id'\u001b[0m\u001b[0;34m]\u001b[0m\u001b[0;34m==\u001b[0m\u001b[0mground_id\u001b[0m\u001b[0;34m)\u001b[0m\u001b[0;34m]\u001b[0m\u001b[0;34m.\u001b[0m\u001b[0msort_values\u001b[0m\u001b[0;34m(\u001b[0m\u001b[0mby\u001b[0m\u001b[0;34m=\u001b[0m\u001b[0;34m'match_dt'\u001b[0m\u001b[0;34m,\u001b[0m \u001b[0mascending\u001b[0m\u001b[0;34m=\u001b[0m\u001b[0;32mFalse\u001b[0m\u001b[0;34m)\u001b[0m\u001b[0;34m.\u001b[0m\u001b[0mhead\u001b[0m\u001b[0;34m(\u001b[0m\u001b[0mn\u001b[0m\u001b[0;34m)\u001b[0m\u001b[0;34m\u001b[0m\u001b[0;34m\u001b[0m\u001b[0m\n\u001b[0;32m---> 16\u001b[0;31m     \u001b[0mdf_rel\u001b[0m\u001b[0;34m[\u001b[0m\u001b[0;34m'avg_runs_inn'\u001b[0m\u001b[0;34m]\u001b[0m \u001b[0;34m=\u001b[0m \u001b[0;34m(\u001b[0m\u001b[0mdf_rel\u001b[0m\u001b[0;34m[\u001b[0m\u001b[0;34m'inning1_runs'\u001b[0m\u001b[0;34m]\u001b[0m\u001b[0;34m+\u001b[0m\u001b[0mdf_rel\u001b[0m\u001b[0;34m[\u001b[0m\u001b[0;34m'inning2_runs'\u001b[0m\u001b[0;34m]\u001b[0m\u001b[0;34m)\u001b[0m\u001b[0;34m/\u001b[0m\u001b[0;36m2\u001b[0m \u001b[0;31m# take the mean of inning1_runs and inning2_runs in a separate column.\u001b[0m\u001b[0;34m\u001b[0m\u001b[0;34m\u001b[0m\u001b[0m\n\u001b[0m\u001b[1;32m     17\u001b[0m     \u001b[0;32mreturn\u001b[0m \u001b[0mdf_rel\u001b[0m\u001b[0;34m[\u001b[0m\u001b[0;34m'avg_runs_inn'\u001b[0m\u001b[0;34m]\u001b[0m\u001b[0;34m.\u001b[0m\u001b[0mmean\u001b[0m\u001b[0;34m(\u001b[0m\u001b[0;34m)\u001b[0m \u001b[0;31m# Return the mean value of the computed column above.\u001b[0m\u001b[0;34m\u001b[0m\u001b[0;34m\u001b[0m\u001b[0m\n",
            "\u001b[0;32m/usr/local/lib/python3.10/dist-packages/pandas/core/frame.py\u001b[0m in \u001b[0;36m__getitem__\u001b[0;34m(self, key)\u001b[0m\n\u001b[1;32m   3759\u001b[0m             \u001b[0;32mif\u001b[0m \u001b[0mself\u001b[0m\u001b[0;34m.\u001b[0m\u001b[0mcolumns\u001b[0m\u001b[0;34m.\u001b[0m\u001b[0mnlevels\u001b[0m \u001b[0;34m>\u001b[0m \u001b[0;36m1\u001b[0m\u001b[0;34m:\u001b[0m\u001b[0;34m\u001b[0m\u001b[0;34m\u001b[0m\u001b[0m\n\u001b[1;32m   3760\u001b[0m                 \u001b[0;32mreturn\u001b[0m \u001b[0mself\u001b[0m\u001b[0;34m.\u001b[0m\u001b[0m_getitem_multilevel\u001b[0m\u001b[0;34m(\u001b[0m\u001b[0mkey\u001b[0m\u001b[0;34m)\u001b[0m\u001b[0;34m\u001b[0m\u001b[0;34m\u001b[0m\u001b[0m\n\u001b[0;32m-> 3761\u001b[0;31m             \u001b[0mindexer\u001b[0m \u001b[0;34m=\u001b[0m \u001b[0mself\u001b[0m\u001b[0;34m.\u001b[0m\u001b[0mcolumns\u001b[0m\u001b[0;34m.\u001b[0m\u001b[0mget_loc\u001b[0m\u001b[0;34m(\u001b[0m\u001b[0mkey\u001b[0m\u001b[0;34m)\u001b[0m\u001b[0;34m\u001b[0m\u001b[0;34m\u001b[0m\u001b[0m\n\u001b[0m\u001b[1;32m   3762\u001b[0m             \u001b[0;32mif\u001b[0m \u001b[0mis_integer\u001b[0m\u001b[0;34m(\u001b[0m\u001b[0mindexer\u001b[0m\u001b[0;34m)\u001b[0m\u001b[0;34m:\u001b[0m\u001b[0;34m\u001b[0m\u001b[0;34m\u001b[0m\u001b[0m\n\u001b[1;32m   3763\u001b[0m                 \u001b[0mindexer\u001b[0m \u001b[0;34m=\u001b[0m \u001b[0;34m[\u001b[0m\u001b[0mindexer\u001b[0m\u001b[0;34m]\u001b[0m\u001b[0;34m\u001b[0m\u001b[0;34m\u001b[0m\u001b[0m\n",
            "\u001b[0;32m/usr/local/lib/python3.10/dist-packages/pandas/core/indexes/base.py\u001b[0m in \u001b[0;36mget_loc\u001b[0;34m(self, key)\u001b[0m\n\u001b[1;32m   3653\u001b[0m             \u001b[0;32mreturn\u001b[0m \u001b[0mself\u001b[0m\u001b[0;34m.\u001b[0m\u001b[0m_engine\u001b[0m\u001b[0;34m.\u001b[0m\u001b[0mget_loc\u001b[0m\u001b[0;34m(\u001b[0m\u001b[0mcasted_key\u001b[0m\u001b[0;34m)\u001b[0m\u001b[0;34m\u001b[0m\u001b[0;34m\u001b[0m\u001b[0m\n\u001b[1;32m   3654\u001b[0m         \u001b[0;32mexcept\u001b[0m \u001b[0mKeyError\u001b[0m \u001b[0;32mas\u001b[0m \u001b[0merr\u001b[0m\u001b[0;34m:\u001b[0m\u001b[0;34m\u001b[0m\u001b[0;34m\u001b[0m\u001b[0m\n\u001b[0;32m-> 3655\u001b[0;31m             \u001b[0;32mraise\u001b[0m \u001b[0mKeyError\u001b[0m\u001b[0;34m(\u001b[0m\u001b[0mkey\u001b[0m\u001b[0;34m)\u001b[0m \u001b[0;32mfrom\u001b[0m \u001b[0merr\u001b[0m\u001b[0;34m\u001b[0m\u001b[0;34m\u001b[0m\u001b[0m\n\u001b[0m\u001b[1;32m   3656\u001b[0m         \u001b[0;32mexcept\u001b[0m \u001b[0mTypeError\u001b[0m\u001b[0;34m:\u001b[0m\u001b[0;34m\u001b[0m\u001b[0;34m\u001b[0m\u001b[0m\n\u001b[1;32m   3657\u001b[0m             \u001b[0;31m# If we have a listlike key, _check_indexing_error will raise\u001b[0m\u001b[0;34m\u001b[0m\u001b[0;34m\u001b[0m\u001b[0m\n",
            "\u001b[0;31mKeyError\u001b[0m: 'inning1_runs'"
          ]
        }
      ],
      "source": [
        "n=5\n",
        "train_data_set['avg_Runs_Ground_Team']= train_data_set.apply(lambda row: avgRunsGroundTeam(int(row['ground_id']),row['match_dt'], n,row['match id']), axis=1)\n",
        "train_data_set['avg_Runs_Ground_Team'].describe()"
      ]
    },
    {
      "cell_type": "code",
      "source": [
        "train_data_set.columns"
      ],
      "metadata": {
        "id": "m3tFLT6zgu9a"
      },
      "execution_count": null,
      "outputs": []
    },
    {
      "cell_type": "code",
      "execution_count": null,
      "metadata": {
        "colab": {
          "base_uri": "https://localhost:8080/",
          "height": 528
        },
        "collapsed": true,
        "id": "ZNAXkaG3Kqg4",
        "outputId": "e8621511-8b21-4535-f50f-65512cb4625d"
      },
      "outputs": [
        {
          "output_type": "stream",
          "name": "stderr",
          "text": [
            "<ipython-input-60-6093957b32f2>:1: SettingWithCopyWarning: \n",
            "A value is trying to be set on a copy of a slice from a DataFrame.\n",
            "Try using .loc[row_indexer,col_indexer] = value instead\n",
            "\n",
            "See the caveats in the documentation: https://pandas.pydata.org/pandas-docs/stable/user_guide/indexing.html#returning-a-view-versus-a-copy\n",
            "  train_data_set[['team1_avg_win_percent', 'team2_avg_win_percent']] = train_data_set.apply(lambda row: compute_win_percentage(row, n), axis=1)\n",
            "<ipython-input-60-6093957b32f2>:1: SettingWithCopyWarning: \n",
            "A value is trying to be set on a copy of a slice from a DataFrame.\n",
            "Try using .loc[row_indexer,col_indexer] = value instead\n",
            "\n",
            "See the caveats in the documentation: https://pandas.pydata.org/pandas-docs/stable/user_guide/indexing.html#returning-a-view-versus-a-copy\n",
            "  train_data_set[['team1_avg_win_percent', 'team2_avg_win_percent']] = train_data_set.apply(lambda row: compute_win_percentage(row, n), axis=1)\n"
          ]
        },
        {
          "output_type": "execute_result",
          "data": {
            "text/plain": [
              "       team1_avg_win_percent  team2_avg_win_percent\n",
              "count             948.000000             948.000000\n",
              "mean               33.350914              34.998242\n",
              "std                28.371245              28.885950\n",
              "min                 0.000000               0.000000\n",
              "25%                20.000000              20.000000\n",
              "50%                25.000000              33.333333\n",
              "75%                50.000000              50.000000\n",
              "max               100.000000             100.000000"
            ],
            "text/html": [
              "\n",
              "  <div id=\"df-ba8993f7-9b86-40d1-b4d9-183215c4ad60\" class=\"colab-df-container\">\n",
              "    <div>\n",
              "<style scoped>\n",
              "    .dataframe tbody tr th:only-of-type {\n",
              "        vertical-align: middle;\n",
              "    }\n",
              "\n",
              "    .dataframe tbody tr th {\n",
              "        vertical-align: top;\n",
              "    }\n",
              "\n",
              "    .dataframe thead th {\n",
              "        text-align: right;\n",
              "    }\n",
              "</style>\n",
              "<table border=\"1\" class=\"dataframe\">\n",
              "  <thead>\n",
              "    <tr style=\"text-align: right;\">\n",
              "      <th></th>\n",
              "      <th>team1_avg_win_percent</th>\n",
              "      <th>team2_avg_win_percent</th>\n",
              "    </tr>\n",
              "  </thead>\n",
              "  <tbody>\n",
              "    <tr>\n",
              "      <th>count</th>\n",
              "      <td>948.000000</td>\n",
              "      <td>948.000000</td>\n",
              "    </tr>\n",
              "    <tr>\n",
              "      <th>mean</th>\n",
              "      <td>33.350914</td>\n",
              "      <td>34.998242</td>\n",
              "    </tr>\n",
              "    <tr>\n",
              "      <th>std</th>\n",
              "      <td>28.371245</td>\n",
              "      <td>28.885950</td>\n",
              "    </tr>\n",
              "    <tr>\n",
              "      <th>min</th>\n",
              "      <td>0.000000</td>\n",
              "      <td>0.000000</td>\n",
              "    </tr>\n",
              "    <tr>\n",
              "      <th>25%</th>\n",
              "      <td>20.000000</td>\n",
              "      <td>20.000000</td>\n",
              "    </tr>\n",
              "    <tr>\n",
              "      <th>50%</th>\n",
              "      <td>25.000000</td>\n",
              "      <td>33.333333</td>\n",
              "    </tr>\n",
              "    <tr>\n",
              "      <th>75%</th>\n",
              "      <td>50.000000</td>\n",
              "      <td>50.000000</td>\n",
              "    </tr>\n",
              "    <tr>\n",
              "      <th>max</th>\n",
              "      <td>100.000000</td>\n",
              "      <td>100.000000</td>\n",
              "    </tr>\n",
              "  </tbody>\n",
              "</table>\n",
              "</div>\n",
              "    <div class=\"colab-df-buttons\">\n",
              "\n",
              "  <div class=\"colab-df-container\">\n",
              "    <button class=\"colab-df-convert\" onclick=\"convertToInteractive('df-ba8993f7-9b86-40d1-b4d9-183215c4ad60')\"\n",
              "            title=\"Convert this dataframe to an interactive table.\"\n",
              "            style=\"display:none;\">\n",
              "\n",
              "  <svg xmlns=\"http://www.w3.org/2000/svg\" height=\"24px\" viewBox=\"0 -960 960 960\">\n",
              "    <path d=\"M120-120v-720h720v720H120Zm60-500h600v-160H180v160Zm220 220h160v-160H400v160Zm0 220h160v-160H400v160ZM180-400h160v-160H180v160Zm440 0h160v-160H620v160ZM180-180h160v-160H180v160Zm440 0h160v-160H620v160Z\"/>\n",
              "  </svg>\n",
              "    </button>\n",
              "\n",
              "  <style>\n",
              "    .colab-df-container {\n",
              "      display:flex;\n",
              "      gap: 12px;\n",
              "    }\n",
              "\n",
              "    .colab-df-convert {\n",
              "      background-color: #E8F0FE;\n",
              "      border: none;\n",
              "      border-radius: 50%;\n",
              "      cursor: pointer;\n",
              "      display: none;\n",
              "      fill: #1967D2;\n",
              "      height: 32px;\n",
              "      padding: 0 0 0 0;\n",
              "      width: 32px;\n",
              "    }\n",
              "\n",
              "    .colab-df-convert:hover {\n",
              "      background-color: #E2EBFA;\n",
              "      box-shadow: 0px 1px 2px rgba(60, 64, 67, 0.3), 0px 1px 3px 1px rgba(60, 64, 67, 0.15);\n",
              "      fill: #174EA6;\n",
              "    }\n",
              "\n",
              "    .colab-df-buttons div {\n",
              "      margin-bottom: 4px;\n",
              "    }\n",
              "\n",
              "    [theme=dark] .colab-df-convert {\n",
              "      background-color: #3B4455;\n",
              "      fill: #D2E3FC;\n",
              "    }\n",
              "\n",
              "    [theme=dark] .colab-df-convert:hover {\n",
              "      background-color: #434B5C;\n",
              "      box-shadow: 0px 1px 3px 1px rgba(0, 0, 0, 0.15);\n",
              "      filter: drop-shadow(0px 1px 2px rgba(0, 0, 0, 0.3));\n",
              "      fill: #FFFFFF;\n",
              "    }\n",
              "  </style>\n",
              "\n",
              "    <script>\n",
              "      const buttonEl =\n",
              "        document.querySelector('#df-ba8993f7-9b86-40d1-b4d9-183215c4ad60 button.colab-df-convert');\n",
              "      buttonEl.style.display =\n",
              "        google.colab.kernel.accessAllowed ? 'block' : 'none';\n",
              "\n",
              "      async function convertToInteractive(key) {\n",
              "        const element = document.querySelector('#df-ba8993f7-9b86-40d1-b4d9-183215c4ad60');\n",
              "        const dataTable =\n",
              "          await google.colab.kernel.invokeFunction('convertToInteractive',\n",
              "                                                    [key], {});\n",
              "        if (!dataTable) return;\n",
              "\n",
              "        const docLinkHtml = 'Like what you see? Visit the ' +\n",
              "          '<a target=\"_blank\" href=https://colab.research.google.com/notebooks/data_table.ipynb>data table notebook</a>'\n",
              "          + ' to learn more about interactive tables.';\n",
              "        element.innerHTML = '';\n",
              "        dataTable['output_type'] = 'display_data';\n",
              "        await google.colab.output.renderOutput(dataTable, element);\n",
              "        const docLink = document.createElement('div');\n",
              "        docLink.innerHTML = docLinkHtml;\n",
              "        element.appendChild(docLink);\n",
              "      }\n",
              "    </script>\n",
              "  </div>\n",
              "\n",
              "\n",
              "<div id=\"df-32c18236-ed12-4c2f-a4fa-12590e85bec2\">\n",
              "  <button class=\"colab-df-quickchart\" onclick=\"quickchart('df-32c18236-ed12-4c2f-a4fa-12590e85bec2')\"\n",
              "            title=\"Suggest charts\"\n",
              "            style=\"display:none;\">\n",
              "\n",
              "<svg xmlns=\"http://www.w3.org/2000/svg\" height=\"24px\"viewBox=\"0 0 24 24\"\n",
              "     width=\"24px\">\n",
              "    <g>\n",
              "        <path d=\"M19 3H5c-1.1 0-2 .9-2 2v14c0 1.1.9 2 2 2h14c1.1 0 2-.9 2-2V5c0-1.1-.9-2-2-2zM9 17H7v-7h2v7zm4 0h-2V7h2v10zm4 0h-2v-4h2v4z\"/>\n",
              "    </g>\n",
              "</svg>\n",
              "  </button>\n",
              "\n",
              "<style>\n",
              "  .colab-df-quickchart {\n",
              "      --bg-color: #E8F0FE;\n",
              "      --fill-color: #1967D2;\n",
              "      --hover-bg-color: #E2EBFA;\n",
              "      --hover-fill-color: #174EA6;\n",
              "      --disabled-fill-color: #AAA;\n",
              "      --disabled-bg-color: #DDD;\n",
              "  }\n",
              "\n",
              "  [theme=dark] .colab-df-quickchart {\n",
              "      --bg-color: #3B4455;\n",
              "      --fill-color: #D2E3FC;\n",
              "      --hover-bg-color: #434B5C;\n",
              "      --hover-fill-color: #FFFFFF;\n",
              "      --disabled-bg-color: #3B4455;\n",
              "      --disabled-fill-color: #666;\n",
              "  }\n",
              "\n",
              "  .colab-df-quickchart {\n",
              "    background-color: var(--bg-color);\n",
              "    border: none;\n",
              "    border-radius: 50%;\n",
              "    cursor: pointer;\n",
              "    display: none;\n",
              "    fill: var(--fill-color);\n",
              "    height: 32px;\n",
              "    padding: 0;\n",
              "    width: 32px;\n",
              "  }\n",
              "\n",
              "  .colab-df-quickchart:hover {\n",
              "    background-color: var(--hover-bg-color);\n",
              "    box-shadow: 0 1px 2px rgba(60, 64, 67, 0.3), 0 1px 3px 1px rgba(60, 64, 67, 0.15);\n",
              "    fill: var(--button-hover-fill-color);\n",
              "  }\n",
              "\n",
              "  .colab-df-quickchart-complete:disabled,\n",
              "  .colab-df-quickchart-complete:disabled:hover {\n",
              "    background-color: var(--disabled-bg-color);\n",
              "    fill: var(--disabled-fill-color);\n",
              "    box-shadow: none;\n",
              "  }\n",
              "\n",
              "  .colab-df-spinner {\n",
              "    border: 2px solid var(--fill-color);\n",
              "    border-color: transparent;\n",
              "    border-bottom-color: var(--fill-color);\n",
              "    animation:\n",
              "      spin 1s steps(1) infinite;\n",
              "  }\n",
              "\n",
              "  @keyframes spin {\n",
              "    0% {\n",
              "      border-color: transparent;\n",
              "      border-bottom-color: var(--fill-color);\n",
              "      border-left-color: var(--fill-color);\n",
              "    }\n",
              "    20% {\n",
              "      border-color: transparent;\n",
              "      border-left-color: var(--fill-color);\n",
              "      border-top-color: var(--fill-color);\n",
              "    }\n",
              "    30% {\n",
              "      border-color: transparent;\n",
              "      border-left-color: var(--fill-color);\n",
              "      border-top-color: var(--fill-color);\n",
              "      border-right-color: var(--fill-color);\n",
              "    }\n",
              "    40% {\n",
              "      border-color: transparent;\n",
              "      border-right-color: var(--fill-color);\n",
              "      border-top-color: var(--fill-color);\n",
              "    }\n",
              "    60% {\n",
              "      border-color: transparent;\n",
              "      border-right-color: var(--fill-color);\n",
              "    }\n",
              "    80% {\n",
              "      border-color: transparent;\n",
              "      border-right-color: var(--fill-color);\n",
              "      border-bottom-color: var(--fill-color);\n",
              "    }\n",
              "    90% {\n",
              "      border-color: transparent;\n",
              "      border-bottom-color: var(--fill-color);\n",
              "    }\n",
              "  }\n",
              "</style>\n",
              "\n",
              "  <script>\n",
              "    async function quickchart(key) {\n",
              "      const quickchartButtonEl =\n",
              "        document.querySelector('#' + key + ' button');\n",
              "      quickchartButtonEl.disabled = true;  // To prevent multiple clicks.\n",
              "      quickchartButtonEl.classList.add('colab-df-spinner');\n",
              "      try {\n",
              "        const charts = await google.colab.kernel.invokeFunction(\n",
              "            'suggestCharts', [key], {});\n",
              "      } catch (error) {\n",
              "        console.error('Error during call to suggestCharts:', error);\n",
              "      }\n",
              "      quickchartButtonEl.classList.remove('colab-df-spinner');\n",
              "      quickchartButtonEl.classList.add('colab-df-quickchart-complete');\n",
              "    }\n",
              "    (() => {\n",
              "      let quickchartButtonEl =\n",
              "        document.querySelector('#df-32c18236-ed12-4c2f-a4fa-12590e85bec2 button');\n",
              "      quickchartButtonEl.style.display =\n",
              "        google.colab.kernel.accessAllowed ? 'block' : 'none';\n",
              "    })();\n",
              "  </script>\n",
              "</div>\n",
              "\n",
              "    </div>\n",
              "  </div>\n"
            ],
            "application/vnd.google.colaboratory.intrinsic+json": {
              "type": "dataframe",
              "summary": "{\n  \"name\": \"train_data_set[['team1_avg_win_percent', 'team2_avg_win_percent']]\",\n  \"rows\": 8,\n  \"fields\": [\n    {\n      \"column\": \"team1_avg_win_percent\",\n      \"properties\": {\n        \"dtype\": \"number\",\n        \"std\": 323.535552463275,\n        \"min\": 0.0,\n        \"max\": 948.0,\n        \"num_unique_values\": 8,\n        \"samples\": [\n          33.35091420534458,\n          25.0,\n          948.0\n        ],\n        \"semantic_type\": \"\",\n        \"description\": \"\"\n      }\n    },\n    {\n      \"column\": \"team2_avg_win_percent\",\n      \"properties\": {\n        \"dtype\": \"number\",\n        \"std\": 322.97283875078483,\n        \"min\": 0.0,\n        \"max\": 948.0,\n        \"num_unique_values\": 8,\n        \"samples\": [\n          34.99824191279887,\n          33.33333333333333,\n          948.0\n        ],\n        \"semantic_type\": \"\",\n        \"description\": \"\"\n      }\n    }\n  ]\n}"
            }
          },
          "metadata": {},
          "execution_count": 60
        }
      ],
      "source": [
        "train_data_set[['team1_avg_win_percent', 'team2_avg_win_percent']] = train_data_set.apply(lambda row: compute_win_percentage(row, n), axis=1)\n",
        "train_data_set[['team1_avg_win_percent', 'team2_avg_win_percent']].describe()"
      ]
    },
    {
      "cell_type": "code",
      "execution_count": null,
      "metadata": {
        "colab": {
          "base_uri": "https://localhost:8080/"
        },
        "id": "k7tcXS1eIIJs",
        "outputId": "18c49c72-38a5-41bd-e27e-97e014135b87"
      },
      "outputs": [
        {
          "output_type": "stream",
          "name": "stderr",
          "text": [
            "<ipython-input-61-0e57f3128cd1>:1: SettingWithCopyWarning: \n",
            "A value is trying to be set on a copy of a slice from a DataFrame.\n",
            "Try using .loc[row_indexer,col_indexer] = value instead\n",
            "\n",
            "See the caveats in the documentation: https://pandas.pydata.org/pandas-docs/stable/user_guide/indexing.html#returning-a-view-versus-a-copy\n",
            "  train_data_set[['direct_ecounter_1', 'direct_ecounter_2']] = train_data_set.apply(lambda row: calculate_win_ratio(row['team1'], row['team2'], row['match_dt']), axis=1)\n",
            "<ipython-input-61-0e57f3128cd1>:1: SettingWithCopyWarning: \n",
            "A value is trying to be set on a copy of a slice from a DataFrame.\n",
            "Try using .loc[row_indexer,col_indexer] = value instead\n",
            "\n",
            "See the caveats in the documentation: https://pandas.pydata.org/pandas-docs/stable/user_guide/indexing.html#returning-a-view-versus-a-copy\n",
            "  train_data_set[['direct_ecounter_1', 'direct_ecounter_2']] = train_data_set.apply(lambda row: calculate_win_ratio(row['team1'], row['team2'], row['match_dt']), axis=1)\n"
          ]
        },
        {
          "output_type": "execute_result",
          "data": {
            "text/plain": [
              "count    948.000000\n",
              "mean      28.236970\n",
              "std       41.006966\n",
              "min        0.000000\n",
              "25%        0.000000\n",
              "50%        0.000000\n",
              "75%       50.000000\n",
              "max      100.000000\n",
              "Name: direct_ecounter_1, dtype: float64"
            ]
          },
          "metadata": {},
          "execution_count": 61
        }
      ],
      "source": [
        "train_data_set[['direct_ecounter_1', 'direct_ecounter_2']] = train_data_set.apply(lambda row: calculate_win_ratio(row['team1'], row['team2'], row['match_dt']), axis=1)\n",
        "train_data_set['direct_ecounter_1'].describe()"
      ]
    },
    {
      "cell_type": "code",
      "execution_count": null,
      "metadata": {
        "colab": {
          "base_uri": "https://localhost:8080/"
        },
        "id": "AyK44KtxUMm-",
        "outputId": "6150d813-56b1-4820-9113-927a66d09045"
      },
      "outputs": [
        {
          "output_type": "stream",
          "name": "stderr",
          "text": [
            "<ipython-input-62-4884d6e1dd92>:1: SettingWithCopyWarning: \n",
            "A value is trying to be set on a copy of a slice from a DataFrame.\n",
            "Try using .loc[row_indexer,col_indexer] = value instead\n",
            "\n",
            "See the caveats in the documentation: https://pandas.pydata.org/pandas-docs/stable/user_guide/indexing.html#returning-a-view-versus-a-copy\n",
            "  train_data_set[['team1_venue', 'team2_venue']] = train_data_set.apply(lambda row: compute_venue(row), axis=1)\n",
            "<ipython-input-62-4884d6e1dd92>:1: SettingWithCopyWarning: \n",
            "A value is trying to be set on a copy of a slice from a DataFrame.\n",
            "Try using .loc[row_indexer,col_indexer] = value instead\n",
            "\n",
            "See the caveats in the documentation: https://pandas.pydata.org/pandas-docs/stable/user_guide/indexing.html#returning-a-view-versus-a-copy\n",
            "  train_data_set[['team1_venue', 'team2_venue']] = train_data_set.apply(lambda row: compute_venue(row), axis=1)\n"
          ]
        },
        {
          "output_type": "execute_result",
          "data": {
            "text/plain": [
              "count    948.000000\n",
              "mean      29.683396\n",
              "std       39.260551\n",
              "min        0.000000\n",
              "25%        0.000000\n",
              "50%        0.000000\n",
              "75%       51.388889\n",
              "max      100.000000\n",
              "Name: team1_venue, dtype: float64"
            ]
          },
          "metadata": {},
          "execution_count": 62
        }
      ],
      "source": [
        "train_data_set[['team1_venue', 'team2_venue']] = train_data_set.apply(lambda row: compute_venue(row), axis=1)\n",
        "train_data_set['team1_venue'].describe()"
      ]
    },
    {
      "cell_type": "code",
      "execution_count": null,
      "metadata": {
        "colab": {
          "base_uri": "https://localhost:8080/"
        },
        "id": "jAU2RMTem3iR",
        "outputId": "6d69ccca-50ab-4812-e453-4b92303b6e95"
      },
      "outputs": [
        {
          "output_type": "execute_result",
          "data": {
            "text/plain": [
              "count    948.000000\n",
              "mean       5.722785\n",
              "std        2.012345\n",
              "min        0.000000\n",
              "25%        4.600000\n",
              "50%        6.000000\n",
              "75%        7.000000\n",
              "max       11.000000\n",
              "Name: team1_avg_wickets, dtype: float64"
            ]
          },
          "metadata": {},
          "execution_count": 63
        }
      ],
      "source": [
        "train_data_set[['team1_avg_wickets', 'team2_avg_wickets']] = train_data_set.apply(lambda row: compute_avg_wickets(row,n), axis=1)\n",
        "train_data_set['team1_avg_wickets'].describe()"
      ]
    },
    {
      "cell_type": "code",
      "execution_count": null,
      "metadata": {
        "id": "xiUjF_HHpY31",
        "colab": {
          "base_uri": "https://localhost:8080/"
        },
        "outputId": "d95dfe1b-9888-40f6-c6f5-b9ef11e62d3c"
      },
      "outputs": [
        {
          "output_type": "execute_result",
          "data": {
            "text/plain": [
              "count    948.000000\n",
              "mean      51.078046\n",
              "std       32.164979\n",
              "min        0.000000\n",
              "25%       32.500000\n",
              "50%       50.000000\n",
              "75%       75.000000\n",
              "max      100.000000\n",
              "Name: team1_season, dtype: float64"
            ]
          },
          "metadata": {},
          "execution_count": 64
        }
      ],
      "source": [
        "train_data_set[['team1_season', 'team2_season']] = train_data_set.apply(lambda row: compute_avg_win_season(row,n), axis=1)\n",
        "train_data_set['team1_season'].describe()"
      ]
    },
    {
      "cell_type": "code",
      "source": [
        "train_data_set[['team1_dot', 'team2_dot']] = train_data_set.apply(lambda row: compute_avg_dot_balls_last(row,n), axis=1)\n",
        "train_data_set['team1_dot'].describe()"
      ],
      "metadata": {
        "colab": {
          "base_uri": "https://localhost:8080/"
        },
        "id": "quvMGmQJ9spi",
        "outputId": "9d5c90c4-fb2f-4149-a62f-5fefc64f6f0f"
      },
      "execution_count": null,
      "outputs": [
        {
          "output_type": "execute_result",
          "data": {
            "text/plain": [
              "count    948.000000\n",
              "mean      31.103586\n",
              "std       14.488845\n",
              "min        0.000000\n",
              "25%       23.000000\n",
              "50%       36.000000\n",
              "75%       41.600000\n",
              "max       57.600000\n",
              "Name: team1_dot, dtype: float64"
            ]
          },
          "metadata": {},
          "execution_count": 65
        }
      ]
    },
    {
      "cell_type": "code",
      "source": [
        "train_data_set[['team1_series', 'team2_series']] = train_data_set.apply(lambda row: compute_win_percent_series(row,n), axis=1)\n",
        "train_data_set['team1_series'].describe()"
      ],
      "metadata": {
        "colab": {
          "base_uri": "https://localhost:8080/"
        },
        "id": "zBGYMMqrD1-O",
        "outputId": "9fa173c5-0fac-4b30-b779-83dac807fa8f"
      },
      "execution_count": null,
      "outputs": [
        {
          "output_type": "execute_result",
          "data": {
            "text/plain": [
              "count    948.000000\n",
              "mean      50.146867\n",
              "std       22.840814\n",
              "min        0.000000\n",
              "25%       35.968379\n",
              "50%       50.000000\n",
              "75%       63.636364\n",
              "max      100.000000\n",
              "Name: team1_series, dtype: float64"
            ]
          },
          "metadata": {},
          "execution_count": 66
        }
      ]
    },
    {
      "cell_type": "code",
      "source": [
        "train_data_set[['team1_bound', 'team2_bound']] = train_data_set.apply(lambda row: compute_avg_boundaries(row,n), axis=1)\n",
        "train_data_set['team1_bound'].describe()"
      ],
      "metadata": {
        "colab": {
          "base_uri": "https://localhost:8080/"
        },
        "id": "9lXWhBnfKdQb",
        "outputId": "afda08ce-70b3-4c1f-f43c-3ce71b0d3ae1"
      },
      "execution_count": null,
      "outputs": [
        {
          "output_type": "execute_result",
          "data": {
            "text/plain": [
              "count    948.000000\n",
              "mean      14.066245\n",
              "std        7.452144\n",
              "min        0.000000\n",
              "25%        8.550000\n",
              "50%       15.800000\n",
              "75%       19.850000\n",
              "max       29.800000\n",
              "Name: team1_bound, dtype: float64"
            ]
          },
          "metadata": {},
          "execution_count": 67
        }
      ]
    },
    {
      "cell_type": "code",
      "source": [
        "train_data_set[['team1_top3', 'team2_top3']] = train_data_set.apply(lambda row: compute_avg_top3_batsman(row,n), axis=1)\n",
        "train_data_set['team1_top3'].describe()"
      ],
      "metadata": {
        "colab": {
          "base_uri": "https://localhost:8080/"
        },
        "id": "o9njKZ6SMueI",
        "outputId": "e4fbd6ed-13d9-44ca-ea63-0067e9b33494"
      },
      "execution_count": null,
      "outputs": [
        {
          "output_type": "execute_result",
          "data": {
            "text/plain": [
              "count    948.000000\n",
              "mean      99.908017\n",
              "std       37.536575\n",
              "min        0.000000\n",
              "25%       92.000000\n",
              "50%      108.600000\n",
              "75%      122.400000\n",
              "max      199.000000\n",
              "Name: team1_top3, dtype: float64"
            ]
          },
          "metadata": {},
          "execution_count": 68
        }
      ]
    },
    {
      "cell_type": "code",
      "source": [
        "train_data_set[['team1_economy', 'team2_economy']] = train_data_set.apply(lambda row: compute_avg_economy(row,n), axis=1)\n",
        "train_data_set['team1_economy'].describe()"
      ],
      "metadata": {
        "colab": {
          "base_uri": "https://localhost:8080/"
        },
        "id": "WtgONuI1P8r3",
        "outputId": "45e1248f-b33a-401c-fb63-87c0e1b213ce"
      },
      "execution_count": null,
      "outputs": [
        {
          "output_type": "execute_result",
          "data": {
            "text/plain": [
              "count    948.000000\n",
              "mean       7.368602\n",
              "std        2.477896\n",
              "min        0.000000\n",
              "25%        7.129077\n",
              "50%        8.000000\n",
              "75%        8.636130\n",
              "max       12.562500\n",
              "Name: team1_economy, dtype: float64"
            ]
          },
          "metadata": {},
          "execution_count": 69
        }
      ]
    },
    {
      "cell_type": "code",
      "source": [
        "toss_win_ratio=calculate_toss_win_ratio()\n",
        "print(toss_win_ratio)\n",
        "train_data_set[['team1_toss', 'team2_toss']] = train_data_set.apply(lambda row: assign_toss_ratio(row, toss_win_ratio), axis=1)\n",
        "train_data_set['team1_toss'].describe()"
      ],
      "metadata": {
        "colab": {
          "base_uri": "https://localhost:8080/"
        },
        "id": "ez4AlonJRedQ",
        "outputId": "7d30f3a9-bd28-4b3a-b830-05929a8d7260"
      },
      "execution_count": null,
      "outputs": [
        {
          "output_type": "stream",
          "name": "stdout",
          "text": [
            "0.48523206751054854\n"
          ]
        },
        {
          "output_type": "execute_result",
          "data": {
            "text/plain": [
              "count    948.000000\n",
              "mean       0.504455\n",
              "std        0.014087\n",
              "min        0.485232\n",
              "25%        0.485232\n",
              "50%        0.514768\n",
              "75%        0.514768\n",
              "max        0.514768\n",
              "Name: team1_toss, dtype: float64"
            ]
          },
          "metadata": {},
          "execution_count": 70
        }
      ]
    },
    {
      "cell_type": "code",
      "source": [
        "train_data_set.columns"
      ],
      "metadata": {
        "colab": {
          "base_uri": "https://localhost:8080/"
        },
        "id": "w-2vQjGoRd34",
        "outputId": "0327e023-c0d8-4d07-c6d6-374145c0dd64"
      },
      "execution_count": null,
      "outputs": [
        {
          "output_type": "execute_result",
          "data": {
            "text/plain": [
              "Index(['match id', 'team1', 'team2', 'match_dt', 'winner', 'lighting',\n",
              "       'team1_roster_ids', 'team2_roster_ids', 'ground_id', 'venue', 'city',\n",
              "       'lighting_day match', 'lighting_day/night match',\n",
              "       'lighting_night match', 'season', 'series_name', 'toss winner',\n",
              "       'team1_avg_strike_rate', 'team2_avg_strike_rate',\n",
              "       'team1_avg_win_percent', 'team2_avg_win_percent', 'direct_ecounter_1',\n",
              "       'direct_ecounter_2', 'team1_venue', 'team2_venue', 'team1_avg_wickets',\n",
              "       'team2_avg_wickets', 'team1_season', 'team2_season', 'team1_dot',\n",
              "       'team2_dot', 'team1_series', 'team2_series', 'team1_bound',\n",
              "       'team2_bound', 'team1_top3', 'team2_top3', 'team1_economy',\n",
              "       'team2_economy', 'team1_toss', 'team2_toss'],\n",
              "      dtype='object')"
            ]
          },
          "metadata": {},
          "execution_count": 71
        }
      ]
    },
    {
      "cell_type": "code",
      "source": [
        "train_data_set.dtypes"
      ],
      "metadata": {
        "colab": {
          "base_uri": "https://localhost:8080/"
        },
        "id": "CyxHpZSJs5iz",
        "outputId": "d8f256da-7d55-4f67-8b00-2ffd3731b37f"
      },
      "execution_count": null,
      "outputs": [
        {
          "output_type": "execute_result",
          "data": {
            "text/plain": [
              "match id                             int64\n",
              "team1                               object\n",
              "team2                               object\n",
              "match_dt                    datetime64[ns]\n",
              "winner                              object\n",
              "lighting                            object\n",
              "team1_roster_ids                    object\n",
              "team2_roster_ids                    object\n",
              "ground_id                            int64\n",
              "venue                               object\n",
              "city                                object\n",
              "lighting_day match                    bool\n",
              "lighting_day/night match              bool\n",
              "lighting_night match                  bool\n",
              "season                              object\n",
              "series_name                         object\n",
              "toss winner                         object\n",
              "team1_avg_strike_rate              float64\n",
              "team2_avg_strike_rate              float64\n",
              "team1_avg_win_percent              float64\n",
              "team2_avg_win_percent              float64\n",
              "direct_ecounter_1                  float64\n",
              "direct_ecounter_2                  float64\n",
              "team1_venue                        float64\n",
              "team2_venue                        float64\n",
              "team1_avg_wickets                  float64\n",
              "team2_avg_wickets                  float64\n",
              "team1_season                       float64\n",
              "team2_season                       float64\n",
              "team1_dot                          float64\n",
              "team2_dot                          float64\n",
              "team1_series                       float64\n",
              "team2_series                       float64\n",
              "team1_bound                        float64\n",
              "team2_bound                        float64\n",
              "team1_top3                         float64\n",
              "team2_top3                         float64\n",
              "team1_economy                      float64\n",
              "team2_economy                      float64\n",
              "team1_toss                         float64\n",
              "team2_toss                         float64\n",
              "dtype: object"
            ]
          },
          "metadata": {},
          "execution_count": 72
        }
      ]
    },
    {
      "cell_type": "code",
      "source": [
        "train_data_set['winners'] = train_data_set.apply(lambda row: 1 if row['winner'] == row['team1'] else 0, axis=1)\n"
      ],
      "metadata": {
        "id": "XsKVMjXwvckg"
      },
      "execution_count": null,
      "outputs": []
    },
    {
      "cell_type": "code",
      "source": [
        "train_data_set.columns"
      ],
      "metadata": {
        "colab": {
          "base_uri": "https://localhost:8080/"
        },
        "id": "HPAt5PUhpx56",
        "outputId": "3b377310-48af-44eb-b55b-825ac744dbad"
      },
      "execution_count": null,
      "outputs": [
        {
          "output_type": "execute_result",
          "data": {
            "text/plain": [
              "Index(['match id', 'team1', 'team2', 'match_dt', 'winner', 'lighting',\n",
              "       'team1_roster_ids', 'team2_roster_ids', 'ground_id', 'venue', 'city',\n",
              "       'lighting_day match', 'lighting_day/night match',\n",
              "       'lighting_night match', 'season', 'series_name', 'toss winner',\n",
              "       'team1_avg_strike_rate', 'team2_avg_strike_rate',\n",
              "       'team1_avg_win_percent', 'team2_avg_win_percent', 'direct_ecounter_1',\n",
              "       'direct_ecounter_2', 'team1_venue', 'team2_venue', 'team1_avg_wickets',\n",
              "       'team2_avg_wickets', 'team1_season', 'team2_season', 'team1_dot',\n",
              "       'team2_dot', 'team1_series', 'team2_series', 'team1_bound',\n",
              "       'team2_bound', 'team1_top3', 'team2_top3', 'team1_economy',\n",
              "       'team2_economy', 'team1_toss', 'team2_toss', 'winners'],\n",
              "      dtype='object')"
            ]
          },
          "metadata": {},
          "execution_count": 75
        }
      ]
    },
    {
      "cell_type": "code",
      "source": [
        "train_data_set.drop(['winner'], axis=1, inplace= True);\n",
        "train_data_set.dtypes"
      ],
      "metadata": {
        "colab": {
          "base_uri": "https://localhost:8080/"
        },
        "id": "YqXitjBYwlrB",
        "outputId": "0e71d12f-dbfd-4621-91ec-2defa8a8392c"
      },
      "execution_count": null,
      "outputs": [
        {
          "output_type": "execute_result",
          "data": {
            "text/plain": [
              "match id                             int64\n",
              "team1                               object\n",
              "team2                               object\n",
              "match_dt                    datetime64[ns]\n",
              "lighting                            object\n",
              "team1_roster_ids                    object\n",
              "team2_roster_ids                    object\n",
              "ground_id                            int64\n",
              "venue                               object\n",
              "city                                object\n",
              "lighting_day match                    bool\n",
              "lighting_day/night match              bool\n",
              "lighting_night match                  bool\n",
              "season                              object\n",
              "series_name                         object\n",
              "toss winner                         object\n",
              "team1_avg_strike_rate              float64\n",
              "team2_avg_strike_rate              float64\n",
              "team1_avg_win_percent              float64\n",
              "team2_avg_win_percent              float64\n",
              "direct_ecounter_1                  float64\n",
              "direct_ecounter_2                  float64\n",
              "team1_venue                        float64\n",
              "team2_venue                        float64\n",
              "team1_avg_wickets                  float64\n",
              "team2_avg_wickets                  float64\n",
              "team1_season                       float64\n",
              "team2_season                       float64\n",
              "team1_dot                          float64\n",
              "team2_dot                          float64\n",
              "team1_series                       float64\n",
              "team2_series                       float64\n",
              "team1_bound                        float64\n",
              "team2_bound                        float64\n",
              "team1_top3                         float64\n",
              "team2_top3                         float64\n",
              "team1_economy                      float64\n",
              "team2_economy                      float64\n",
              "team1_toss                         float64\n",
              "team2_toss                         float64\n",
              "winners                              int64\n",
              "dtype: object"
            ]
          },
          "metadata": {},
          "execution_count": 77
        }
      ]
    },
    {
      "cell_type": "code",
      "source": [
        "train_data_set.to_csv('train_data_set.csv', index=False)"
      ],
      "metadata": {
        "id": "doLzeKAq3RPT"
      },
      "execution_count": null,
      "outputs": []
    },
    {
      "cell_type": "code",
      "source": [
        "import pandas as pd\n",
        "from sklearn.model_selection import train_test_split\n",
        "from sklearn.preprocessing import LabelEncoder\n",
        "from imblearn.over_sampling import SMOTE\n",
        "import xgboost as xgb\n",
        "from sklearn.metrics import accuracy_score\n"
      ],
      "metadata": {
        "id": "q6mUWTu4sogC"
      },
      "execution_count": null,
      "outputs": []
    },
    {
      "cell_type": "code",
      "source": [
        "# Separate the target variable 'winner'\n",
        "X = train_data_set.drop(columns=['winners'])\n",
        "y = train_data_set['winners']"
      ],
      "metadata": {
        "id": "yeJZ67Okj3U9"
      },
      "execution_count": null,
      "outputs": []
    },
    {
      "cell_type": "code",
      "source": [
        "from sklearn.preprocessing import LabelEncoder\n",
        "from sklearn.impute import SimpleImputer\n",
        "\n",
        "# Handling missing values\n",
        "imputer = SimpleImputer(strategy='most_frequent')\n",
        "X = imputer.fit_transform(X)\n",
        "\n",
        "# Encoding categorical variables if any\n",
        "label_encoder = LabelEncoder()\n",
        "y = label_encoder.fit_transform(y)\n",
        "\n",
        "# Convert X back to a DataFrame to handle columns if necessary\n",
        "X = pd.DataFrame(X, columns=train_data_set.drop(columns=['winners']).columns)\n",
        "\n"
      ],
      "metadata": {
        "id": "GDesnYREk4Tt"
      },
      "execution_count": null,
      "outputs": []
    },
    {
      "cell_type": "code",
      "source": [
        "# Drop rows with missing target values\n",
        "train_data_set = train_data_set.dropna(subset=['winners'])\n",
        "\n",
        "# Separate target variable\n",
        "y = train_data_set['winners']\n",
        "\n",
        "# Columns to exclude from training\n",
        "exclude_columns = [\n",
        "     'team1', 'team2', 'match_dt', 'winners','lighting',\n",
        "       'team1_roster_ids', 'team2_roster_ids', 'ground_id', 'venue', 'city',\n",
        "       'lighting_day match', 'lighting_day/night match',\n",
        "       'lighting_night match', 'season', 'series_name', 'toss winner'\n",
        "]\n",
        "\n",
        "# All columns in the dataframe\n",
        "all_columns = train_data_set.columns.tolist()\n",
        "\n",
        "# Columns to use for training\n",
        "feature_columns = [col for col in all_columns if col not in exclude_columns]\n",
        "\n",
        "X = train_data_set[feature_columns]\n",
        "X= pd.concat([X, matches[['match id','team1_id','team2_id']]], axis=1)\n",
        "X_df = pd.DataFrame(X)  # If X is not already a DataFrame\n",
        "\n",
        "X_df.to_csv('features.csv', index=False)\n",
        "\n",
        "y_df = pd.DataFrame(y)  # If y is not already a DataFrame\n",
        "\n",
        "y_df.to_csv('target.csv', index=False, header=['winner'])\n",
        "\n",
        "X_train, X_test, y_train, y_test = train_test_split(X, y, test_size=0.2, random_state=42, stratify=y)\n",
        "\n",
        "# Concatenate X_train and y_train\n",
        "train_set = pd.concat([X_train, y_train], axis=1)\n",
        "\n",
        "# Concatenate X_test and y_test\n",
        "test_set = pd.concat([X_test, y_test], axis=1)\n",
        "# X_train\n",
        "X_train.drop(['match id','team1_id','team2_id'], axis=1, inplace=True)\n",
        "X_test.drop(['match id','team1_id','team2_id'], axis=1, inplace=True)\n",
        "# print(X_train)\n",
        "# Optionally, you can reset index if needed\n",
        "train_set.reset_index(drop=True, inplace=True)\n",
        "test_set.reset_index(drop=True, inplace=True)\n",
        "\n",
        "train_set.describe()"
      ],
      "metadata": {
        "colab": {
          "base_uri": "https://localhost:8080/",
          "height": 349
        },
        "id": "H5k1zzV0k_jF",
        "outputId": "ad2efebd-180d-44da-88e8-e0f1ecd5f72c"
      },
      "execution_count": null,
      "outputs": [
        {
          "output_type": "execute_result",
          "data": {
            "text/plain": [
              "           match id  team1_avg_strike_rate  team2_avg_strike_rate  \\\n",
              "count  7.580000e+02             534.000000             508.000000   \n",
              "mean   9.319652e+06             109.073994             107.813094   \n",
              "std    2.296519e+05              15.169385              14.217567   \n",
              "min    8.797053e+06              29.170000              62.068357   \n",
              "25%    9.097075e+06             100.519023              98.138932   \n",
              "50%    9.327496e+06             109.153318             107.857636   \n",
              "75%    9.478318e+06             118.661848             117.964955   \n",
              "max    9.866373e+06             153.617200             149.160348   \n",
              "\n",
              "       team1_avg_win_percent  team2_avg_win_percent  direct_ecounter_1  \\\n",
              "count             758.000000             758.000000         758.000000   \n",
              "mean               33.232190              35.200088          28.463346   \n",
              "std                28.228249              28.822867          41.273008   \n",
              "min                 0.000000               0.000000           0.000000   \n",
              "25%                20.000000              20.000000           0.000000   \n",
              "50%                25.000000              33.333333           0.000000   \n",
              "75%                50.000000              50.000000          55.357143   \n",
              "max               100.000000             100.000000         100.000000   \n",
              "\n",
              "       direct_ecounter_2  team1_venue  team2_venue  team1_avg_wickets  ...  \\\n",
              "count         758.000000   758.000000   758.000000         758.000000  ...   \n",
              "mean           25.494437    29.150623    28.478935           5.727704  ...   \n",
              "std            39.580115    39.011786    39.143718           2.007949  ...   \n",
              "min             0.000000     0.000000     0.000000           0.000000  ...   \n",
              "25%             0.000000     0.000000     0.000000           4.650000  ...   \n",
              "50%             0.000000     0.000000     0.000000           6.000000  ...   \n",
              "75%            50.000000    50.000000    50.000000           7.000000  ...   \n",
              "max           100.000000   100.000000   100.000000          11.000000  ...   \n",
              "\n",
              "       team1_top3  team2_top3  team1_economy  team2_economy  team1_toss  \\\n",
              "count  758.000000  758.000000     758.000000     758.000000  758.000000   \n",
              "mean    99.630343  102.301715       7.344758       7.514097    0.504754   \n",
              "std     37.461375   36.483411       2.473322       2.310662    0.013991   \n",
              "min      0.000000    0.000000       0.000000       0.000000    0.485232   \n",
              "25%     91.850000   93.000000       7.120220       7.208882    0.485232   \n",
              "50%    108.225000  109.000000       7.990608       8.020811    0.514768   \n",
              "75%    122.383333  124.950000       8.629374       8.745892    0.514768   \n",
              "max    179.000000  193.000000      12.562500      11.650000    0.514768   \n",
              "\n",
              "       team2_toss      match id      team1_id      team2_id     winners  \n",
              "count  758.000000  7.580000e+02    758.000000    758.000000  758.000000  \n",
              "mean     0.495246  9.319652e+06  22026.827177  21858.254617    0.497361  \n",
              "std      0.013991  2.296519e+05  17711.027965  17610.911838    0.500323  \n",
              "min      0.485232  8.797053e+06     20.000000     20.000000    0.000000  \n",
              "25%      0.485232  9.097075e+06   6838.000000   7258.000000    0.000000  \n",
              "50%      0.485232  9.327496e+06  18360.000000  17982.000000    0.000000  \n",
              "75%      0.514768  9.478318e+06  36126.000000  36126.000000    1.000000  \n",
              "max      0.514768  9.866373e+06  49657.000000  49657.000000    1.000000  \n",
              "\n",
              "[8 rows x 29 columns]"
            ],
            "text/html": [
              "\n",
              "  <div id=\"df-e4edcd5a-4f2b-428a-a9bd-c5a4c0ee0dcd\" class=\"colab-df-container\">\n",
              "    <div>\n",
              "<style scoped>\n",
              "    .dataframe tbody tr th:only-of-type {\n",
              "        vertical-align: middle;\n",
              "    }\n",
              "\n",
              "    .dataframe tbody tr th {\n",
              "        vertical-align: top;\n",
              "    }\n",
              "\n",
              "    .dataframe thead th {\n",
              "        text-align: right;\n",
              "    }\n",
              "</style>\n",
              "<table border=\"1\" class=\"dataframe\">\n",
              "  <thead>\n",
              "    <tr style=\"text-align: right;\">\n",
              "      <th></th>\n",
              "      <th>match id</th>\n",
              "      <th>team1_avg_strike_rate</th>\n",
              "      <th>team2_avg_strike_rate</th>\n",
              "      <th>team1_avg_win_percent</th>\n",
              "      <th>team2_avg_win_percent</th>\n",
              "      <th>direct_ecounter_1</th>\n",
              "      <th>direct_ecounter_2</th>\n",
              "      <th>team1_venue</th>\n",
              "      <th>team2_venue</th>\n",
              "      <th>team1_avg_wickets</th>\n",
              "      <th>...</th>\n",
              "      <th>team1_top3</th>\n",
              "      <th>team2_top3</th>\n",
              "      <th>team1_economy</th>\n",
              "      <th>team2_economy</th>\n",
              "      <th>team1_toss</th>\n",
              "      <th>team2_toss</th>\n",
              "      <th>match id</th>\n",
              "      <th>team1_id</th>\n",
              "      <th>team2_id</th>\n",
              "      <th>winners</th>\n",
              "    </tr>\n",
              "  </thead>\n",
              "  <tbody>\n",
              "    <tr>\n",
              "      <th>count</th>\n",
              "      <td>7.580000e+02</td>\n",
              "      <td>534.000000</td>\n",
              "      <td>508.000000</td>\n",
              "      <td>758.000000</td>\n",
              "      <td>758.000000</td>\n",
              "      <td>758.000000</td>\n",
              "      <td>758.000000</td>\n",
              "      <td>758.000000</td>\n",
              "      <td>758.000000</td>\n",
              "      <td>758.000000</td>\n",
              "      <td>...</td>\n",
              "      <td>758.000000</td>\n",
              "      <td>758.000000</td>\n",
              "      <td>758.000000</td>\n",
              "      <td>758.000000</td>\n",
              "      <td>758.000000</td>\n",
              "      <td>758.000000</td>\n",
              "      <td>7.580000e+02</td>\n",
              "      <td>758.000000</td>\n",
              "      <td>758.000000</td>\n",
              "      <td>758.000000</td>\n",
              "    </tr>\n",
              "    <tr>\n",
              "      <th>mean</th>\n",
              "      <td>9.319652e+06</td>\n",
              "      <td>109.073994</td>\n",
              "      <td>107.813094</td>\n",
              "      <td>33.232190</td>\n",
              "      <td>35.200088</td>\n",
              "      <td>28.463346</td>\n",
              "      <td>25.494437</td>\n",
              "      <td>29.150623</td>\n",
              "      <td>28.478935</td>\n",
              "      <td>5.727704</td>\n",
              "      <td>...</td>\n",
              "      <td>99.630343</td>\n",
              "      <td>102.301715</td>\n",
              "      <td>7.344758</td>\n",
              "      <td>7.514097</td>\n",
              "      <td>0.504754</td>\n",
              "      <td>0.495246</td>\n",
              "      <td>9.319652e+06</td>\n",
              "      <td>22026.827177</td>\n",
              "      <td>21858.254617</td>\n",
              "      <td>0.497361</td>\n",
              "    </tr>\n",
              "    <tr>\n",
              "      <th>std</th>\n",
              "      <td>2.296519e+05</td>\n",
              "      <td>15.169385</td>\n",
              "      <td>14.217567</td>\n",
              "      <td>28.228249</td>\n",
              "      <td>28.822867</td>\n",
              "      <td>41.273008</td>\n",
              "      <td>39.580115</td>\n",
              "      <td>39.011786</td>\n",
              "      <td>39.143718</td>\n",
              "      <td>2.007949</td>\n",
              "      <td>...</td>\n",
              "      <td>37.461375</td>\n",
              "      <td>36.483411</td>\n",
              "      <td>2.473322</td>\n",
              "      <td>2.310662</td>\n",
              "      <td>0.013991</td>\n",
              "      <td>0.013991</td>\n",
              "      <td>2.296519e+05</td>\n",
              "      <td>17711.027965</td>\n",
              "      <td>17610.911838</td>\n",
              "      <td>0.500323</td>\n",
              "    </tr>\n",
              "    <tr>\n",
              "      <th>min</th>\n",
              "      <td>8.797053e+06</td>\n",
              "      <td>29.170000</td>\n",
              "      <td>62.068357</td>\n",
              "      <td>0.000000</td>\n",
              "      <td>0.000000</td>\n",
              "      <td>0.000000</td>\n",
              "      <td>0.000000</td>\n",
              "      <td>0.000000</td>\n",
              "      <td>0.000000</td>\n",
              "      <td>0.000000</td>\n",
              "      <td>...</td>\n",
              "      <td>0.000000</td>\n",
              "      <td>0.000000</td>\n",
              "      <td>0.000000</td>\n",
              "      <td>0.000000</td>\n",
              "      <td>0.485232</td>\n",
              "      <td>0.485232</td>\n",
              "      <td>8.797053e+06</td>\n",
              "      <td>20.000000</td>\n",
              "      <td>20.000000</td>\n",
              "      <td>0.000000</td>\n",
              "    </tr>\n",
              "    <tr>\n",
              "      <th>25%</th>\n",
              "      <td>9.097075e+06</td>\n",
              "      <td>100.519023</td>\n",
              "      <td>98.138932</td>\n",
              "      <td>20.000000</td>\n",
              "      <td>20.000000</td>\n",
              "      <td>0.000000</td>\n",
              "      <td>0.000000</td>\n",
              "      <td>0.000000</td>\n",
              "      <td>0.000000</td>\n",
              "      <td>4.650000</td>\n",
              "      <td>...</td>\n",
              "      <td>91.850000</td>\n",
              "      <td>93.000000</td>\n",
              "      <td>7.120220</td>\n",
              "      <td>7.208882</td>\n",
              "      <td>0.485232</td>\n",
              "      <td>0.485232</td>\n",
              "      <td>9.097075e+06</td>\n",
              "      <td>6838.000000</td>\n",
              "      <td>7258.000000</td>\n",
              "      <td>0.000000</td>\n",
              "    </tr>\n",
              "    <tr>\n",
              "      <th>50%</th>\n",
              "      <td>9.327496e+06</td>\n",
              "      <td>109.153318</td>\n",
              "      <td>107.857636</td>\n",
              "      <td>25.000000</td>\n",
              "      <td>33.333333</td>\n",
              "      <td>0.000000</td>\n",
              "      <td>0.000000</td>\n",
              "      <td>0.000000</td>\n",
              "      <td>0.000000</td>\n",
              "      <td>6.000000</td>\n",
              "      <td>...</td>\n",
              "      <td>108.225000</td>\n",
              "      <td>109.000000</td>\n",
              "      <td>7.990608</td>\n",
              "      <td>8.020811</td>\n",
              "      <td>0.514768</td>\n",
              "      <td>0.485232</td>\n",
              "      <td>9.327496e+06</td>\n",
              "      <td>18360.000000</td>\n",
              "      <td>17982.000000</td>\n",
              "      <td>0.000000</td>\n",
              "    </tr>\n",
              "    <tr>\n",
              "      <th>75%</th>\n",
              "      <td>9.478318e+06</td>\n",
              "      <td>118.661848</td>\n",
              "      <td>117.964955</td>\n",
              "      <td>50.000000</td>\n",
              "      <td>50.000000</td>\n",
              "      <td>55.357143</td>\n",
              "      <td>50.000000</td>\n",
              "      <td>50.000000</td>\n",
              "      <td>50.000000</td>\n",
              "      <td>7.000000</td>\n",
              "      <td>...</td>\n",
              "      <td>122.383333</td>\n",
              "      <td>124.950000</td>\n",
              "      <td>8.629374</td>\n",
              "      <td>8.745892</td>\n",
              "      <td>0.514768</td>\n",
              "      <td>0.514768</td>\n",
              "      <td>9.478318e+06</td>\n",
              "      <td>36126.000000</td>\n",
              "      <td>36126.000000</td>\n",
              "      <td>1.000000</td>\n",
              "    </tr>\n",
              "    <tr>\n",
              "      <th>max</th>\n",
              "      <td>9.866373e+06</td>\n",
              "      <td>153.617200</td>\n",
              "      <td>149.160348</td>\n",
              "      <td>100.000000</td>\n",
              "      <td>100.000000</td>\n",
              "      <td>100.000000</td>\n",
              "      <td>100.000000</td>\n",
              "      <td>100.000000</td>\n",
              "      <td>100.000000</td>\n",
              "      <td>11.000000</td>\n",
              "      <td>...</td>\n",
              "      <td>179.000000</td>\n",
              "      <td>193.000000</td>\n",
              "      <td>12.562500</td>\n",
              "      <td>11.650000</td>\n",
              "      <td>0.514768</td>\n",
              "      <td>0.514768</td>\n",
              "      <td>9.866373e+06</td>\n",
              "      <td>49657.000000</td>\n",
              "      <td>49657.000000</td>\n",
              "      <td>1.000000</td>\n",
              "    </tr>\n",
              "  </tbody>\n",
              "</table>\n",
              "<p>8 rows × 29 columns</p>\n",
              "</div>\n",
              "    <div class=\"colab-df-buttons\">\n",
              "\n",
              "  <div class=\"colab-df-container\">\n",
              "    <button class=\"colab-df-convert\" onclick=\"convertToInteractive('df-e4edcd5a-4f2b-428a-a9bd-c5a4c0ee0dcd')\"\n",
              "            title=\"Convert this dataframe to an interactive table.\"\n",
              "            style=\"display:none;\">\n",
              "\n",
              "  <svg xmlns=\"http://www.w3.org/2000/svg\" height=\"24px\" viewBox=\"0 -960 960 960\">\n",
              "    <path d=\"M120-120v-720h720v720H120Zm60-500h600v-160H180v160Zm220 220h160v-160H400v160Zm0 220h160v-160H400v160ZM180-400h160v-160H180v160Zm440 0h160v-160H620v160ZM180-180h160v-160H180v160Zm440 0h160v-160H620v160Z\"/>\n",
              "  </svg>\n",
              "    </button>\n",
              "\n",
              "  <style>\n",
              "    .colab-df-container {\n",
              "      display:flex;\n",
              "      gap: 12px;\n",
              "    }\n",
              "\n",
              "    .colab-df-convert {\n",
              "      background-color: #E8F0FE;\n",
              "      border: none;\n",
              "      border-radius: 50%;\n",
              "      cursor: pointer;\n",
              "      display: none;\n",
              "      fill: #1967D2;\n",
              "      height: 32px;\n",
              "      padding: 0 0 0 0;\n",
              "      width: 32px;\n",
              "    }\n",
              "\n",
              "    .colab-df-convert:hover {\n",
              "      background-color: #E2EBFA;\n",
              "      box-shadow: 0px 1px 2px rgba(60, 64, 67, 0.3), 0px 1px 3px 1px rgba(60, 64, 67, 0.15);\n",
              "      fill: #174EA6;\n",
              "    }\n",
              "\n",
              "    .colab-df-buttons div {\n",
              "      margin-bottom: 4px;\n",
              "    }\n",
              "\n",
              "    [theme=dark] .colab-df-convert {\n",
              "      background-color: #3B4455;\n",
              "      fill: #D2E3FC;\n",
              "    }\n",
              "\n",
              "    [theme=dark] .colab-df-convert:hover {\n",
              "      background-color: #434B5C;\n",
              "      box-shadow: 0px 1px 3px 1px rgba(0, 0, 0, 0.15);\n",
              "      filter: drop-shadow(0px 1px 2px rgba(0, 0, 0, 0.3));\n",
              "      fill: #FFFFFF;\n",
              "    }\n",
              "  </style>\n",
              "\n",
              "    <script>\n",
              "      const buttonEl =\n",
              "        document.querySelector('#df-e4edcd5a-4f2b-428a-a9bd-c5a4c0ee0dcd button.colab-df-convert');\n",
              "      buttonEl.style.display =\n",
              "        google.colab.kernel.accessAllowed ? 'block' : 'none';\n",
              "\n",
              "      async function convertToInteractive(key) {\n",
              "        const element = document.querySelector('#df-e4edcd5a-4f2b-428a-a9bd-c5a4c0ee0dcd');\n",
              "        const dataTable =\n",
              "          await google.colab.kernel.invokeFunction('convertToInteractive',\n",
              "                                                    [key], {});\n",
              "        if (!dataTable) return;\n",
              "\n",
              "        const docLinkHtml = 'Like what you see? Visit the ' +\n",
              "          '<a target=\"_blank\" href=https://colab.research.google.com/notebooks/data_table.ipynb>data table notebook</a>'\n",
              "          + ' to learn more about interactive tables.';\n",
              "        element.innerHTML = '';\n",
              "        dataTable['output_type'] = 'display_data';\n",
              "        await google.colab.output.renderOutput(dataTable, element);\n",
              "        const docLink = document.createElement('div');\n",
              "        docLink.innerHTML = docLinkHtml;\n",
              "        element.appendChild(docLink);\n",
              "      }\n",
              "    </script>\n",
              "  </div>\n",
              "\n",
              "\n",
              "<div id=\"df-186c3753-8ba5-4f1c-8d5f-b0c70ac1b577\">\n",
              "  <button class=\"colab-df-quickchart\" onclick=\"quickchart('df-186c3753-8ba5-4f1c-8d5f-b0c70ac1b577')\"\n",
              "            title=\"Suggest charts\"\n",
              "            style=\"display:none;\">\n",
              "\n",
              "<svg xmlns=\"http://www.w3.org/2000/svg\" height=\"24px\"viewBox=\"0 0 24 24\"\n",
              "     width=\"24px\">\n",
              "    <g>\n",
              "        <path d=\"M19 3H5c-1.1 0-2 .9-2 2v14c0 1.1.9 2 2 2h14c1.1 0 2-.9 2-2V5c0-1.1-.9-2-2-2zM9 17H7v-7h2v7zm4 0h-2V7h2v10zm4 0h-2v-4h2v4z\"/>\n",
              "    </g>\n",
              "</svg>\n",
              "  </button>\n",
              "\n",
              "<style>\n",
              "  .colab-df-quickchart {\n",
              "      --bg-color: #E8F0FE;\n",
              "      --fill-color: #1967D2;\n",
              "      --hover-bg-color: #E2EBFA;\n",
              "      --hover-fill-color: #174EA6;\n",
              "      --disabled-fill-color: #AAA;\n",
              "      --disabled-bg-color: #DDD;\n",
              "  }\n",
              "\n",
              "  [theme=dark] .colab-df-quickchart {\n",
              "      --bg-color: #3B4455;\n",
              "      --fill-color: #D2E3FC;\n",
              "      --hover-bg-color: #434B5C;\n",
              "      --hover-fill-color: #FFFFFF;\n",
              "      --disabled-bg-color: #3B4455;\n",
              "      --disabled-fill-color: #666;\n",
              "  }\n",
              "\n",
              "  .colab-df-quickchart {\n",
              "    background-color: var(--bg-color);\n",
              "    border: none;\n",
              "    border-radius: 50%;\n",
              "    cursor: pointer;\n",
              "    display: none;\n",
              "    fill: var(--fill-color);\n",
              "    height: 32px;\n",
              "    padding: 0;\n",
              "    width: 32px;\n",
              "  }\n",
              "\n",
              "  .colab-df-quickchart:hover {\n",
              "    background-color: var(--hover-bg-color);\n",
              "    box-shadow: 0 1px 2px rgba(60, 64, 67, 0.3), 0 1px 3px 1px rgba(60, 64, 67, 0.15);\n",
              "    fill: var(--button-hover-fill-color);\n",
              "  }\n",
              "\n",
              "  .colab-df-quickchart-complete:disabled,\n",
              "  .colab-df-quickchart-complete:disabled:hover {\n",
              "    background-color: var(--disabled-bg-color);\n",
              "    fill: var(--disabled-fill-color);\n",
              "    box-shadow: none;\n",
              "  }\n",
              "\n",
              "  .colab-df-spinner {\n",
              "    border: 2px solid var(--fill-color);\n",
              "    border-color: transparent;\n",
              "    border-bottom-color: var(--fill-color);\n",
              "    animation:\n",
              "      spin 1s steps(1) infinite;\n",
              "  }\n",
              "\n",
              "  @keyframes spin {\n",
              "    0% {\n",
              "      border-color: transparent;\n",
              "      border-bottom-color: var(--fill-color);\n",
              "      border-left-color: var(--fill-color);\n",
              "    }\n",
              "    20% {\n",
              "      border-color: transparent;\n",
              "      border-left-color: var(--fill-color);\n",
              "      border-top-color: var(--fill-color);\n",
              "    }\n",
              "    30% {\n",
              "      border-color: transparent;\n",
              "      border-left-color: var(--fill-color);\n",
              "      border-top-color: var(--fill-color);\n",
              "      border-right-color: var(--fill-color);\n",
              "    }\n",
              "    40% {\n",
              "      border-color: transparent;\n",
              "      border-right-color: var(--fill-color);\n",
              "      border-top-color: var(--fill-color);\n",
              "    }\n",
              "    60% {\n",
              "      border-color: transparent;\n",
              "      border-right-color: var(--fill-color);\n",
              "    }\n",
              "    80% {\n",
              "      border-color: transparent;\n",
              "      border-right-color: var(--fill-color);\n",
              "      border-bottom-color: var(--fill-color);\n",
              "    }\n",
              "    90% {\n",
              "      border-color: transparent;\n",
              "      border-bottom-color: var(--fill-color);\n",
              "    }\n",
              "  }\n",
              "</style>\n",
              "\n",
              "  <script>\n",
              "    async function quickchart(key) {\n",
              "      const quickchartButtonEl =\n",
              "        document.querySelector('#' + key + ' button');\n",
              "      quickchartButtonEl.disabled = true;  // To prevent multiple clicks.\n",
              "      quickchartButtonEl.classList.add('colab-df-spinner');\n",
              "      try {\n",
              "        const charts = await google.colab.kernel.invokeFunction(\n",
              "            'suggestCharts', [key], {});\n",
              "      } catch (error) {\n",
              "        console.error('Error during call to suggestCharts:', error);\n",
              "      }\n",
              "      quickchartButtonEl.classList.remove('colab-df-spinner');\n",
              "      quickchartButtonEl.classList.add('colab-df-quickchart-complete');\n",
              "    }\n",
              "    (() => {\n",
              "      let quickchartButtonEl =\n",
              "        document.querySelector('#df-186c3753-8ba5-4f1c-8d5f-b0c70ac1b577 button');\n",
              "      quickchartButtonEl.style.display =\n",
              "        google.colab.kernel.accessAllowed ? 'block' : 'none';\n",
              "    })();\n",
              "  </script>\n",
              "</div>\n",
              "\n",
              "    </div>\n",
              "  </div>\n"
            ],
            "application/vnd.google.colaboratory.intrinsic+json": {
              "type": "dataframe"
            }
          },
          "metadata": {},
          "execution_count": 82
        }
      ]
    },
    {
      "cell_type": "code",
      "source": [
        "print(\"Shape of X_train:\", X_train.shape)\n",
        "print(\"Shape of train_set:\", train_set.shape)"
      ],
      "metadata": {
        "id": "SLesyNevwoUO",
        "outputId": "9fa65b08-fb7d-4fe1-8b58-f5b4066ba013",
        "colab": {
          "base_uri": "https://localhost:8080/"
        }
      },
      "execution_count": null,
      "outputs": [
        {
          "output_type": "stream",
          "name": "stdout",
          "text": [
            "Shape of X_train: (853, 28)\n",
            "Shape of train_set: (758, 29)\n"
          ]
        }
      ]
    },
    {
      "cell_type": "markdown",
      "source": [
        "XGBoost\n"
      ],
      "metadata": {
        "id": "rym9vBf_yNYY"
      }
    },
    {
      "cell_type": "code",
      "source": [
        "import xgboost as xgb\n",
        "from sklearn.metrics import accuracy_score\n",
        "\n",
        "# Initialize the XGBoost classifier\n",
        "xgb_model = xgb.XGBClassifier(use_label_encoder=False, eval_metric='mlogloss')\n",
        "\n",
        "# Train the model\n",
        "xgb_model.fit(X_train, y_train)\n",
        "\n",
        "# Predict on the training data\n",
        "y_train_pred = xgb_model.predict(X_train)\n",
        "train_accuracy = accuracy_score(y_train, y_train_pred)\n",
        "print(f\"Training Accuracy: {train_accuracy * 100:.2f}%\")\n",
        "\n",
        "# Predict on the test data\n",
        "y_test_pred = xgb_model.predict(X_test)\n",
        "test_accuracy = accuracy_score(y_test, y_test_pred)\n",
        "print(f\"Test Accuracy: {test_accuracy * 100:.2f}%\")\n"
      ],
      "metadata": {
        "colab": {
          "base_uri": "https://localhost:8080/"
        },
        "id": "TOiPy5EslDUD",
        "outputId": "7f7801dd-fa70-4984-ff7a-78fa7b66f567"
      },
      "execution_count": null,
      "outputs": [
        {
          "output_type": "stream",
          "name": "stdout",
          "text": [
            "Training Accuracy: 100.00%\n",
            "Test Accuracy: 85.26%\n"
          ]
        }
      ]
    },
    {
      "cell_type": "markdown",
      "source": [
        "Gradient Boosting Machine"
      ],
      "metadata": {
        "id": "HesCbua_yR2E"
      }
    },
    {
      "cell_type": "code",
      "source": [
        "from sklearn.ensemble import GradientBoostingClassifier\n",
        "from sklearn.metrics import accuracy_score\n",
        "\n",
        "# Example: Assuming X_train, X_test, y_train, y_test are already defined from previous steps\n",
        "\n",
        "imputer = SimpleImputer(strategy='mean')\n",
        "\n",
        "# Fit and transform the imputer on the training data\n",
        "X_train = imputer.fit_transform(X_train)\n",
        "\n",
        "# Transform the test data using the fitted imputer\n",
        "X_test = imputer.transform(X_test)\n",
        "# Initialize GBM classifier\n",
        "gbm = GradientBoostingClassifier(random_state=42)\n",
        "\n",
        "\n",
        "# Fit the model on training data\n",
        "gbm.fit(X_train, y_train)\n",
        "\n",
        "# Predict on training set\n",
        "y_train_pred = gbm.predict(X_train)\n",
        "\n",
        "# Calculate training accuracy\n",
        "train_accuracy = accuracy_score(y_train, y_train_pred)\n",
        "print(f\"Training Accuracy (GBM): {train_accuracy}\")\n",
        "\n",
        "# Predict on test set\n",
        "y_test_pred = gbm.predict(X_test)\n",
        "\n",
        "# Calculate test accuracy\n",
        "test_accuracy = accuracy_score(y_test, y_test_pred)\n",
        "print(f\"Test Accuracy (GBM): {test_accuracy}\")\n"
      ],
      "metadata": {
        "colab": {
          "base_uri": "https://localhost:8080/"
        },
        "id": "MQTQnlUdlHkl",
        "outputId": "bf0d1db2-b8de-4571-f00d-f26444cea928"
      },
      "execution_count": null,
      "outputs": [
        {
          "output_type": "stream",
          "name": "stdout",
          "text": [
            "Training Accuracy (GBM): 0.9881266490765171\n",
            "Test Accuracy (GBM): 0.8526315789473684\n"
          ]
        }
      ]
    },
    {
      "cell_type": "code",
      "source": [
        "import lightgbm as lgb\n",
        "\n",
        "# Convert data to lightgbm Dataset format\n",
        "train_data = lgb.Dataset(X_train, label=y_train)\n",
        "test_data = lgb.Dataset(X_test, label=y_test)\n",
        "\n",
        "# Set parameters for LightGBM\n",
        "params = {\n",
        "    'objective': 'binary',\n",
        "    'metric': 'binary_error',\n",
        "    'verbosity': -1,\n",
        "    'seed': 42\n",
        "}\n",
        "\n",
        "# Train LightGBM model\n",
        "lgb_model = lgb.train(params, train_data, num_boost_round=100, valid_sets=[train_data, test_data])\n",
        "\n",
        "# Predict on training set\n",
        "y_train_pred_lgb = lgb_model.predict(X_train)\n",
        "y_train_pred_lgb = [round(pred) for pred in y_train_pred_lgb]\n",
        "\n",
        "# Calculate training accuracy\n",
        "train_accuracy_lgb = accuracy_score(y_train, y_train_pred_lgb)\n",
        "print(f\"Training Accuracy (LightGBM): {train_accuracy_lgb}\")\n",
        "\n",
        "# Predict on test set\n",
        "y_test_pred_lgb = lgb_model.predict(X_test)\n",
        "y_test_pred_lgb = [round(pred) for pred in y_test_pred_lgb]\n",
        "\n",
        "# Calculate test accuracy\n",
        "test_accuracy_lgb = accuracy_score(y_test, y_test_pred_lgb)\n",
        "print(f\"Test Accuracy (LightGBM): {test_accuracy_lgb}\")\n"
      ],
      "metadata": {
        "colab": {
          "base_uri": "https://localhost:8080/"
        },
        "id": "ABLvHu-_xcAa",
        "outputId": "a85a25e1-f125-490e-ca50-67ead9079fe3"
      },
      "execution_count": null,
      "outputs": [
        {
          "output_type": "stream",
          "name": "stdout",
          "text": [
            "Training Accuracy (LightGBM): 1.0\n",
            "Test Accuracy (LightGBM): 0.8526315789473684\n"
          ]
        }
      ]
    },
    {
      "cell_type": "code",
      "source": [
        "!pip install catboost"
      ],
      "metadata": {
        "colab": {
          "base_uri": "https://localhost:8080/"
        },
        "id": "42ZOzpYizHv1",
        "outputId": "5c09f482-4717-4108-ec10-8d70bd08f996"
      },
      "execution_count": null,
      "outputs": [
        {
          "output_type": "stream",
          "name": "stdout",
          "text": [
            "Collecting catboost\n",
            "  Downloading catboost-1.2.5-cp310-cp310-manylinux2014_x86_64.whl (98.2 MB)\n",
            "\u001b[2K     \u001b[90m━━━━━━━━━━━━━━━━━━━━━━━━━━━━━━━━━━━━━━━━\u001b[0m \u001b[32m98.2/98.2 MB\u001b[0m \u001b[31m7.9 MB/s\u001b[0m eta \u001b[36m0:00:00\u001b[0m\n",
            "\u001b[?25hRequirement already satisfied: graphviz in /usr/local/lib/python3.10/dist-packages (from catboost) (0.20.3)\n",
            "Requirement already satisfied: matplotlib in /usr/local/lib/python3.10/dist-packages (from catboost) (3.7.1)\n",
            "Requirement already satisfied: numpy>=1.16.0 in /usr/local/lib/python3.10/dist-packages (from catboost) (1.25.2)\n",
            "Requirement already satisfied: pandas>=0.24 in /usr/local/lib/python3.10/dist-packages (from catboost) (2.0.3)\n",
            "Requirement already satisfied: scipy in /usr/local/lib/python3.10/dist-packages (from catboost) (1.11.4)\n",
            "Requirement already satisfied: plotly in /usr/local/lib/python3.10/dist-packages (from catboost) (5.15.0)\n",
            "Requirement already satisfied: six in /usr/local/lib/python3.10/dist-packages (from catboost) (1.16.0)\n",
            "Requirement already satisfied: python-dateutil>=2.8.2 in /usr/local/lib/python3.10/dist-packages (from pandas>=0.24->catboost) (2.8.2)\n",
            "Requirement already satisfied: pytz>=2020.1 in /usr/local/lib/python3.10/dist-packages (from pandas>=0.24->catboost) (2023.4)\n",
            "Requirement already satisfied: tzdata>=2022.1 in /usr/local/lib/python3.10/dist-packages (from pandas>=0.24->catboost) (2024.1)\n",
            "Requirement already satisfied: contourpy>=1.0.1 in /usr/local/lib/python3.10/dist-packages (from matplotlib->catboost) (1.2.1)\n",
            "Requirement already satisfied: cycler>=0.10 in /usr/local/lib/python3.10/dist-packages (from matplotlib->catboost) (0.12.1)\n",
            "Requirement already satisfied: fonttools>=4.22.0 in /usr/local/lib/python3.10/dist-packages (from matplotlib->catboost) (4.53.0)\n",
            "Requirement already satisfied: kiwisolver>=1.0.1 in /usr/local/lib/python3.10/dist-packages (from matplotlib->catboost) (1.4.5)\n",
            "Requirement already satisfied: packaging>=20.0 in /usr/local/lib/python3.10/dist-packages (from matplotlib->catboost) (24.1)\n",
            "Requirement already satisfied: pillow>=6.2.0 in /usr/local/lib/python3.10/dist-packages (from matplotlib->catboost) (9.4.0)\n",
            "Requirement already satisfied: pyparsing>=2.3.1 in /usr/local/lib/python3.10/dist-packages (from matplotlib->catboost) (3.1.2)\n",
            "Requirement already satisfied: tenacity>=6.2.0 in /usr/local/lib/python3.10/dist-packages (from plotly->catboost) (8.4.1)\n",
            "Installing collected packages: catboost\n",
            "Successfully installed catboost-1.2.5\n"
          ]
        }
      ]
    },
    {
      "cell_type": "code",
      "source": [
        "from catboost import CatBoostClassifier\n",
        "\n",
        "# Initialize CatBoost classifier\n",
        "catboost_model = CatBoostClassifier(iterations=1000, random_state=42, logging_level='Silent')\n",
        "\n",
        "# Fit the model on training data\n",
        "catboost_model.fit(X_train, y_train)\n",
        "\n",
        "# Predict on training set\n",
        "y_train_pred_cb = catboost_model.predict(X_train)\n",
        "\n",
        "# Calculate training accuracy\n",
        "train_accuracy_cb = accuracy_score(y_train, y_train_pred_cb)\n",
        "print(f\"Training Accuracy (CatBoost): {train_accuracy_cb}\")\n",
        "\n",
        "# Predict on test set\n",
        "y_test_pred_cb = catboost_model.predict(X_test)\n",
        "\n",
        "# Calculate test accuracy\n",
        "test_accuracy_cb = accuracy_score(y_test, y_test_pred_cb)\n",
        "print(f\"Test Accuracy (CatBoost): {test_accuracy_cb}\")"
      ],
      "metadata": {
        "colab": {
          "base_uri": "https://localhost:8080/"
        },
        "id": "TTtA73wkyo_t",
        "outputId": "e8bf5490-74dc-4255-b29c-93ac1cdcf5cf"
      },
      "execution_count": null,
      "outputs": [
        {
          "output_type": "stream",
          "name": "stdout",
          "text": [
            "Training Accuracy (CatBoost): 1.0\n",
            "Test Accuracy (CatBoost): 0.8789473684210526\n"
          ]
        }
      ]
    },
    {
      "cell_type": "markdown",
      "source": [
        "Random Forest"
      ],
      "metadata": {
        "id": "QNJwCbry0FWN"
      }
    },
    {
      "cell_type": "code",
      "source": [
        "from sklearn.ensemble import RandomForestClassifier\n",
        "from sklearn.metrics import accuracy_score, classification_report\n",
        "from sklearn.model_selection import train_test_split\n",
        "\n",
        "# Assuming you have already prepared your features X and target variable y\n",
        "# Split the data into training and test sets (adjust test_size and random_state as needed)\n",
        "X_train, X_test, y_train, y_test = train_test_split(X, y, test_size=0.1, random_state=42)\n",
        "\n",
        "imputer = SimpleImputer(strategy='mean')\n",
        "\n",
        "# Fit and transform the imputer on the training data\n",
        "X_train = imputer.fit_transform(X_train)\n",
        "\n",
        "# Transform the test data using the fitted imputer\n",
        "X_test = imputer.transform(X_test)\n",
        "\n",
        "# Initialize Random Forest classifier with 100 trees\n",
        "rf_model = RandomForestClassifier(n_estimators=100, random_state=42)\n",
        "\n",
        "# Fit the model on the training data\n",
        "rf_model.fit(X_train, y_train)\n",
        "\n",
        "# Predict on training set\n",
        "y_train_pred = rf_model.predict(X_train)\n",
        "\n",
        "# Calculate training accuracy\n",
        "train_accuracy = accuracy_score(y_train, y_train_pred)\n",
        "print(f\"Training Accuracy: {train_accuracy}\")\n",
        "\n",
        "# Predict on test set\n",
        "y_test_pred = rf_model.predict(X_test)\n",
        "\n",
        "# Calculate test accuracy\n",
        "test_accuracy = accuracy_score(y_test, y_test_pred)\n",
        "print(f\"Test Accuracy: {test_accuracy}\")\n",
        "\n",
        "# Print classification report\n",
        "print(\"Classification Report:\")\n",
        "print(classification_report(y_test, y_test_pred))\n",
        "\n",
        "# If you want to extract feature importances\n",
        "feature_importances = rf_model.feature_importances_\n",
        "print(\"Feature Importances:\")\n",
        "print(feature_importances)\n"
      ],
      "metadata": {
        "colab": {
          "base_uri": "https://localhost:8080/"
        },
        "id": "s2gpw9P00Buz",
        "outputId": "bbc617fa-be9a-4da2-ea74-4a23c6e96fba"
      },
      "execution_count": null,
      "outputs": [
        {
          "output_type": "stream",
          "name": "stdout",
          "text": [
            "Training Accuracy: 1.0\n",
            "Test Accuracy: 0.8842105263157894\n",
            "Classification Report:\n",
            "              precision    recall  f1-score   support\n",
            "\n",
            "           0       0.89      0.87      0.88        45\n",
            "           1       0.88      0.90      0.89        50\n",
            "\n",
            "    accuracy                           0.88        95\n",
            "   macro avg       0.88      0.88      0.88        95\n",
            "weighted avg       0.88      0.88      0.88        95\n",
            "\n",
            "Feature Importances:\n",
            "[0.02187892 0.02217316 0.02240554 0.05300149 0.05269262 0.00840851\n",
            " 0.00634786 0.00933527 0.00845291 0.01777967 0.01766434 0.16689903\n",
            " 0.19642417 0.02180023 0.02128744 0.07483895 0.0626712  0.02637244\n",
            " 0.02397579 0.02526479 0.02167739 0.0260757  0.02523313 0.0030842\n",
            " 0.00323983 0.02404445 0.01620943 0.02076155]\n"
          ]
        }
      ]
    },
    {
      "cell_type": "markdown",
      "source": [
        "File Generation"
      ],
      "metadata": {
        "id": "d22wox2975lT"
      }
    },
    {
      "cell_type": "code",
      "source": [
        "from sklearn.ensemble import GradientBoostingClassifier"
      ],
      "metadata": {
        "id": "9UC7lyfXy9q_"
      },
      "execution_count": null,
      "outputs": []
    },
    {
      "cell_type": "code",
      "source": [
        "\n",
        "X_featureNames=X.columns\n",
        "imputer = SimpleImputer(strategy='mean')\n",
        "\n",
        "# Fit and transform the imputer on the training data\n",
        "X_train = imputer.fit_transform(X_train)\n",
        "\n",
        "# Transform the test data using the fitted imputer\n",
        "X_test = imputer.transform(X_test)\n",
        "X_train = pd.DataFrame(X_train, columns=X.columns)\n",
        "X_test = pd.DataFrame(X_test, columns=X.columns)\n",
        "Xtp=pd.DataFrame(X_train);\n",
        "Xtp.describe()"
      ],
      "metadata": {
        "colab": {
          "base_uri": "https://localhost:8080/",
          "height": 349
        },
        "id": "IfR4YsD28WSj",
        "outputId": "22de806d-4dd4-451b-e292-f97e604692b1"
      },
      "execution_count": null,
      "outputs": [
        {
          "output_type": "execute_result",
          "data": {
            "text/plain": [
              "           match id  team1_avg_strike_rate  team2_avg_strike_rate  \\\n",
              "count  8.530000e+02             853.000000             853.000000   \n",
              "mean   9.328845e+06             109.004483             107.739245   \n",
              "std    2.304150e+05              12.501060              11.516708   \n",
              "min    8.797053e+06              29.170000              62.068357   \n",
              "25%    9.097227e+06             104.901818             103.379364   \n",
              "50%    9.330915e+06             109.004483             107.739245   \n",
              "75%    9.484600e+06             114.519394             111.961455   \n",
              "max    9.887863e+06             153.617200             150.733400   \n",
              "\n",
              "       team1_avg_win_percent  team2_avg_win_percent  direct_ecounter_1  \\\n",
              "count             853.000000             853.000000         853.000000   \n",
              "mean               32.825322              34.960922          28.160084   \n",
              "std                28.073509              28.396409          40.866679   \n",
              "min                 0.000000               0.000000           0.000000   \n",
              "25%                 0.000000              20.000000           0.000000   \n",
              "50%                25.000000              33.333333           0.000000   \n",
              "75%                50.000000              50.000000          50.000000   \n",
              "max               100.000000             100.000000         100.000000   \n",
              "\n",
              "       direct_ecounter_2  team1_venue  team2_venue  team1_avg_wickets  ...  \\\n",
              "count         853.000000   853.000000   853.000000         853.000000  ...   \n",
              "mean           25.649998    29.341654    29.873938           5.691676  ...   \n",
              "std            39.420917    39.026963    39.696605           2.033704  ...   \n",
              "min             0.000000     0.000000     0.000000           0.000000  ...   \n",
              "25%             0.000000     0.000000     0.000000           4.600000  ...   \n",
              "50%             0.000000     0.000000     0.000000           6.000000  ...   \n",
              "75%            50.000000    50.000000    50.000000           7.000000  ...   \n",
              "max           100.000000   100.000000   100.000000          11.000000  ...   \n",
              "\n",
              "       team2_bound  team1_top3  team2_top3  team1_economy  team2_economy  \\\n",
              "count   853.000000  853.000000  853.000000     853.000000     853.000000   \n",
              "mean     13.981243   99.995428  102.283177       7.377841       7.571238   \n",
              "std       7.178137   37.353908   35.517918       2.470360       2.250220   \n",
              "min       0.000000    0.000000    0.000000       0.000000       0.000000   \n",
              "25%       8.600000   92.000000   92.800000       7.129870       7.265823   \n",
              "50%      15.400000  108.600000  109.200000       8.016667       8.066087   \n",
              "75%      19.400000  122.333333  124.200000       8.635514       8.752941   \n",
              "max      29.800000  199.000000  193.000000      12.562500      11.650000   \n",
              "\n",
              "       team1_toss  team2_toss      match id      team1_id      team2_id  \n",
              "count  853.000000  853.000000  8.530000e+02    853.000000    853.000000  \n",
              "mean     0.504657    0.495343  9.328845e+06  22063.656506  21931.780774  \n",
              "std      0.014023    0.014023  2.304150e+05  17677.463967  17617.786581  \n",
              "min      0.485232    0.485232  8.797053e+06     20.000000     20.000000  \n",
              "25%      0.485232    0.485232  9.097227e+06   6838.000000   7258.000000  \n",
              "50%      0.514768    0.485232  9.330915e+06  18570.000000  17982.000000  \n",
              "75%      0.514768    0.514768  9.484600e+06  36126.000000  36126.000000  \n",
              "max      0.514768    0.514768  9.887863e+06  49657.000000  49657.000000  \n",
              "\n",
              "[8 rows x 28 columns]"
            ],
            "text/html": [
              "\n",
              "  <div id=\"df-75d98117-049a-4eca-a7be-f7839611ccf9\" class=\"colab-df-container\">\n",
              "    <div>\n",
              "<style scoped>\n",
              "    .dataframe tbody tr th:only-of-type {\n",
              "        vertical-align: middle;\n",
              "    }\n",
              "\n",
              "    .dataframe tbody tr th {\n",
              "        vertical-align: top;\n",
              "    }\n",
              "\n",
              "    .dataframe thead th {\n",
              "        text-align: right;\n",
              "    }\n",
              "</style>\n",
              "<table border=\"1\" class=\"dataframe\">\n",
              "  <thead>\n",
              "    <tr style=\"text-align: right;\">\n",
              "      <th></th>\n",
              "      <th>match id</th>\n",
              "      <th>team1_avg_strike_rate</th>\n",
              "      <th>team2_avg_strike_rate</th>\n",
              "      <th>team1_avg_win_percent</th>\n",
              "      <th>team2_avg_win_percent</th>\n",
              "      <th>direct_ecounter_1</th>\n",
              "      <th>direct_ecounter_2</th>\n",
              "      <th>team1_venue</th>\n",
              "      <th>team2_venue</th>\n",
              "      <th>team1_avg_wickets</th>\n",
              "      <th>...</th>\n",
              "      <th>team2_bound</th>\n",
              "      <th>team1_top3</th>\n",
              "      <th>team2_top3</th>\n",
              "      <th>team1_economy</th>\n",
              "      <th>team2_economy</th>\n",
              "      <th>team1_toss</th>\n",
              "      <th>team2_toss</th>\n",
              "      <th>match id</th>\n",
              "      <th>team1_id</th>\n",
              "      <th>team2_id</th>\n",
              "    </tr>\n",
              "  </thead>\n",
              "  <tbody>\n",
              "    <tr>\n",
              "      <th>count</th>\n",
              "      <td>8.530000e+02</td>\n",
              "      <td>853.000000</td>\n",
              "      <td>853.000000</td>\n",
              "      <td>853.000000</td>\n",
              "      <td>853.000000</td>\n",
              "      <td>853.000000</td>\n",
              "      <td>853.000000</td>\n",
              "      <td>853.000000</td>\n",
              "      <td>853.000000</td>\n",
              "      <td>853.000000</td>\n",
              "      <td>...</td>\n",
              "      <td>853.000000</td>\n",
              "      <td>853.000000</td>\n",
              "      <td>853.000000</td>\n",
              "      <td>853.000000</td>\n",
              "      <td>853.000000</td>\n",
              "      <td>853.000000</td>\n",
              "      <td>853.000000</td>\n",
              "      <td>8.530000e+02</td>\n",
              "      <td>853.000000</td>\n",
              "      <td>853.000000</td>\n",
              "    </tr>\n",
              "    <tr>\n",
              "      <th>mean</th>\n",
              "      <td>9.328845e+06</td>\n",
              "      <td>109.004483</td>\n",
              "      <td>107.739245</td>\n",
              "      <td>32.825322</td>\n",
              "      <td>34.960922</td>\n",
              "      <td>28.160084</td>\n",
              "      <td>25.649998</td>\n",
              "      <td>29.341654</td>\n",
              "      <td>29.873938</td>\n",
              "      <td>5.691676</td>\n",
              "      <td>...</td>\n",
              "      <td>13.981243</td>\n",
              "      <td>99.995428</td>\n",
              "      <td>102.283177</td>\n",
              "      <td>7.377841</td>\n",
              "      <td>7.571238</td>\n",
              "      <td>0.504657</td>\n",
              "      <td>0.495343</td>\n",
              "      <td>9.328845e+06</td>\n",
              "      <td>22063.656506</td>\n",
              "      <td>21931.780774</td>\n",
              "    </tr>\n",
              "    <tr>\n",
              "      <th>std</th>\n",
              "      <td>2.304150e+05</td>\n",
              "      <td>12.501060</td>\n",
              "      <td>11.516708</td>\n",
              "      <td>28.073509</td>\n",
              "      <td>28.396409</td>\n",
              "      <td>40.866679</td>\n",
              "      <td>39.420917</td>\n",
              "      <td>39.026963</td>\n",
              "      <td>39.696605</td>\n",
              "      <td>2.033704</td>\n",
              "      <td>...</td>\n",
              "      <td>7.178137</td>\n",
              "      <td>37.353908</td>\n",
              "      <td>35.517918</td>\n",
              "      <td>2.470360</td>\n",
              "      <td>2.250220</td>\n",
              "      <td>0.014023</td>\n",
              "      <td>0.014023</td>\n",
              "      <td>2.304150e+05</td>\n",
              "      <td>17677.463967</td>\n",
              "      <td>17617.786581</td>\n",
              "    </tr>\n",
              "    <tr>\n",
              "      <th>min</th>\n",
              "      <td>8.797053e+06</td>\n",
              "      <td>29.170000</td>\n",
              "      <td>62.068357</td>\n",
              "      <td>0.000000</td>\n",
              "      <td>0.000000</td>\n",
              "      <td>0.000000</td>\n",
              "      <td>0.000000</td>\n",
              "      <td>0.000000</td>\n",
              "      <td>0.000000</td>\n",
              "      <td>0.000000</td>\n",
              "      <td>...</td>\n",
              "      <td>0.000000</td>\n",
              "      <td>0.000000</td>\n",
              "      <td>0.000000</td>\n",
              "      <td>0.000000</td>\n",
              "      <td>0.000000</td>\n",
              "      <td>0.485232</td>\n",
              "      <td>0.485232</td>\n",
              "      <td>8.797053e+06</td>\n",
              "      <td>20.000000</td>\n",
              "      <td>20.000000</td>\n",
              "    </tr>\n",
              "    <tr>\n",
              "      <th>25%</th>\n",
              "      <td>9.097227e+06</td>\n",
              "      <td>104.901818</td>\n",
              "      <td>103.379364</td>\n",
              "      <td>0.000000</td>\n",
              "      <td>20.000000</td>\n",
              "      <td>0.000000</td>\n",
              "      <td>0.000000</td>\n",
              "      <td>0.000000</td>\n",
              "      <td>0.000000</td>\n",
              "      <td>4.600000</td>\n",
              "      <td>...</td>\n",
              "      <td>8.600000</td>\n",
              "      <td>92.000000</td>\n",
              "      <td>92.800000</td>\n",
              "      <td>7.129870</td>\n",
              "      <td>7.265823</td>\n",
              "      <td>0.485232</td>\n",
              "      <td>0.485232</td>\n",
              "      <td>9.097227e+06</td>\n",
              "      <td>6838.000000</td>\n",
              "      <td>7258.000000</td>\n",
              "    </tr>\n",
              "    <tr>\n",
              "      <th>50%</th>\n",
              "      <td>9.330915e+06</td>\n",
              "      <td>109.004483</td>\n",
              "      <td>107.739245</td>\n",
              "      <td>25.000000</td>\n",
              "      <td>33.333333</td>\n",
              "      <td>0.000000</td>\n",
              "      <td>0.000000</td>\n",
              "      <td>0.000000</td>\n",
              "      <td>0.000000</td>\n",
              "      <td>6.000000</td>\n",
              "      <td>...</td>\n",
              "      <td>15.400000</td>\n",
              "      <td>108.600000</td>\n",
              "      <td>109.200000</td>\n",
              "      <td>8.016667</td>\n",
              "      <td>8.066087</td>\n",
              "      <td>0.514768</td>\n",
              "      <td>0.485232</td>\n",
              "      <td>9.330915e+06</td>\n",
              "      <td>18570.000000</td>\n",
              "      <td>17982.000000</td>\n",
              "    </tr>\n",
              "    <tr>\n",
              "      <th>75%</th>\n",
              "      <td>9.484600e+06</td>\n",
              "      <td>114.519394</td>\n",
              "      <td>111.961455</td>\n",
              "      <td>50.000000</td>\n",
              "      <td>50.000000</td>\n",
              "      <td>50.000000</td>\n",
              "      <td>50.000000</td>\n",
              "      <td>50.000000</td>\n",
              "      <td>50.000000</td>\n",
              "      <td>7.000000</td>\n",
              "      <td>...</td>\n",
              "      <td>19.400000</td>\n",
              "      <td>122.333333</td>\n",
              "      <td>124.200000</td>\n",
              "      <td>8.635514</td>\n",
              "      <td>8.752941</td>\n",
              "      <td>0.514768</td>\n",
              "      <td>0.514768</td>\n",
              "      <td>9.484600e+06</td>\n",
              "      <td>36126.000000</td>\n",
              "      <td>36126.000000</td>\n",
              "    </tr>\n",
              "    <tr>\n",
              "      <th>max</th>\n",
              "      <td>9.887863e+06</td>\n",
              "      <td>153.617200</td>\n",
              "      <td>150.733400</td>\n",
              "      <td>100.000000</td>\n",
              "      <td>100.000000</td>\n",
              "      <td>100.000000</td>\n",
              "      <td>100.000000</td>\n",
              "      <td>100.000000</td>\n",
              "      <td>100.000000</td>\n",
              "      <td>11.000000</td>\n",
              "      <td>...</td>\n",
              "      <td>29.800000</td>\n",
              "      <td>199.000000</td>\n",
              "      <td>193.000000</td>\n",
              "      <td>12.562500</td>\n",
              "      <td>11.650000</td>\n",
              "      <td>0.514768</td>\n",
              "      <td>0.514768</td>\n",
              "      <td>9.887863e+06</td>\n",
              "      <td>49657.000000</td>\n",
              "      <td>49657.000000</td>\n",
              "    </tr>\n",
              "  </tbody>\n",
              "</table>\n",
              "<p>8 rows × 28 columns</p>\n",
              "</div>\n",
              "    <div class=\"colab-df-buttons\">\n",
              "\n",
              "  <div class=\"colab-df-container\">\n",
              "    <button class=\"colab-df-convert\" onclick=\"convertToInteractive('df-75d98117-049a-4eca-a7be-f7839611ccf9')\"\n",
              "            title=\"Convert this dataframe to an interactive table.\"\n",
              "            style=\"display:none;\">\n",
              "\n",
              "  <svg xmlns=\"http://www.w3.org/2000/svg\" height=\"24px\" viewBox=\"0 -960 960 960\">\n",
              "    <path d=\"M120-120v-720h720v720H120Zm60-500h600v-160H180v160Zm220 220h160v-160H400v160Zm0 220h160v-160H400v160ZM180-400h160v-160H180v160Zm440 0h160v-160H620v160ZM180-180h160v-160H180v160Zm440 0h160v-160H620v160Z\"/>\n",
              "  </svg>\n",
              "    </button>\n",
              "\n",
              "  <style>\n",
              "    .colab-df-container {\n",
              "      display:flex;\n",
              "      gap: 12px;\n",
              "    }\n",
              "\n",
              "    .colab-df-convert {\n",
              "      background-color: #E8F0FE;\n",
              "      border: none;\n",
              "      border-radius: 50%;\n",
              "      cursor: pointer;\n",
              "      display: none;\n",
              "      fill: #1967D2;\n",
              "      height: 32px;\n",
              "      padding: 0 0 0 0;\n",
              "      width: 32px;\n",
              "    }\n",
              "\n",
              "    .colab-df-convert:hover {\n",
              "      background-color: #E2EBFA;\n",
              "      box-shadow: 0px 1px 2px rgba(60, 64, 67, 0.3), 0px 1px 3px 1px rgba(60, 64, 67, 0.15);\n",
              "      fill: #174EA6;\n",
              "    }\n",
              "\n",
              "    .colab-df-buttons div {\n",
              "      margin-bottom: 4px;\n",
              "    }\n",
              "\n",
              "    [theme=dark] .colab-df-convert {\n",
              "      background-color: #3B4455;\n",
              "      fill: #D2E3FC;\n",
              "    }\n",
              "\n",
              "    [theme=dark] .colab-df-convert:hover {\n",
              "      background-color: #434B5C;\n",
              "      box-shadow: 0px 1px 3px 1px rgba(0, 0, 0, 0.15);\n",
              "      filter: drop-shadow(0px 1px 2px rgba(0, 0, 0, 0.3));\n",
              "      fill: #FFFFFF;\n",
              "    }\n",
              "  </style>\n",
              "\n",
              "    <script>\n",
              "      const buttonEl =\n",
              "        document.querySelector('#df-75d98117-049a-4eca-a7be-f7839611ccf9 button.colab-df-convert');\n",
              "      buttonEl.style.display =\n",
              "        google.colab.kernel.accessAllowed ? 'block' : 'none';\n",
              "\n",
              "      async function convertToInteractive(key) {\n",
              "        const element = document.querySelector('#df-75d98117-049a-4eca-a7be-f7839611ccf9');\n",
              "        const dataTable =\n",
              "          await google.colab.kernel.invokeFunction('convertToInteractive',\n",
              "                                                    [key], {});\n",
              "        if (!dataTable) return;\n",
              "\n",
              "        const docLinkHtml = 'Like what you see? Visit the ' +\n",
              "          '<a target=\"_blank\" href=https://colab.research.google.com/notebooks/data_table.ipynb>data table notebook</a>'\n",
              "          + ' to learn more about interactive tables.';\n",
              "        element.innerHTML = '';\n",
              "        dataTable['output_type'] = 'display_data';\n",
              "        await google.colab.output.renderOutput(dataTable, element);\n",
              "        const docLink = document.createElement('div');\n",
              "        docLink.innerHTML = docLinkHtml;\n",
              "        element.appendChild(docLink);\n",
              "      }\n",
              "    </script>\n",
              "  </div>\n",
              "\n",
              "\n",
              "<div id=\"df-f2c45b2a-3bee-4b06-8510-dc781226f85d\">\n",
              "  <button class=\"colab-df-quickchart\" onclick=\"quickchart('df-f2c45b2a-3bee-4b06-8510-dc781226f85d')\"\n",
              "            title=\"Suggest charts\"\n",
              "            style=\"display:none;\">\n",
              "\n",
              "<svg xmlns=\"http://www.w3.org/2000/svg\" height=\"24px\"viewBox=\"0 0 24 24\"\n",
              "     width=\"24px\">\n",
              "    <g>\n",
              "        <path d=\"M19 3H5c-1.1 0-2 .9-2 2v14c0 1.1.9 2 2 2h14c1.1 0 2-.9 2-2V5c0-1.1-.9-2-2-2zM9 17H7v-7h2v7zm4 0h-2V7h2v10zm4 0h-2v-4h2v4z\"/>\n",
              "    </g>\n",
              "</svg>\n",
              "  </button>\n",
              "\n",
              "<style>\n",
              "  .colab-df-quickchart {\n",
              "      --bg-color: #E8F0FE;\n",
              "      --fill-color: #1967D2;\n",
              "      --hover-bg-color: #E2EBFA;\n",
              "      --hover-fill-color: #174EA6;\n",
              "      --disabled-fill-color: #AAA;\n",
              "      --disabled-bg-color: #DDD;\n",
              "  }\n",
              "\n",
              "  [theme=dark] .colab-df-quickchart {\n",
              "      --bg-color: #3B4455;\n",
              "      --fill-color: #D2E3FC;\n",
              "      --hover-bg-color: #434B5C;\n",
              "      --hover-fill-color: #FFFFFF;\n",
              "      --disabled-bg-color: #3B4455;\n",
              "      --disabled-fill-color: #666;\n",
              "  }\n",
              "\n",
              "  .colab-df-quickchart {\n",
              "    background-color: var(--bg-color);\n",
              "    border: none;\n",
              "    border-radius: 50%;\n",
              "    cursor: pointer;\n",
              "    display: none;\n",
              "    fill: var(--fill-color);\n",
              "    height: 32px;\n",
              "    padding: 0;\n",
              "    width: 32px;\n",
              "  }\n",
              "\n",
              "  .colab-df-quickchart:hover {\n",
              "    background-color: var(--hover-bg-color);\n",
              "    box-shadow: 0 1px 2px rgba(60, 64, 67, 0.3), 0 1px 3px 1px rgba(60, 64, 67, 0.15);\n",
              "    fill: var(--button-hover-fill-color);\n",
              "  }\n",
              "\n",
              "  .colab-df-quickchart-complete:disabled,\n",
              "  .colab-df-quickchart-complete:disabled:hover {\n",
              "    background-color: var(--disabled-bg-color);\n",
              "    fill: var(--disabled-fill-color);\n",
              "    box-shadow: none;\n",
              "  }\n",
              "\n",
              "  .colab-df-spinner {\n",
              "    border: 2px solid var(--fill-color);\n",
              "    border-color: transparent;\n",
              "    border-bottom-color: var(--fill-color);\n",
              "    animation:\n",
              "      spin 1s steps(1) infinite;\n",
              "  }\n",
              "\n",
              "  @keyframes spin {\n",
              "    0% {\n",
              "      border-color: transparent;\n",
              "      border-bottom-color: var(--fill-color);\n",
              "      border-left-color: var(--fill-color);\n",
              "    }\n",
              "    20% {\n",
              "      border-color: transparent;\n",
              "      border-left-color: var(--fill-color);\n",
              "      border-top-color: var(--fill-color);\n",
              "    }\n",
              "    30% {\n",
              "      border-color: transparent;\n",
              "      border-left-color: var(--fill-color);\n",
              "      border-top-color: var(--fill-color);\n",
              "      border-right-color: var(--fill-color);\n",
              "    }\n",
              "    40% {\n",
              "      border-color: transparent;\n",
              "      border-right-color: var(--fill-color);\n",
              "      border-top-color: var(--fill-color);\n",
              "    }\n",
              "    60% {\n",
              "      border-color: transparent;\n",
              "      border-right-color: var(--fill-color);\n",
              "    }\n",
              "    80% {\n",
              "      border-color: transparent;\n",
              "      border-right-color: var(--fill-color);\n",
              "      border-bottom-color: var(--fill-color);\n",
              "    }\n",
              "    90% {\n",
              "      border-color: transparent;\n",
              "      border-bottom-color: var(--fill-color);\n",
              "    }\n",
              "  }\n",
              "</style>\n",
              "\n",
              "  <script>\n",
              "    async function quickchart(key) {\n",
              "      const quickchartButtonEl =\n",
              "        document.querySelector('#' + key + ' button');\n",
              "      quickchartButtonEl.disabled = true;  // To prevent multiple clicks.\n",
              "      quickchartButtonEl.classList.add('colab-df-spinner');\n",
              "      try {\n",
              "        const charts = await google.colab.kernel.invokeFunction(\n",
              "            'suggestCharts', [key], {});\n",
              "      } catch (error) {\n",
              "        console.error('Error during call to suggestCharts:', error);\n",
              "      }\n",
              "      quickchartButtonEl.classList.remove('colab-df-spinner');\n",
              "      quickchartButtonEl.classList.add('colab-df-quickchart-complete');\n",
              "    }\n",
              "    (() => {\n",
              "      let quickchartButtonEl =\n",
              "        document.querySelector('#df-f2c45b2a-3bee-4b06-8510-dc781226f85d button');\n",
              "      quickchartButtonEl.style.display =\n",
              "        google.colab.kernel.accessAllowed ? 'block' : 'none';\n",
              "    })();\n",
              "  </script>\n",
              "</div>\n",
              "\n",
              "    </div>\n",
              "  </div>\n"
            ],
            "application/vnd.google.colaboratory.intrinsic+json": {
              "type": "dataframe"
            }
          },
          "metadata": {},
          "execution_count": 103
        }
      ]
    },
    {
      "cell_type": "code",
      "source": [
        "# Check the shapes of your dataframes and predictions\n",
        "print(\"Shape of X_train:\", X_train.shape)\n",
        "print(\"Shape of train_set:\", train_set.shape)\n",
        "# print(\"Length of predictions:\", len(clf_gbm.predict(X_train)))\n",
        "\n",
        "# If there's a mismatch, re-examine your data splitting process.\n",
        "# Make sure no target variable information is leaking into X_train."
      ],
      "metadata": {
        "colab": {
          "base_uri": "https://localhost:8080/"
        },
        "id": "DTWJplbKtXlz",
        "outputId": "23e54a8c-7db0-4d89-cad2-309e4d34e51c"
      },
      "execution_count": null,
      "outputs": [
        {
          "output_type": "stream",
          "name": "stdout",
          "text": [
            "Shape of X_train: (853, 28)\n",
            "Shape of train_set: (758, 29)\n"
          ]
        }
      ]
    },
    {
      "cell_type": "code",
      "source": [
        "\n",
        "# user-defined parameters\n",
        "\n",
        "algo_name = 'GradientBoostingClassifier'\n",
        "is_ensemble = 'no'\n",
        "n_trees = 10\n",
        "depth = 2\n",
        "lr = 0.1"
      ],
      "metadata": {
        "id": "QhDLRbsz7_EE"
      },
      "execution_count": null,
      "outputs": []
    },
    {
      "cell_type": "code",
      "source": [
        "clf_gbm = GradientBoostingClassifier(n_estimators = n_trees, max_depth = depth, learning_rate = lr).fit(X_train,y_train)"
      ],
      "metadata": {
        "id": "bGm2fnvL8Aot"
      },
      "execution_count": null,
      "outputs": []
    },
    {
      "cell_type": "code",
      "source": [
        "train_set['y_pred_01'] = clf_gbm.predict(X_train)\n",
        "test_set['y_pred_01'] = clf_gbm.predict(X_test)"
      ],
      "metadata": {
        "id": "IDnJXl_h8LPj",
        "colab": {
          "base_uri": "https://localhost:8080/",
          "height": 321
        },
        "outputId": "0eed78c1-7c41-4075-dd35-82b9548ec8d6"
      },
      "execution_count": null,
      "outputs": [
        {
          "output_type": "error",
          "ename": "ValueError",
          "evalue": "Length of values (853) does not match length of index (758)",
          "traceback": [
            "\u001b[0;31m---------------------------------------------------------------------------\u001b[0m",
            "\u001b[0;31mValueError\u001b[0m                                Traceback (most recent call last)",
            "\u001b[0;32m<ipython-input-107-af482b95c86e>\u001b[0m in \u001b[0;36m<cell line: 1>\u001b[0;34m()\u001b[0m\n\u001b[0;32m----> 1\u001b[0;31m \u001b[0mtrain_set\u001b[0m\u001b[0;34m[\u001b[0m\u001b[0;34m'y_pred_01'\u001b[0m\u001b[0;34m]\u001b[0m \u001b[0;34m=\u001b[0m \u001b[0mclf_gbm\u001b[0m\u001b[0;34m.\u001b[0m\u001b[0mpredict\u001b[0m\u001b[0;34m(\u001b[0m\u001b[0mX_train\u001b[0m\u001b[0;34m)\u001b[0m\u001b[0;34m\u001b[0m\u001b[0;34m\u001b[0m\u001b[0m\n\u001b[0m\u001b[1;32m      2\u001b[0m \u001b[0mtest_set\u001b[0m\u001b[0;34m[\u001b[0m\u001b[0;34m'y_pred_01'\u001b[0m\u001b[0;34m]\u001b[0m \u001b[0;34m=\u001b[0m \u001b[0mclf_gbm\u001b[0m\u001b[0;34m.\u001b[0m\u001b[0mpredict\u001b[0m\u001b[0;34m(\u001b[0m\u001b[0mX_test\u001b[0m\u001b[0;34m)\u001b[0m\u001b[0;34m\u001b[0m\u001b[0;34m\u001b[0m\u001b[0m\n",
            "\u001b[0;32m/usr/local/lib/python3.10/dist-packages/pandas/core/frame.py\u001b[0m in \u001b[0;36m__setitem__\u001b[0;34m(self, key, value)\u001b[0m\n\u001b[1;32m   3948\u001b[0m         \u001b[0;32melse\u001b[0m\u001b[0;34m:\u001b[0m\u001b[0;34m\u001b[0m\u001b[0;34m\u001b[0m\u001b[0m\n\u001b[1;32m   3949\u001b[0m             \u001b[0;31m# set column\u001b[0m\u001b[0;34m\u001b[0m\u001b[0;34m\u001b[0m\u001b[0m\n\u001b[0;32m-> 3950\u001b[0;31m             \u001b[0mself\u001b[0m\u001b[0;34m.\u001b[0m\u001b[0m_set_item\u001b[0m\u001b[0;34m(\u001b[0m\u001b[0mkey\u001b[0m\u001b[0;34m,\u001b[0m \u001b[0mvalue\u001b[0m\u001b[0;34m)\u001b[0m\u001b[0;34m\u001b[0m\u001b[0;34m\u001b[0m\u001b[0m\n\u001b[0m\u001b[1;32m   3951\u001b[0m \u001b[0;34m\u001b[0m\u001b[0m\n\u001b[1;32m   3952\u001b[0m     \u001b[0;32mdef\u001b[0m \u001b[0m_setitem_slice\u001b[0m\u001b[0;34m(\u001b[0m\u001b[0mself\u001b[0m\u001b[0;34m,\u001b[0m \u001b[0mkey\u001b[0m\u001b[0;34m:\u001b[0m \u001b[0mslice\u001b[0m\u001b[0;34m,\u001b[0m \u001b[0mvalue\u001b[0m\u001b[0;34m)\u001b[0m \u001b[0;34m->\u001b[0m \u001b[0;32mNone\u001b[0m\u001b[0;34m:\u001b[0m\u001b[0;34m\u001b[0m\u001b[0;34m\u001b[0m\u001b[0m\n",
            "\u001b[0;32m/usr/local/lib/python3.10/dist-packages/pandas/core/frame.py\u001b[0m in \u001b[0;36m_set_item\u001b[0;34m(self, key, value)\u001b[0m\n\u001b[1;32m   4141\u001b[0m         \u001b[0mensure\u001b[0m \u001b[0mhomogeneity\u001b[0m\u001b[0;34m.\u001b[0m\u001b[0;34m\u001b[0m\u001b[0;34m\u001b[0m\u001b[0m\n\u001b[1;32m   4142\u001b[0m         \"\"\"\n\u001b[0;32m-> 4143\u001b[0;31m         \u001b[0mvalue\u001b[0m \u001b[0;34m=\u001b[0m \u001b[0mself\u001b[0m\u001b[0;34m.\u001b[0m\u001b[0m_sanitize_column\u001b[0m\u001b[0;34m(\u001b[0m\u001b[0mvalue\u001b[0m\u001b[0;34m)\u001b[0m\u001b[0;34m\u001b[0m\u001b[0;34m\u001b[0m\u001b[0m\n\u001b[0m\u001b[1;32m   4144\u001b[0m \u001b[0;34m\u001b[0m\u001b[0m\n\u001b[1;32m   4145\u001b[0m         if (\n",
            "\u001b[0;32m/usr/local/lib/python3.10/dist-packages/pandas/core/frame.py\u001b[0m in \u001b[0;36m_sanitize_column\u001b[0;34m(self, value)\u001b[0m\n\u001b[1;32m   4868\u001b[0m \u001b[0;34m\u001b[0m\u001b[0m\n\u001b[1;32m   4869\u001b[0m         \u001b[0;32mif\u001b[0m \u001b[0mis_list_like\u001b[0m\u001b[0;34m(\u001b[0m\u001b[0mvalue\u001b[0m\u001b[0;34m)\u001b[0m\u001b[0;34m:\u001b[0m\u001b[0;34m\u001b[0m\u001b[0;34m\u001b[0m\u001b[0m\n\u001b[0;32m-> 4870\u001b[0;31m             \u001b[0mcom\u001b[0m\u001b[0;34m.\u001b[0m\u001b[0mrequire_length_match\u001b[0m\u001b[0;34m(\u001b[0m\u001b[0mvalue\u001b[0m\u001b[0;34m,\u001b[0m \u001b[0mself\u001b[0m\u001b[0;34m.\u001b[0m\u001b[0mindex\u001b[0m\u001b[0;34m)\u001b[0m\u001b[0;34m\u001b[0m\u001b[0;34m\u001b[0m\u001b[0m\n\u001b[0m\u001b[1;32m   4871\u001b[0m         \u001b[0;32mreturn\u001b[0m \u001b[0msanitize_array\u001b[0m\u001b[0;34m(\u001b[0m\u001b[0mvalue\u001b[0m\u001b[0;34m,\u001b[0m \u001b[0mself\u001b[0m\u001b[0;34m.\u001b[0m\u001b[0mindex\u001b[0m\u001b[0;34m,\u001b[0m \u001b[0mcopy\u001b[0m\u001b[0;34m=\u001b[0m\u001b[0;32mTrue\u001b[0m\u001b[0;34m,\u001b[0m \u001b[0mallow_2d\u001b[0m\u001b[0;34m=\u001b[0m\u001b[0;32mTrue\u001b[0m\u001b[0;34m)\u001b[0m\u001b[0;34m\u001b[0m\u001b[0;34m\u001b[0m\u001b[0m\n\u001b[1;32m   4872\u001b[0m \u001b[0;34m\u001b[0m\u001b[0m\n",
            "\u001b[0;32m/usr/local/lib/python3.10/dist-packages/pandas/core/common.py\u001b[0m in \u001b[0;36mrequire_length_match\u001b[0;34m(data, index)\u001b[0m\n\u001b[1;32m    574\u001b[0m     \"\"\"\n\u001b[1;32m    575\u001b[0m     \u001b[0;32mif\u001b[0m \u001b[0mlen\u001b[0m\u001b[0;34m(\u001b[0m\u001b[0mdata\u001b[0m\u001b[0;34m)\u001b[0m \u001b[0;34m!=\u001b[0m \u001b[0mlen\u001b[0m\u001b[0;34m(\u001b[0m\u001b[0mindex\u001b[0m\u001b[0;34m)\u001b[0m\u001b[0;34m:\u001b[0m\u001b[0;34m\u001b[0m\u001b[0;34m\u001b[0m\u001b[0m\n\u001b[0;32m--> 576\u001b[0;31m         raise ValueError(\n\u001b[0m\u001b[1;32m    577\u001b[0m             \u001b[0;34m\"Length of values \"\u001b[0m\u001b[0;34m\u001b[0m\u001b[0;34m\u001b[0m\u001b[0m\n\u001b[1;32m    578\u001b[0m             \u001b[0;34mf\"({len(data)}) \"\u001b[0m\u001b[0;34m\u001b[0m\u001b[0;34m\u001b[0m\u001b[0m\n",
            "\u001b[0;31mValueError\u001b[0m: Length of values (853) does not match length of index (758)"
          ]
        }
      ]
    },
    {
      "source": [],
      "cell_type": "code",
      "metadata": {
        "colab": {
          "base_uri": "https://localhost:8080/"
        },
        "id": "pwc1phQRtLbJ",
        "outputId": "24ffe4ba-9664-4315-acce-8781ecc6b744"
      },
      "execution_count": null,
      "outputs": [
        {
          "output_type": "stream",
          "name": "stdout",
          "text": [
            "Shape of X_train: (853, 28)\n",
            "Shape of train_set: (758, 29)\n",
            "Length of predictions: 853\n"
          ]
        }
      ]
    },
    {
      "cell_type": "code",
      "source": [
        "from sklearn.metrics import classification_report"
      ],
      "metadata": {
        "id": "GjdIemRQ9UQu"
      },
      "execution_count": null,
      "outputs": []
    },
    {
      "cell_type": "code",
      "source": [
        "# Train accuracy\n",
        "print(classification_report(y_train, clf_gbm.predict(X_train), labels=[0,1]))"
      ],
      "metadata": {
        "colab": {
          "base_uri": "https://localhost:8080/"
        },
        "id": "2nIZTYm8_lfH",
        "outputId": "842fecd1-f3c8-40e5-802f-ae2e6fb616d3"
      },
      "execution_count": null,
      "outputs": [
        {
          "output_type": "stream",
          "name": "stdout",
          "text": [
            "              precision    recall  f1-score   support\n",
            "\n",
            "           0       0.85      0.82      0.84       694\n",
            "           1       0.82      0.85      0.84       657\n",
            "\n",
            "    accuracy                           0.84      1351\n",
            "   macro avg       0.84      0.84      0.84      1351\n",
            "weighted avg       0.84      0.84      0.84      1351\n",
            "\n"
          ]
        }
      ]
    },
    {
      "cell_type": "code",
      "source": [
        "train_set['win_pred_score'] = clf_gbm.predict_proba(X_train)[:,1]\n",
        "test_set['win_pred_score'] = clf_gbm.predict_proba(X_test)[:,1]"
      ],
      "metadata": {
        "id": "TApA8Dk3_obe"
      },
      "execution_count": null,
      "outputs": []
    },
    {
      "cell_type": "code",
      "source": [
        "train_set['win_pred_score'] = np.where( (train_set['y_pred_01']==0), (1-train_set['win_pred_score']), train_set['win_pred_score'])\n",
        "test_set['win_pred_score'] = np.where( (test_set['y_pred_01']==0), (1-test_set['win_pred_score']), test_set['win_pred_score'])"
      ],
      "metadata": {
        "id": "Ktm2wDqt_7E3"
      },
      "execution_count": null,
      "outputs": []
    },
    {
      "cell_type": "code",
      "source": [
        "train_set['win_pred_team_id'] = np.where( (train_set['y_pred_01']==0), (train_set['team1_id']), train_set['team2_id'])\n",
        "test_set['win_pred_team_id'] = np.where( (test_set['y_pred_01']==0), (test_set['team1_id']), test_set['team2_id'])"
      ],
      "metadata": {
        "id": "Zj74RdxyAIwp"
      },
      "execution_count": null,
      "outputs": []
    },
    {
      "cell_type": "code",
      "source": [
        "X_train = pd.DataFrame(X_train)\n",
        "print(X_train.columns)\n",
        "df_feat_importance = pd.DataFrame({'feat_name':X_featureNames.tolist(), 'model_feat_imp_train':clf_gbm.feature_importances_}).sort_values(by='model_feat_imp_train', ascending=False)\\\n",
        "                                                                                                                        .reset_index(drop=True)\n",
        "df_feat_importance\n"
      ],
      "metadata": {
        "colab": {
          "base_uri": "https://localhost:8080/",
          "height": 373
        },
        "id": "Jqr7wKdlATEj",
        "outputId": "74da3a8c-dad4-4bc9-f611-39df2d862989"
      },
      "execution_count": null,
      "outputs": [
        {
          "output_type": "stream",
          "name": "stdout",
          "text": [
            "RangeIndex(start=0, stop=25, step=1)\n"
          ]
        },
        {
          "output_type": "error",
          "ename": "ValueError",
          "evalue": "All arrays must be of the same length",
          "traceback": [
            "\u001b[0;31m---------------------------------------------------------------------------\u001b[0m",
            "\u001b[0;31mValueError\u001b[0m                                Traceback (most recent call last)",
            "\u001b[0;32m<ipython-input-429-0d8286e50f2e>\u001b[0m in \u001b[0;36m<cell line: 3>\u001b[0;34m()\u001b[0m\n\u001b[1;32m      1\u001b[0m \u001b[0mX_train\u001b[0m \u001b[0;34m=\u001b[0m \u001b[0mpd\u001b[0m\u001b[0;34m.\u001b[0m\u001b[0mDataFrame\u001b[0m\u001b[0;34m(\u001b[0m\u001b[0mX_train\u001b[0m\u001b[0;34m)\u001b[0m\u001b[0;34m\u001b[0m\u001b[0;34m\u001b[0m\u001b[0m\n\u001b[1;32m      2\u001b[0m \u001b[0mprint\u001b[0m\u001b[0;34m(\u001b[0m\u001b[0mX_train\u001b[0m\u001b[0;34m.\u001b[0m\u001b[0mcolumns\u001b[0m\u001b[0;34m)\u001b[0m\u001b[0;34m\u001b[0m\u001b[0;34m\u001b[0m\u001b[0m\n\u001b[0;32m----> 3\u001b[0;31m \u001b[0mdf_feat_importance\u001b[0m \u001b[0;34m=\u001b[0m \u001b[0mpd\u001b[0m\u001b[0;34m.\u001b[0m\u001b[0mDataFrame\u001b[0m\u001b[0;34m(\u001b[0m\u001b[0;34m{\u001b[0m\u001b[0;34m'feat_name'\u001b[0m\u001b[0;34m:\u001b[0m\u001b[0mX_featureNames\u001b[0m\u001b[0;34m.\u001b[0m\u001b[0mtolist\u001b[0m\u001b[0;34m(\u001b[0m\u001b[0;34m)\u001b[0m\u001b[0;34m,\u001b[0m \u001b[0;34m'model_feat_imp_train'\u001b[0m\u001b[0;34m:\u001b[0m\u001b[0mclf_gbm\u001b[0m\u001b[0;34m.\u001b[0m\u001b[0mfeature_importances_\u001b[0m\u001b[0;34m}\u001b[0m\u001b[0;34m)\u001b[0m\u001b[0;34m.\u001b[0m\u001b[0msort_values\u001b[0m\u001b[0;34m(\u001b[0m\u001b[0mby\u001b[0m\u001b[0;34m=\u001b[0m\u001b[0;34m'model_feat_imp_train'\u001b[0m\u001b[0;34m,\u001b[0m \u001b[0mascending\u001b[0m\u001b[0;34m=\u001b[0m\u001b[0;32mFalse\u001b[0m\u001b[0;34m)\u001b[0m\u001b[0;31m\\\u001b[0m\u001b[0;34m\u001b[0m\u001b[0;34m\u001b[0m\u001b[0m\n\u001b[0m\u001b[1;32m      4\u001b[0m                                                                                                                         \u001b[0;34m.\u001b[0m\u001b[0mreset_index\u001b[0m\u001b[0;34m(\u001b[0m\u001b[0mdrop\u001b[0m\u001b[0;34m=\u001b[0m\u001b[0;32mTrue\u001b[0m\u001b[0;34m)\u001b[0m\u001b[0;34m\u001b[0m\u001b[0;34m\u001b[0m\u001b[0m\n\u001b[1;32m      5\u001b[0m \u001b[0mdf_feat_importance\u001b[0m\u001b[0;34m\u001b[0m\u001b[0;34m\u001b[0m\u001b[0m\n",
            "\u001b[0;32m/usr/local/lib/python3.10/dist-packages/pandas/core/frame.py\u001b[0m in \u001b[0;36m__init__\u001b[0;34m(self, data, index, columns, dtype, copy)\u001b[0m\n\u001b[1;32m    707\u001b[0m         \u001b[0;32melif\u001b[0m \u001b[0misinstance\u001b[0m\u001b[0;34m(\u001b[0m\u001b[0mdata\u001b[0m\u001b[0;34m,\u001b[0m \u001b[0mdict\u001b[0m\u001b[0;34m)\u001b[0m\u001b[0;34m:\u001b[0m\u001b[0;34m\u001b[0m\u001b[0;34m\u001b[0m\u001b[0m\n\u001b[1;32m    708\u001b[0m             \u001b[0;31m# GH#38939 de facto copy defaults to False only in non-dict cases\u001b[0m\u001b[0;34m\u001b[0m\u001b[0;34m\u001b[0m\u001b[0m\n\u001b[0;32m--> 709\u001b[0;31m             \u001b[0mmgr\u001b[0m \u001b[0;34m=\u001b[0m \u001b[0mdict_to_mgr\u001b[0m\u001b[0;34m(\u001b[0m\u001b[0mdata\u001b[0m\u001b[0;34m,\u001b[0m \u001b[0mindex\u001b[0m\u001b[0;34m,\u001b[0m \u001b[0mcolumns\u001b[0m\u001b[0;34m,\u001b[0m \u001b[0mdtype\u001b[0m\u001b[0;34m=\u001b[0m\u001b[0mdtype\u001b[0m\u001b[0;34m,\u001b[0m \u001b[0mcopy\u001b[0m\u001b[0;34m=\u001b[0m\u001b[0mcopy\u001b[0m\u001b[0;34m,\u001b[0m \u001b[0mtyp\u001b[0m\u001b[0;34m=\u001b[0m\u001b[0mmanager\u001b[0m\u001b[0;34m)\u001b[0m\u001b[0;34m\u001b[0m\u001b[0;34m\u001b[0m\u001b[0m\n\u001b[0m\u001b[1;32m    710\u001b[0m         \u001b[0;32melif\u001b[0m \u001b[0misinstance\u001b[0m\u001b[0;34m(\u001b[0m\u001b[0mdata\u001b[0m\u001b[0;34m,\u001b[0m \u001b[0mma\u001b[0m\u001b[0;34m.\u001b[0m\u001b[0mMaskedArray\u001b[0m\u001b[0;34m)\u001b[0m\u001b[0;34m:\u001b[0m\u001b[0;34m\u001b[0m\u001b[0;34m\u001b[0m\u001b[0m\n\u001b[1;32m    711\u001b[0m             \u001b[0;32mfrom\u001b[0m \u001b[0mnumpy\u001b[0m\u001b[0;34m.\u001b[0m\u001b[0mma\u001b[0m \u001b[0;32mimport\u001b[0m \u001b[0mmrecords\u001b[0m\u001b[0;34m\u001b[0m\u001b[0;34m\u001b[0m\u001b[0m\n",
            "\u001b[0;32m/usr/local/lib/python3.10/dist-packages/pandas/core/internals/construction.py\u001b[0m in \u001b[0;36mdict_to_mgr\u001b[0;34m(data, index, columns, dtype, typ, copy)\u001b[0m\n\u001b[1;32m    479\u001b[0m             \u001b[0marrays\u001b[0m \u001b[0;34m=\u001b[0m \u001b[0;34m[\u001b[0m\u001b[0mx\u001b[0m\u001b[0;34m.\u001b[0m\u001b[0mcopy\u001b[0m\u001b[0;34m(\u001b[0m\u001b[0;34m)\u001b[0m \u001b[0;32mif\u001b[0m \u001b[0mhasattr\u001b[0m\u001b[0;34m(\u001b[0m\u001b[0mx\u001b[0m\u001b[0;34m,\u001b[0m \u001b[0;34m\"dtype\"\u001b[0m\u001b[0;34m)\u001b[0m \u001b[0;32melse\u001b[0m \u001b[0mx\u001b[0m \u001b[0;32mfor\u001b[0m \u001b[0mx\u001b[0m \u001b[0;32min\u001b[0m \u001b[0marrays\u001b[0m\u001b[0;34m]\u001b[0m\u001b[0;34m\u001b[0m\u001b[0;34m\u001b[0m\u001b[0m\n\u001b[1;32m    480\u001b[0m \u001b[0;34m\u001b[0m\u001b[0m\n\u001b[0;32m--> 481\u001b[0;31m     \u001b[0;32mreturn\u001b[0m \u001b[0marrays_to_mgr\u001b[0m\u001b[0;34m(\u001b[0m\u001b[0marrays\u001b[0m\u001b[0;34m,\u001b[0m \u001b[0mcolumns\u001b[0m\u001b[0;34m,\u001b[0m \u001b[0mindex\u001b[0m\u001b[0;34m,\u001b[0m \u001b[0mdtype\u001b[0m\u001b[0;34m=\u001b[0m\u001b[0mdtype\u001b[0m\u001b[0;34m,\u001b[0m \u001b[0mtyp\u001b[0m\u001b[0;34m=\u001b[0m\u001b[0mtyp\u001b[0m\u001b[0;34m,\u001b[0m \u001b[0mconsolidate\u001b[0m\u001b[0;34m=\u001b[0m\u001b[0mcopy\u001b[0m\u001b[0;34m)\u001b[0m\u001b[0;34m\u001b[0m\u001b[0;34m\u001b[0m\u001b[0m\n\u001b[0m\u001b[1;32m    482\u001b[0m \u001b[0;34m\u001b[0m\u001b[0m\n\u001b[1;32m    483\u001b[0m \u001b[0;34m\u001b[0m\u001b[0m\n",
            "\u001b[0;32m/usr/local/lib/python3.10/dist-packages/pandas/core/internals/construction.py\u001b[0m in \u001b[0;36marrays_to_mgr\u001b[0;34m(arrays, columns, index, dtype, verify_integrity, typ, consolidate)\u001b[0m\n\u001b[1;32m    113\u001b[0m         \u001b[0;31m# figure out the index, if necessary\u001b[0m\u001b[0;34m\u001b[0m\u001b[0;34m\u001b[0m\u001b[0m\n\u001b[1;32m    114\u001b[0m         \u001b[0;32mif\u001b[0m \u001b[0mindex\u001b[0m \u001b[0;32mis\u001b[0m \u001b[0;32mNone\u001b[0m\u001b[0;34m:\u001b[0m\u001b[0;34m\u001b[0m\u001b[0;34m\u001b[0m\u001b[0m\n\u001b[0;32m--> 115\u001b[0;31m             \u001b[0mindex\u001b[0m \u001b[0;34m=\u001b[0m \u001b[0m_extract_index\u001b[0m\u001b[0;34m(\u001b[0m\u001b[0marrays\u001b[0m\u001b[0;34m)\u001b[0m\u001b[0;34m\u001b[0m\u001b[0;34m\u001b[0m\u001b[0m\n\u001b[0m\u001b[1;32m    116\u001b[0m         \u001b[0;32melse\u001b[0m\u001b[0;34m:\u001b[0m\u001b[0;34m\u001b[0m\u001b[0;34m\u001b[0m\u001b[0m\n\u001b[1;32m    117\u001b[0m             \u001b[0mindex\u001b[0m \u001b[0;34m=\u001b[0m \u001b[0mensure_index\u001b[0m\u001b[0;34m(\u001b[0m\u001b[0mindex\u001b[0m\u001b[0;34m)\u001b[0m\u001b[0;34m\u001b[0m\u001b[0;34m\u001b[0m\u001b[0m\n",
            "\u001b[0;32m/usr/local/lib/python3.10/dist-packages/pandas/core/internals/construction.py\u001b[0m in \u001b[0;36m_extract_index\u001b[0;34m(data)\u001b[0m\n\u001b[1;32m    653\u001b[0m         \u001b[0mlengths\u001b[0m \u001b[0;34m=\u001b[0m \u001b[0mlist\u001b[0m\u001b[0;34m(\u001b[0m\u001b[0mset\u001b[0m\u001b[0;34m(\u001b[0m\u001b[0mraw_lengths\u001b[0m\u001b[0;34m)\u001b[0m\u001b[0;34m)\u001b[0m\u001b[0;34m\u001b[0m\u001b[0;34m\u001b[0m\u001b[0m\n\u001b[1;32m    654\u001b[0m         \u001b[0;32mif\u001b[0m \u001b[0mlen\u001b[0m\u001b[0;34m(\u001b[0m\u001b[0mlengths\u001b[0m\u001b[0;34m)\u001b[0m \u001b[0;34m>\u001b[0m \u001b[0;36m1\u001b[0m\u001b[0;34m:\u001b[0m\u001b[0;34m\u001b[0m\u001b[0;34m\u001b[0m\u001b[0m\n\u001b[0;32m--> 655\u001b[0;31m             \u001b[0;32mraise\u001b[0m \u001b[0mValueError\u001b[0m\u001b[0;34m(\u001b[0m\u001b[0;34m\"All arrays must be of the same length\"\u001b[0m\u001b[0;34m)\u001b[0m\u001b[0;34m\u001b[0m\u001b[0;34m\u001b[0m\u001b[0m\n\u001b[0m\u001b[1;32m    656\u001b[0m \u001b[0;34m\u001b[0m\u001b[0m\n\u001b[1;32m    657\u001b[0m         \u001b[0;32mif\u001b[0m \u001b[0mhave_dicts\u001b[0m\u001b[0;34m:\u001b[0m\u001b[0;34m\u001b[0m\u001b[0;34m\u001b[0m\u001b[0m\n",
            "\u001b[0;31mValueError\u001b[0m: All arrays must be of the same length"
          ]
        }
      ]
    },
    {
      "cell_type": "code",
      "source": [
        "train_set['dataset_type'] = 'train'\n",
        "test_set['dataset_type'] = 'r1'"
      ],
      "metadata": {
        "id": "DFqXPJSsC7hb"
      },
      "execution_count": null,
      "outputs": []
    },
    {
      "cell_type": "code",
      "source": [
        "## refactor\n",
        "\n",
        "df_file1 = pd.concat([test_set[['match id','dataset_type','win_pred_team_id','win_pred_score',] + list(df_feat_importance['feat_name'].head(10))], \\\n",
        "                     train_set[['match id','dataset_type','win_pred_team_id','win_pred_score',] + list(df_feat_importance['feat_name'].head(10))]])\n",
        "\n",
        "renaming_dict = {}\n",
        "for i,col in enumerate(list(df_feat_importance['feat_name'].head(10))):\n",
        "    renaming_dict[col] = f'indep_feat_id{i+1}'\n",
        "df_file1.rename(columns=renaming_dict, inplace=True)\n",
        "\n",
        "for i in range(1,11):\n",
        "    if f'indep_feat_id{i}' not in df_file1.columns:\n",
        "        df_file1[f'indep_feat_id{i}'] = np.nan\n",
        "\n",
        "df_file1['train_algorithm'] = algo_name\n",
        "df_file1['is_ensemble'] = is_ensemble\n",
        "df_file1['train_hps_trees'] = n_trees\n",
        "df_file1['train_hps_depth'] = depth\n",
        "df_file1['train_hps_lr'] = lr"
      ],
      "metadata": {
        "id": "zVaqm7BZEIll"
      },
      "execution_count": null,
      "outputs": []
    },
    {
      "cell_type": "code",
      "source": [
        "df_file1.shape\n",
        "df_file1.head()"
      ],
      "metadata": {
        "colab": {
          "base_uri": "https://localhost:8080/",
          "height": 244
        },
        "id": "GGlVZRq-GFEt",
        "outputId": "66b0bcfc-bafa-4b19-8272-806883190a54"
      },
      "execution_count": null,
      "outputs": [
        {
          "output_type": "execute_result",
          "data": {
            "text/plain": [
              "   match id  match id dataset_type  win_pred_team_id  win_pred_score  \\\n",
              "0   8752029   8752029           r1              8917        0.601186   \n",
              "1   8764433   8764433           r1                76        0.748460   \n",
              "2   8752043   8752043           r1              7608        0.586758   \n",
              "3   8710589   8710589           r1             14286        0.691975   \n",
              "4   8710519   8710519           r1             11157        0.688622   \n",
              "\n",
              "   indep_feat_id1  indep_feat_id2  indep_feat_id3  indep_feat_id4  \\\n",
              "0       37.500000       40.000000       20.000000        0.000000   \n",
              "1        0.000000      100.000000      100.000000        0.000000   \n",
              "2       60.000000       71.428571       20.000000       40.000000   \n",
              "3        0.000000       66.666667       33.333333        0.000000   \n",
              "4       33.333333        0.000000        0.000000       33.333333   \n",
              "\n",
              "   indep_feat_id5  indep_feat_id6  indep_feat_id7  indep_feat_id8  \\\n",
              "0       52.459016      119.178439            8301        0.497336   \n",
              "1        0.000000             NaN             293        0.497336   \n",
              "2       42.857143      117.414303            8056        0.502664   \n",
              "3       28.571429             NaN           45919        0.497336   \n",
              "4       30.000000      100.326250           11157        0.502664   \n",
              "\n",
              "   indep_feat_id9  indep_feat_id10             train_algorithm is_ensemble  \\\n",
              "0        0.502664         8.839286  GradientBoostingClassifier          no   \n",
              "1        0.502664         9.675000  GradientBoostingClassifier          no   \n",
              "2        0.497336         9.051724  GradientBoostingClassifier          no   \n",
              "3        0.502664         9.352941  GradientBoostingClassifier          no   \n",
              "4        0.497336         8.675676  GradientBoostingClassifier          no   \n",
              "\n",
              "   train_hps_trees  train_hps_depth  train_hps_lr  \n",
              "0               10                2           0.1  \n",
              "1               10                2           0.1  \n",
              "2               10                2           0.1  \n",
              "3               10                2           0.1  \n",
              "4               10                2           0.1  "
            ],
            "text/html": [
              "\n",
              "  <div id=\"df-8ddf4914-9688-4c9d-8f1c-093c2d8fe27a\" class=\"colab-df-container\">\n",
              "    <div>\n",
              "<style scoped>\n",
              "    .dataframe tbody tr th:only-of-type {\n",
              "        vertical-align: middle;\n",
              "    }\n",
              "\n",
              "    .dataframe tbody tr th {\n",
              "        vertical-align: top;\n",
              "    }\n",
              "\n",
              "    .dataframe thead th {\n",
              "        text-align: right;\n",
              "    }\n",
              "</style>\n",
              "<table border=\"1\" class=\"dataframe\">\n",
              "  <thead>\n",
              "    <tr style=\"text-align: right;\">\n",
              "      <th></th>\n",
              "      <th>match id</th>\n",
              "      <th>match id</th>\n",
              "      <th>dataset_type</th>\n",
              "      <th>win_pred_team_id</th>\n",
              "      <th>win_pred_score</th>\n",
              "      <th>indep_feat_id1</th>\n",
              "      <th>indep_feat_id2</th>\n",
              "      <th>indep_feat_id3</th>\n",
              "      <th>indep_feat_id4</th>\n",
              "      <th>indep_feat_id5</th>\n",
              "      <th>indep_feat_id6</th>\n",
              "      <th>indep_feat_id7</th>\n",
              "      <th>indep_feat_id8</th>\n",
              "      <th>indep_feat_id9</th>\n",
              "      <th>indep_feat_id10</th>\n",
              "      <th>train_algorithm</th>\n",
              "      <th>is_ensemble</th>\n",
              "      <th>train_hps_trees</th>\n",
              "      <th>train_hps_depth</th>\n",
              "      <th>train_hps_lr</th>\n",
              "    </tr>\n",
              "  </thead>\n",
              "  <tbody>\n",
              "    <tr>\n",
              "      <th>0</th>\n",
              "      <td>8752029</td>\n",
              "      <td>8752029</td>\n",
              "      <td>r1</td>\n",
              "      <td>8917</td>\n",
              "      <td>0.601186</td>\n",
              "      <td>37.500000</td>\n",
              "      <td>40.000000</td>\n",
              "      <td>20.000000</td>\n",
              "      <td>0.000000</td>\n",
              "      <td>52.459016</td>\n",
              "      <td>119.178439</td>\n",
              "      <td>8301</td>\n",
              "      <td>0.497336</td>\n",
              "      <td>0.502664</td>\n",
              "      <td>8.839286</td>\n",
              "      <td>GradientBoostingClassifier</td>\n",
              "      <td>no</td>\n",
              "      <td>10</td>\n",
              "      <td>2</td>\n",
              "      <td>0.1</td>\n",
              "    </tr>\n",
              "    <tr>\n",
              "      <th>1</th>\n",
              "      <td>8764433</td>\n",
              "      <td>8764433</td>\n",
              "      <td>r1</td>\n",
              "      <td>76</td>\n",
              "      <td>0.748460</td>\n",
              "      <td>0.000000</td>\n",
              "      <td>100.000000</td>\n",
              "      <td>100.000000</td>\n",
              "      <td>0.000000</td>\n",
              "      <td>0.000000</td>\n",
              "      <td>NaN</td>\n",
              "      <td>293</td>\n",
              "      <td>0.497336</td>\n",
              "      <td>0.502664</td>\n",
              "      <td>9.675000</td>\n",
              "      <td>GradientBoostingClassifier</td>\n",
              "      <td>no</td>\n",
              "      <td>10</td>\n",
              "      <td>2</td>\n",
              "      <td>0.1</td>\n",
              "    </tr>\n",
              "    <tr>\n",
              "      <th>2</th>\n",
              "      <td>8752043</td>\n",
              "      <td>8752043</td>\n",
              "      <td>r1</td>\n",
              "      <td>7608</td>\n",
              "      <td>0.586758</td>\n",
              "      <td>60.000000</td>\n",
              "      <td>71.428571</td>\n",
              "      <td>20.000000</td>\n",
              "      <td>40.000000</td>\n",
              "      <td>42.857143</td>\n",
              "      <td>117.414303</td>\n",
              "      <td>8056</td>\n",
              "      <td>0.502664</td>\n",
              "      <td>0.497336</td>\n",
              "      <td>9.051724</td>\n",
              "      <td>GradientBoostingClassifier</td>\n",
              "      <td>no</td>\n",
              "      <td>10</td>\n",
              "      <td>2</td>\n",
              "      <td>0.1</td>\n",
              "    </tr>\n",
              "    <tr>\n",
              "      <th>3</th>\n",
              "      <td>8710589</td>\n",
              "      <td>8710589</td>\n",
              "      <td>r1</td>\n",
              "      <td>14286</td>\n",
              "      <td>0.691975</td>\n",
              "      <td>0.000000</td>\n",
              "      <td>66.666667</td>\n",
              "      <td>33.333333</td>\n",
              "      <td>0.000000</td>\n",
              "      <td>28.571429</td>\n",
              "      <td>NaN</td>\n",
              "      <td>45919</td>\n",
              "      <td>0.497336</td>\n",
              "      <td>0.502664</td>\n",
              "      <td>9.352941</td>\n",
              "      <td>GradientBoostingClassifier</td>\n",
              "      <td>no</td>\n",
              "      <td>10</td>\n",
              "      <td>2</td>\n",
              "      <td>0.1</td>\n",
              "    </tr>\n",
              "    <tr>\n",
              "      <th>4</th>\n",
              "      <td>8710519</td>\n",
              "      <td>8710519</td>\n",
              "      <td>r1</td>\n",
              "      <td>11157</td>\n",
              "      <td>0.688622</td>\n",
              "      <td>33.333333</td>\n",
              "      <td>0.000000</td>\n",
              "      <td>0.000000</td>\n",
              "      <td>33.333333</td>\n",
              "      <td>30.000000</td>\n",
              "      <td>100.326250</td>\n",
              "      <td>11157</td>\n",
              "      <td>0.502664</td>\n",
              "      <td>0.497336</td>\n",
              "      <td>8.675676</td>\n",
              "      <td>GradientBoostingClassifier</td>\n",
              "      <td>no</td>\n",
              "      <td>10</td>\n",
              "      <td>2</td>\n",
              "      <td>0.1</td>\n",
              "    </tr>\n",
              "  </tbody>\n",
              "</table>\n",
              "</div>\n",
              "    <div class=\"colab-df-buttons\">\n",
              "\n",
              "  <div class=\"colab-df-container\">\n",
              "    <button class=\"colab-df-convert\" onclick=\"convertToInteractive('df-8ddf4914-9688-4c9d-8f1c-093c2d8fe27a')\"\n",
              "            title=\"Convert this dataframe to an interactive table.\"\n",
              "            style=\"display:none;\">\n",
              "\n",
              "  <svg xmlns=\"http://www.w3.org/2000/svg\" height=\"24px\" viewBox=\"0 -960 960 960\">\n",
              "    <path d=\"M120-120v-720h720v720H120Zm60-500h600v-160H180v160Zm220 220h160v-160H400v160Zm0 220h160v-160H400v160ZM180-400h160v-160H180v160Zm440 0h160v-160H620v160ZM180-180h160v-160H180v160Zm440 0h160v-160H620v160Z\"/>\n",
              "  </svg>\n",
              "    </button>\n",
              "\n",
              "  <style>\n",
              "    .colab-df-container {\n",
              "      display:flex;\n",
              "      gap: 12px;\n",
              "    }\n",
              "\n",
              "    .colab-df-convert {\n",
              "      background-color: #E8F0FE;\n",
              "      border: none;\n",
              "      border-radius: 50%;\n",
              "      cursor: pointer;\n",
              "      display: none;\n",
              "      fill: #1967D2;\n",
              "      height: 32px;\n",
              "      padding: 0 0 0 0;\n",
              "      width: 32px;\n",
              "    }\n",
              "\n",
              "    .colab-df-convert:hover {\n",
              "      background-color: #E2EBFA;\n",
              "      box-shadow: 0px 1px 2px rgba(60, 64, 67, 0.3), 0px 1px 3px 1px rgba(60, 64, 67, 0.15);\n",
              "      fill: #174EA6;\n",
              "    }\n",
              "\n",
              "    .colab-df-buttons div {\n",
              "      margin-bottom: 4px;\n",
              "    }\n",
              "\n",
              "    [theme=dark] .colab-df-convert {\n",
              "      background-color: #3B4455;\n",
              "      fill: #D2E3FC;\n",
              "    }\n",
              "\n",
              "    [theme=dark] .colab-df-convert:hover {\n",
              "      background-color: #434B5C;\n",
              "      box-shadow: 0px 1px 3px 1px rgba(0, 0, 0, 0.15);\n",
              "      filter: drop-shadow(0px 1px 2px rgba(0, 0, 0, 0.3));\n",
              "      fill: #FFFFFF;\n",
              "    }\n",
              "  </style>\n",
              "\n",
              "    <script>\n",
              "      const buttonEl =\n",
              "        document.querySelector('#df-8ddf4914-9688-4c9d-8f1c-093c2d8fe27a button.colab-df-convert');\n",
              "      buttonEl.style.display =\n",
              "        google.colab.kernel.accessAllowed ? 'block' : 'none';\n",
              "\n",
              "      async function convertToInteractive(key) {\n",
              "        const element = document.querySelector('#df-8ddf4914-9688-4c9d-8f1c-093c2d8fe27a');\n",
              "        const dataTable =\n",
              "          await google.colab.kernel.invokeFunction('convertToInteractive',\n",
              "                                                    [key], {});\n",
              "        if (!dataTable) return;\n",
              "\n",
              "        const docLinkHtml = 'Like what you see? Visit the ' +\n",
              "          '<a target=\"_blank\" href=https://colab.research.google.com/notebooks/data_table.ipynb>data table notebook</a>'\n",
              "          + ' to learn more about interactive tables.';\n",
              "        element.innerHTML = '';\n",
              "        dataTable['output_type'] = 'display_data';\n",
              "        await google.colab.output.renderOutput(dataTable, element);\n",
              "        const docLink = document.createElement('div');\n",
              "        docLink.innerHTML = docLinkHtml;\n",
              "        element.appendChild(docLink);\n",
              "      }\n",
              "    </script>\n",
              "  </div>\n",
              "\n",
              "\n",
              "<div id=\"df-f26cebf8-a6c6-4ad0-96b9-f3658899e884\">\n",
              "  <button class=\"colab-df-quickchart\" onclick=\"quickchart('df-f26cebf8-a6c6-4ad0-96b9-f3658899e884')\"\n",
              "            title=\"Suggest charts\"\n",
              "            style=\"display:none;\">\n",
              "\n",
              "<svg xmlns=\"http://www.w3.org/2000/svg\" height=\"24px\"viewBox=\"0 0 24 24\"\n",
              "     width=\"24px\">\n",
              "    <g>\n",
              "        <path d=\"M19 3H5c-1.1 0-2 .9-2 2v14c0 1.1.9 2 2 2h14c1.1 0 2-.9 2-2V5c0-1.1-.9-2-2-2zM9 17H7v-7h2v7zm4 0h-2V7h2v10zm4 0h-2v-4h2v4z\"/>\n",
              "    </g>\n",
              "</svg>\n",
              "  </button>\n",
              "\n",
              "<style>\n",
              "  .colab-df-quickchart {\n",
              "      --bg-color: #E8F0FE;\n",
              "      --fill-color: #1967D2;\n",
              "      --hover-bg-color: #E2EBFA;\n",
              "      --hover-fill-color: #174EA6;\n",
              "      --disabled-fill-color: #AAA;\n",
              "      --disabled-bg-color: #DDD;\n",
              "  }\n",
              "\n",
              "  [theme=dark] .colab-df-quickchart {\n",
              "      --bg-color: #3B4455;\n",
              "      --fill-color: #D2E3FC;\n",
              "      --hover-bg-color: #434B5C;\n",
              "      --hover-fill-color: #FFFFFF;\n",
              "      --disabled-bg-color: #3B4455;\n",
              "      --disabled-fill-color: #666;\n",
              "  }\n",
              "\n",
              "  .colab-df-quickchart {\n",
              "    background-color: var(--bg-color);\n",
              "    border: none;\n",
              "    border-radius: 50%;\n",
              "    cursor: pointer;\n",
              "    display: none;\n",
              "    fill: var(--fill-color);\n",
              "    height: 32px;\n",
              "    padding: 0;\n",
              "    width: 32px;\n",
              "  }\n",
              "\n",
              "  .colab-df-quickchart:hover {\n",
              "    background-color: var(--hover-bg-color);\n",
              "    box-shadow: 0 1px 2px rgba(60, 64, 67, 0.3), 0 1px 3px 1px rgba(60, 64, 67, 0.15);\n",
              "    fill: var(--button-hover-fill-color);\n",
              "  }\n",
              "\n",
              "  .colab-df-quickchart-complete:disabled,\n",
              "  .colab-df-quickchart-complete:disabled:hover {\n",
              "    background-color: var(--disabled-bg-color);\n",
              "    fill: var(--disabled-fill-color);\n",
              "    box-shadow: none;\n",
              "  }\n",
              "\n",
              "  .colab-df-spinner {\n",
              "    border: 2px solid var(--fill-color);\n",
              "    border-color: transparent;\n",
              "    border-bottom-color: var(--fill-color);\n",
              "    animation:\n",
              "      spin 1s steps(1) infinite;\n",
              "  }\n",
              "\n",
              "  @keyframes spin {\n",
              "    0% {\n",
              "      border-color: transparent;\n",
              "      border-bottom-color: var(--fill-color);\n",
              "      border-left-color: var(--fill-color);\n",
              "    }\n",
              "    20% {\n",
              "      border-color: transparent;\n",
              "      border-left-color: var(--fill-color);\n",
              "      border-top-color: var(--fill-color);\n",
              "    }\n",
              "    30% {\n",
              "      border-color: transparent;\n",
              "      border-left-color: var(--fill-color);\n",
              "      border-top-color: var(--fill-color);\n",
              "      border-right-color: var(--fill-color);\n",
              "    }\n",
              "    40% {\n",
              "      border-color: transparent;\n",
              "      border-right-color: var(--fill-color);\n",
              "      border-top-color: var(--fill-color);\n",
              "    }\n",
              "    60% {\n",
              "      border-color: transparent;\n",
              "      border-right-color: var(--fill-color);\n",
              "    }\n",
              "    80% {\n",
              "      border-color: transparent;\n",
              "      border-right-color: var(--fill-color);\n",
              "      border-bottom-color: var(--fill-color);\n",
              "    }\n",
              "    90% {\n",
              "      border-color: transparent;\n",
              "      border-bottom-color: var(--fill-color);\n",
              "    }\n",
              "  }\n",
              "</style>\n",
              "\n",
              "  <script>\n",
              "    async function quickchart(key) {\n",
              "      const quickchartButtonEl =\n",
              "        document.querySelector('#' + key + ' button');\n",
              "      quickchartButtonEl.disabled = true;  // To prevent multiple clicks.\n",
              "      quickchartButtonEl.classList.add('colab-df-spinner');\n",
              "      try {\n",
              "        const charts = await google.colab.kernel.invokeFunction(\n",
              "            'suggestCharts', [key], {});\n",
              "      } catch (error) {\n",
              "        console.error('Error during call to suggestCharts:', error);\n",
              "      }\n",
              "      quickchartButtonEl.classList.remove('colab-df-spinner');\n",
              "      quickchartButtonEl.classList.add('colab-df-quickchart-complete');\n",
              "    }\n",
              "    (() => {\n",
              "      let quickchartButtonEl =\n",
              "        document.querySelector('#df-f26cebf8-a6c6-4ad0-96b9-f3658899e884 button');\n",
              "      quickchartButtonEl.style.display =\n",
              "        google.colab.kernel.accessAllowed ? 'block' : 'none';\n",
              "    })();\n",
              "  </script>\n",
              "</div>\n",
              "    </div>\n",
              "  </div>\n"
            ],
            "application/vnd.google.colaboratory.intrinsic+json": {
              "type": "dataframe",
              "variable_name": "df_file1",
              "summary": "{\n  \"name\": \"df_file1\",\n  \"rows\": 1689,\n  \"fields\": [\n    {\n      \"column\": \"match id\",\n      \"properties\": {\n        \"dtype\": \"number\",\n        \"std\": 320055,\n        \"min\": 8587795,\n        \"max\": 9887863,\n        \"num_unique_values\": 1689,\n        \"samples\": [\n          9150140,\n          8778664,\n          9484537\n        ],\n        \"semantic_type\": \"\",\n        \"description\": \"\"\n      }\n    },\n    {\n      \"column\": \"match id\",\n      \"properties\": {\n        \"dtype\": \"number\",\n        \"std\": 320055,\n        \"min\": 8587795,\n        \"max\": 9887863,\n        \"num_unique_values\": 1689,\n        \"samples\": [\n          9150140,\n          8778664,\n          9484537\n        ],\n        \"semantic_type\": \"\",\n        \"description\": \"\"\n      }\n    },\n    {\n      \"column\": \"dataset_type\",\n      \"properties\": {\n        \"dtype\": \"category\",\n        \"num_unique_values\": 2,\n        \"samples\": [\n          \"train\",\n          \"r1\"\n        ],\n        \"semantic_type\": \"\",\n        \"description\": \"\"\n      }\n    },\n    {\n      \"column\": \"win_pred_team_id\",\n      \"properties\": {\n        \"dtype\": \"number\",\n        \"std\": 16912,\n        \"min\": 20,\n        \"max\": 49657,\n        \"num_unique_values\": 172,\n        \"samples\": [\n          16015,\n          1210\n        ],\n        \"semantic_type\": \"\",\n        \"description\": \"\"\n      }\n    },\n    {\n      \"column\": \"win_pred_score\",\n      \"properties\": {\n        \"dtype\": \"number\",\n        \"std\": 0.07754763740265705,\n        \"min\": 0.5034297035803026,\n        \"max\": 0.7720006889712239,\n        \"num_unique_values\": 135,\n        \"samples\": [\n          0.6162864376567943,\n          0.5866269427572532\n        ],\n        \"semantic_type\": \"\",\n        \"description\": \"\"\n      }\n    },\n    {\n      \"column\": \"indep_feat_id1\",\n      \"properties\": {\n        \"dtype\": \"number\",\n        \"std\": 31.12981570912164,\n        \"min\": 0.0,\n        \"max\": 100.0,\n        \"num_unique_values\": 65,\n        \"samples\": [\n          69.23076923076923,\n          64.28571428571429\n        ],\n        \"semantic_type\": \"\",\n        \"description\": \"\"\n      }\n    },\n    {\n      \"column\": \"indep_feat_id2\",\n      \"properties\": {\n        \"dtype\": \"number\",\n        \"std\": 31.07816037340804,\n        \"min\": 0.0,\n        \"max\": 100.0,\n        \"num_unique_values\": 65,\n        \"samples\": [\n          47.82608695652174,\n          92.3076923076923\n        ],\n        \"semantic_type\": \"\",\n        \"description\": \"\"\n      }\n    },\n    {\n      \"column\": \"indep_feat_id3\",\n      \"properties\": {\n        \"dtype\": \"number\",\n        \"std\": 26.615900195668715,\n        \"min\": 0.0,\n        \"max\": 100.0,\n        \"num_unique_values\": 11,\n        \"samples\": [\n          80.0,\n          20.0\n        ],\n        \"semantic_type\": \"\",\n        \"description\": \"\"\n      }\n    },\n    {\n      \"column\": \"indep_feat_id4\",\n      \"properties\": {\n        \"dtype\": \"number\",\n        \"std\": 27.601388473447976,\n        \"min\": 0.0,\n        \"max\": 100.0,\n        \"num_unique_values\": 11,\n        \"samples\": [\n          60.0,\n          0.0\n        ],\n        \"semantic_type\": \"\",\n        \"description\": \"\"\n      }\n    },\n    {\n      \"column\": \"indep_feat_id5\",\n      \"properties\": {\n        \"dtype\": \"number\",\n        \"std\": 21.56357488295901,\n        \"min\": 0.0,\n        \"max\": 100.0,\n        \"num_unique_values\": 80,\n        \"samples\": [\n          40.0,\n          52.459016393442624\n        ],\n        \"semantic_type\": \"\",\n        \"description\": \"\"\n      }\n    },\n    {\n      \"column\": \"indep_feat_id6\",\n      \"properties\": {\n        \"dtype\": \"number\",\n        \"std\": 15.805308555529388,\n        \"min\": 29.17,\n        \"max\": 185.79500000000002,\n        \"num_unique_values\": 980,\n        \"samples\": [\n          113.56666666666668,\n          113.4283181818182\n        ],\n        \"semantic_type\": \"\",\n        \"description\": \"\"\n      }\n    },\n    {\n      \"column\": \"indep_feat_id7\",\n      \"properties\": {\n        \"dtype\": \"number\",\n        \"std\": 16785,\n        \"min\": 20,\n        \"max\": 49657,\n        \"num_unique_values\": 167,\n        \"samples\": [\n          30414,\n          40550\n        ],\n        \"semantic_type\": \"\",\n        \"description\": \"\"\n      }\n    },\n    {\n      \"column\": \"indep_feat_id8\",\n      \"properties\": {\n        \"dtype\": \"number\",\n        \"std\": 0.002575181494019081,\n        \"min\": 0.4973357015985791,\n        \"max\": 0.5026642984014209,\n        \"num_unique_values\": 2,\n        \"samples\": [\n          0.5026642984014209,\n          0.4973357015985791\n        ],\n        \"semantic_type\": \"\",\n        \"description\": \"\"\n      }\n    },\n    {\n      \"column\": \"indep_feat_id9\",\n      \"properties\": {\n        \"dtype\": \"number\",\n        \"std\": 0.0025751814940190806,\n        \"min\": 0.4973357015985791,\n        \"max\": 0.5026642984014209,\n        \"num_unique_values\": 2,\n        \"samples\": [\n          0.4973357015985791,\n          0.5026642984014209\n        ],\n        \"semantic_type\": \"\",\n        \"description\": \"\"\n      }\n    },\n    {\n      \"column\": \"indep_feat_id10\",\n      \"properties\": {\n        \"dtype\": \"number\",\n        \"std\": 1.9830247558447416,\n        \"min\": 0.0,\n        \"max\": 14.7,\n        \"num_unique_values\": 1485,\n        \"samples\": [\n          10.1003861003861,\n          8.460504201680672\n        ],\n        \"semantic_type\": \"\",\n        \"description\": \"\"\n      }\n    },\n    {\n      \"column\": \"train_algorithm\",\n      \"properties\": {\n        \"dtype\": \"category\",\n        \"num_unique_values\": 1,\n        \"samples\": [\n          \"GradientBoostingClassifier\"\n        ],\n        \"semantic_type\": \"\",\n        \"description\": \"\"\n      }\n    },\n    {\n      \"column\": \"is_ensemble\",\n      \"properties\": {\n        \"dtype\": \"category\",\n        \"num_unique_values\": 1,\n        \"samples\": [\n          \"no\"\n        ],\n        \"semantic_type\": \"\",\n        \"description\": \"\"\n      }\n    },\n    {\n      \"column\": \"train_hps_trees\",\n      \"properties\": {\n        \"dtype\": \"number\",\n        \"std\": 0,\n        \"min\": 10,\n        \"max\": 10,\n        \"num_unique_values\": 1,\n        \"samples\": [\n          10\n        ],\n        \"semantic_type\": \"\",\n        \"description\": \"\"\n      }\n    },\n    {\n      \"column\": \"train_hps_depth\",\n      \"properties\": {\n        \"dtype\": \"number\",\n        \"std\": 0,\n        \"min\": 2,\n        \"max\": 2,\n        \"num_unique_values\": 1,\n        \"samples\": [\n          2\n        ],\n        \"semantic_type\": \"\",\n        \"description\": \"\"\n      }\n    },\n    {\n      \"column\": \"train_hps_lr\",\n      \"properties\": {\n        \"dtype\": \"number\",\n        \"std\": 0.0,\n        \"min\": 0.1,\n        \"max\": 0.1,\n        \"num_unique_values\": 1,\n        \"samples\": [\n          0.1\n        ],\n        \"semantic_type\": \"\",\n        \"description\": \"\"\n      }\n    }\n  ]\n}"
            }
          },
          "metadata": {},
          "execution_count": 432
        }
      ]
    },
    {
      "cell_type": "code",
      "source": [
        "# df_feat_importance.rename(index={0:'feat_id'}, inplace=True)\n",
        "df_file2 = df_feat_importance\n",
        "df_file2['feat_id'] = [i+1 for i in df_file2.index]\n",
        "df_file2['feat_rank_train'] = [i+1 for i in df_file2.index]\n",
        "df_file2 = df_file2.set_index('feat_id')\n",
        "df_file2['feat_description'] = \"Lund_mera\""
      ],
      "metadata": {
        "id": "WeTyodAzIF3e",
        "outputId": "8da07818-daeb-4c50-ac1a-e2f0ce0b7027",
        "colab": {
          "base_uri": "https://localhost:8080/",
          "height": 211
        }
      },
      "execution_count": null,
      "outputs": [
        {
          "output_type": "error",
          "ename": "NameError",
          "evalue": "name 'df_feat_importance' is not defined",
          "traceback": [
            "\u001b[0;31m---------------------------------------------------------------------------\u001b[0m",
            "\u001b[0;31mNameError\u001b[0m                                 Traceback (most recent call last)",
            "\u001b[0;32m<ipython-input-1-44391ae4d782>\u001b[0m in \u001b[0;36m<cell line: 2>\u001b[0;34m()\u001b[0m\n\u001b[1;32m      1\u001b[0m \u001b[0;31m# df_feat_importance.rename(index={0:'feat_id'}, inplace=True)\u001b[0m\u001b[0;34m\u001b[0m\u001b[0;34m\u001b[0m\u001b[0m\n\u001b[0;32m----> 2\u001b[0;31m \u001b[0mdf_file2\u001b[0m \u001b[0;34m=\u001b[0m \u001b[0mdf_feat_importance\u001b[0m\u001b[0;34m\u001b[0m\u001b[0;34m\u001b[0m\u001b[0m\n\u001b[0m\u001b[1;32m      3\u001b[0m \u001b[0mdf_file2\u001b[0m\u001b[0;34m[\u001b[0m\u001b[0;34m'feat_id'\u001b[0m\u001b[0;34m]\u001b[0m \u001b[0;34m=\u001b[0m \u001b[0;34m[\u001b[0m\u001b[0mi\u001b[0m\u001b[0;34m+\u001b[0m\u001b[0;36m1\u001b[0m \u001b[0;32mfor\u001b[0m \u001b[0mi\u001b[0m \u001b[0;32min\u001b[0m \u001b[0mdf_file2\u001b[0m\u001b[0;34m.\u001b[0m\u001b[0mindex\u001b[0m\u001b[0;34m]\u001b[0m\u001b[0;34m\u001b[0m\u001b[0;34m\u001b[0m\u001b[0m\n\u001b[1;32m      4\u001b[0m \u001b[0mdf_file2\u001b[0m\u001b[0;34m[\u001b[0m\u001b[0;34m'feat_rank_train'\u001b[0m\u001b[0;34m]\u001b[0m \u001b[0;34m=\u001b[0m \u001b[0;34m[\u001b[0m\u001b[0mi\u001b[0m\u001b[0;34m+\u001b[0m\u001b[0;36m1\u001b[0m \u001b[0;32mfor\u001b[0m \u001b[0mi\u001b[0m \u001b[0;32min\u001b[0m \u001b[0mdf_file2\u001b[0m\u001b[0;34m.\u001b[0m\u001b[0mindex\u001b[0m\u001b[0;34m]\u001b[0m\u001b[0;34m\u001b[0m\u001b[0;34m\u001b[0m\u001b[0m\n\u001b[1;32m      5\u001b[0m \u001b[0mdf_file2\u001b[0m \u001b[0;34m=\u001b[0m \u001b[0mdf_file2\u001b[0m\u001b[0;34m.\u001b[0m\u001b[0mset_index\u001b[0m\u001b[0;34m(\u001b[0m\u001b[0;34m'feat_id'\u001b[0m\u001b[0;34m)\u001b[0m\u001b[0;34m\u001b[0m\u001b[0;34m\u001b[0m\u001b[0m\n",
            "\u001b[0;31mNameError\u001b[0m: name 'df_feat_importance' is not defined"
          ]
        }
      ]
    },
    {
      "cell_type": "code",
      "source": [
        "df_file1.to_csv('file1.csv', index=False)\n",
        "df_file2.to_csv('file2.csv')"
      ],
      "metadata": {
        "id": "m9VjXxbgIWJy"
      },
      "execution_count": null,
      "outputs": []
    },
    {
      "cell_type": "code",
      "source": [
        "import pandas as pd\n",
        "import sys\n",
        "\n",
        "\n",
        "# Instructions for participants :\n",
        "'''\n",
        "Participants can use this code to run on labeled train/out-of-sample data to mimic evaluation process.\n",
        "### Datasets required:\n",
        "This script takes in 3 files as follows:\n",
        "\n",
        "primary_submission.csv -> This contains the match_id, dataset_type, win_pred_team_id, win_pred_score, train_algorithm, is_ensemble, train_hps_trees, train_hps_depth, train_hps_lr, *top 10 feature values. This is file submitted by participant.\n",
        "secondary_submission.csv -> This contains feature_name, feature_description, model_feature_importance_rank, model_feature_importance_percentage, feature_correlation_dep_var. This is file submitted by participant.\n",
        "dep_var.csv    -> This contains match_id, dataset_type, win_team_id. Participants can generate from the labeled train data.\n",
        "\n",
        "Please ensure that the predicted_score column does not have any null columns and the column names are exactly matching as above.\n",
        "Please ensure that all these files are stored as ',' separated csv files.\n",
        "\n",
        "### How to use:\n",
        "To use this, first open the command line terminal, and call evaluation code script by passing the locations of submission and actual files respectively.\n",
        "Sample example of using commandline for running the script:\n",
        "\n",
        "python Evaluation_Code.py path_to_primary_submission_file path_to_secondary_submission_file path_to_DepVar_file\n",
        "'''\n",
        "\n",
        "\n",
        "def checkDataType1(df):\n",
        "    assert (df['match id'].isna().sum() == 0), 'match id should not have NaNs'\n",
        "    assert (df['match id'].dtype == 'int64'), ('match id is not int64 type')\n",
        "    assert df['win_pred_team_id'].isna().sum(\n",
        "    ) == 0, 'win_pred_team_id should not have NaNs'\n",
        "    assert df['win_pred_team_id'].dtype == 'int64', (\n",
        "        'win_pred_team_id is not int64 type')\n",
        "    assert df['win_pred_score'].isna().sum(\n",
        "    ) == 0, 'win_pred_score should not have NaNs'\n",
        "    assert df['win_pred_score'].dtype == 'float64', (\n",
        "        'win_pred_score is not float64 type')\n",
        "    assert df['train_algorithm'].isna().sum(\n",
        "    ) == 0, 'train_algorithm should not have NaNs'\n",
        "    assert df['train_algorithm'].dtype == 'object', (\n",
        "        'train_algorithm is not object type')\n",
        "    assert df['is_ensemble'].isna().sum(\n",
        "    ) == 0, 'is_ensemble should not have NaNs'\n",
        "    assert df['is_ensemble'].dtype == 'object', (\n",
        "        'is_ensemble is not object type')\n",
        "    assert df['train_hps_trees'].isna().sum(\n",
        "    ) == 0, 'train_hps_trees should not have NaNs'\n",
        "    assert df['train_hps_depth'].isna().sum(\n",
        "    ) == 0, 'train_hps_depth should not have NaNs'\n",
        "    assert df['train_hps_lr'].isna().sum(\n",
        "    ) == 0, 'train_hps_lr should not have NaNs'\n",
        "    return None\n",
        "\n",
        "\n",
        "def checkDataType2(df):\n",
        "    assert df['feat_id'].isna().sum() == 0, 'feat_id should not have NaNs'\n",
        "    assert df['feat_id'].dtype == 'int64', ('feat_id is not int type')\n",
        "    assert df['feat_name'].isna().sum() == 0, 'feat_name should not have NaNs'\n",
        "    assert df['feat_name'].dtype == 'object', ('feat_name is not object type')\n",
        "    assert df['feat_description'].isna().sum(\n",
        "    ) == 0, 'feat_description should not have NaNs'\n",
        "    assert df['feat_description'].dtype == 'object', (\n",
        "        'feat_description is not object type')\n",
        "    assert df['model_feat_imp_train'].isna().sum(\n",
        "    ) == 0, ' model_feat_imp_train should not have NaNs'\n",
        "    assert df['model_feat_imp_train'].dtype == 'float64', (\n",
        "        'model_feat_imp_train is not float type')\n",
        "    assert df['feat_rank_train'].isna().sum(\n",
        "    ) == 0, 'feat_rank_train should not have NaNs'\n",
        "    assert df['feat_rank_train'].dtype == 'int64', (\n",
        "        'feat_rank_train is not int64 type')\n",
        "    return None\n",
        "\n",
        "\n",
        "def getAccuracy(df):\n",
        "    return round(df[df['winner_id'] == df['win_pred_team_id']].shape[0]*100/df.shape[0], 4)\n",
        "\n",
        "if len(sys.argv) != 4:\n",
        "  sys.exit(\"Please pass three files only as mentioned in the Instructions.\")\n",
        "\n",
        "# Location of submission file. Header here should include match_id, dataset_type, win_team_id. The file should be comma separated.\n",
        "input1_address = /content/file1.csv\n",
        "df_input1 = pd.read_csv(input1_address, sep=\",\", header=0)\n",
        "\n",
        "input2_address = /content/file2.csv\n",
        "df_input2 = pd.read_csv(input2_address, sep=\",\", header=0)\n",
        "\n",
        "# For participants Team : Location of Dependent Variable file. Header here would be match_id, dataset_type, win_team_id. Participants can generate from the labeled train data. These files are comma separated\n",
        "round_eval = sys.argv[3]\n",
        "df_round = pd.read_csv(round_eval, sep=\",\", header=0)\n",
        "\n",
        "assert set(['match id', 'dataset_type', 'win_pred_team_id', 'win_pred_score', 'train_algorithm', 'is_ensemble', 'train_hps_trees',\n",
        "           'train_hps_depth', 'train_hps_lr']).issubset(set(df_input1.columns.tolist())), 'Required columns not present in primary submission file'\n",
        "assert set(['indep_feat_id1', 'indep_feat_id2', 'indep_feat_id3', 'indep_feat_id4', 'indep_feat_id5', 'indep_feat_id6', 'indep_feat_id7', 'indep_feat_id8',\n",
        "           'indep_feat_id9', 'indep_feat_id10']).issubset(set(df_input1.columns.tolist())), 'Required indepedent feature columns not present in primary submission file'\n",
        "assert set(['feat_id', 'feat_name', 'feat_description', 'model_feat_imp_train', 'feat_rank_train']).issubset(\n",
        "    set(df_input2.columns.tolist())), 'Required columns not present in secondary submission file'\n",
        "\n",
        "checkDataType1(df_input1)\n",
        "checkDataType2(df_input2)\n",
        "\n",
        "assert df_input1.shape[0] == df_input1.drop_duplicates(\n",
        "    'match id').shape[0], 'Input file should be unique on match id'\n",
        "# assert df_input1.shape[\n",
        "#     0] == 1219, f'Input file size number of rows incorrect. Expected rowsize 1219 not equal to uploaded data rowsize {df_input1.shape[0]}'\n",
        "assert df_input1.shape[1] == 19, 'Input file number of columns not correct. '\n",
        "assert (df_input1.win_pred_score.min() >= 0) & (df_input1.win_pred_score.max(\n",
        ") <= 1), 'Win prediction score should be in range [0,1]'\n",
        "assert df_input1['train_algorithm'].nunique(\n",
        ") == 1, 'only one algorithm can be used for all data'\n",
        "assert (len(df_input1['is_ensemble'].unique().tolist()) == 1) & ((df_input1['is_ensemble'].unique().tolist()[\n",
        "    0] == 'yes') | (df_input1['is_ensemble'].unique().tolist()[0] == 'no')), 'is_ensemble can take only \\'yes\\' or \\'no\\''\n",
        "assert df_input1.apply(lambda x: 0 if (len(str(x['train_algorithm']).split(';')) == len(str(x['train_hps_trees']).split(';'))) &\n",
        "                       (len(str(x['train_algorithm']).split(';')) == len(str(x['train_hps_depth']).split(';'))) & (len(str(x['train_algorithm']).split(';')) == len(str(x['train_hps_lr']).split(';'))) else 1, axis=1).max() == 0, 'number of fields in algorithm & hyper-parameters column should be same.'\n",
        "\n",
        "'''\n",
        "shape_before_join = df_round.shape[0]\n",
        "\n",
        "r1_size = df_input1[df_input1['dataset_type'] == 'r1'].shape[0]\n",
        "assert (r1_size ==\n",
        "        df_round.shape[0]), f'R1 data size in input file is incorrect. Expected rowsize 271 not equal to r1 dataset_type present {r1_size}'\n",
        "'''\n",
        "\n",
        "# merging predicted file and dependent variable file\n",
        "eval_data = pd.merge(df_round, df_input1, on=[\n",
        "                     'match id'], how='inner').drop_duplicates()\n",
        "assert (eval_data.shape[0] == df_round.shape[0]\n",
        "        ), 'match ids in submission template does not match eval data'\n",
        "\n",
        "print('All checks passed...')\n",
        "print('Accuracy: ', round(getAccuracy(eval_data), 2))"
      ],
      "metadata": {
        "id": "9DIL6szSIiwN"
      },
      "execution_count": null,
      "outputs": []
    }
  ],
  "metadata": {
    "colab": {
      "provenance": []
    },
    "kernelspec": {
      "display_name": "Python 3",
      "name": "python3"
    },
    "language_info": {
      "name": "python"
    }
  },
  "nbformat": 4,
  "nbformat_minor": 0
}